{
  "nbformat": 4,
  "nbformat_minor": 0,
  "metadata": {
    "colab": {
      "name": "BIXIcode_cleanVersion.ipynb",
      "provenance": [],
      "collapsed_sections": [],
      "toc_visible": true
    },
    "kernelspec": {
      "display_name": "Python 3",
      "language": "python",
      "name": "python3"
    },
    "language_info": {
      "codemirror_mode": {
        "name": "ipython",
        "version": 3
      },
      "file_extension": ".py",
      "mimetype": "text/x-python",
      "name": "python",
      "nbconvert_exporter": "python",
      "pygments_lexer": "ipython3",
      "version": "3.7.0"
    }
  },
  "cells": [
    {
      "cell_type": "markdown",
      "metadata": {
        "id": "JPwfFELTzKzm"
      },
      "source": [
        "# Understanding BIXI users’ behaviour based on weather, calendar and geospatial data"
      ]
    },
    {
      "cell_type": "markdown",
      "metadata": {
        "id": "a0E2KTgXC5eI"
      },
      "source": [
        "## Goals of the project"
      ]
    },
    {
      "cell_type": "markdown",
      "metadata": {
        "id": "W-yHG5IGC5eJ"
      },
      "source": [
        "The specified goal of our proposed research is to predict and analyze BIXI users’ behavior (within the BIXI season, which usually lasts from April to November), based on historical weather data (temperature, wind, precipitations, etc.), calendar data (time of the day, day of the week, holidays) and geographical location within the island of Montreal. The project was split into two specific sub-questions:\n",
        "\n",
        "1) How can we use weather and calendar data to predict hourly bike demand and average trip duration? (See Section 2)\n",
        "\n",
        "2) How can we cluster stations together to better understand the bike flow within the city? (See Sections 3 and 4)\n",
        "\n",
        "This code is commented to give a general sense of the steps taken. More discussion on our methodology and results can be found in the pdf report available in the same GitHub folder as this one."
      ]
    },
    {
      "cell_type": "markdown",
      "metadata": {
        "id": "uUDdu9VO0-f7"
      },
      "source": [
        "This project was completed as part of the requirements for MATH 80629A - Machine Learning I: Large-scale data analysis and decision making.\n",
        "HEC Montréal, April 2021\n",
        "A project by: \n",
        "* William Désilets\n",
        "* Simon Drolet \n",
        "* Gabriella Bincoletto-Montpetit "
      ]
    },
    {
      "cell_type": "markdown",
      "metadata": {
        "id": "iY6TFuIkC5eL"
      },
      "source": [
        "## Relevant packages"
      ]
    },
    {
      "cell_type": "code",
      "metadata": {
        "id": "NPe5e2U2C5eL"
      },
      "source": [
        "# A few packages will be required all throughout the project. All useful packages are imported here:\n",
        "\n",
        "# For pre-processing and general usage\n",
        "import holidays as holidays\n",
        "import pandas as pd\n",
        "import numpy as np\n",
        "import math as math\n",
        "from math import sqrt\n",
        "import matplotlib.pyplot as plt\n",
        "import matplotlib.cm as cm\n",
        "import datetime as dt\n",
        "\n",
        "# For section 2 (predicting bike demand and average trip duration)\n",
        "import xgboost as xgb\n",
        "import sklearn.metrics as metrics\n",
        "from sklearn.model_selection import train_test_split\n",
        "from sklearn.metrics import mean_squared_error\n",
        "from xgboost.sklearn import XGBRegressor\n",
        "from sklearn.model_selection import GridSearchCV\n",
        "from sklearn.neural_network import MLPRegressor\n",
        "from sklearn.model_selection import cross_validate\n",
        "\n",
        "# For section 3 (clustering and/or classification of stations in neighbourhoods)\n",
        "from sklearn.cluster import KMeans\n",
        "from sklearn.cluster import DBSCAN\n",
        "from sklearn import datasets\n",
        "from sklearn.model_selection import train_test_split\n",
        "from sklearn.ensemble import RandomForestClassifier\n",
        "from sklearn.datasets import make_classification\n",
        "import pandas as pd\n",
        "import numpy as np\n",
        "import matplotlib.pyplot as plt\n",
        "import seaborn as sns\n",
        "from sklearn.preprocessing import LabelEncoder\n",
        "from sklearn.feature_extraction import DictVectorizer\n",
        "from google.colab import files\n",
        "\n",
        "# For section 4 (understanding bike flow)\n",
        "import folium\n"
      ],
      "execution_count": null,
      "outputs": []
    },
    {
      "cell_type": "markdown",
      "metadata": {
        "id": "GCjG2RDf1_HO"
      },
      "source": [
        "# Part 1: Data pre-processing"
      ]
    },
    {
      "cell_type": "markdown",
      "metadata": {
        "id": "B15dh1t0v_CK"
      },
      "source": [
        "## 1.1. Weather Data\n",
        "The weather data used for the project was retrieved  from https://climate.weather.gc.ca/historical_data/search_historic_data_e.html . The data from three stations around Montreal was used namely: the YUL International Airport, the McTavish pumping station near downtown Montreal and St-Hubert, nearby on the south shore of the island."
      ]
    },
    {
      "cell_type": "markdown",
      "metadata": {
        "id": "9OAAhupNeFFi"
      },
      "source": [
        "First, download all the CSVs needed. For the purpose of this project, data from 2014 to 2020 was downloaded. Only data from 2017 to 2019 will be used later on (due to computational and time constraints)."
      ]
    },
    {
      "cell_type": "code",
      "metadata": {
        "id": "mbY6HCYLwGo_"
      },
      "source": [
        "# This code lists all the weather URLs from our GitHub rep. Data from Dec/Jan/Feb is removed, as there are no BIXIs during Winter.\n",
        "weather_urls = list()\n",
        "for s in [['7024745_','McTavish'],['7027329_','St-Hubert'],['7025251_','YUL']]: # McTavish, St-Hubert, YUL\n",
        "    for y in range(7):\n",
        "        for m in range(9):\n",
        "            year = str(y + 2014)\n",
        "            month = '0' + str(m+3) + '-'\n",
        "            if len(month) == 4 : month = month[1:]\n",
        "            url = 'https://raw.githubusercontent.com/gbincoletto/MATH80629A/main/' + s[1] + '/fr_climat_horaires_QC_' + s[0] + month + year + '_P1H.csv'\n",
        "            weather_urls.append(url)"
      ],
      "execution_count": null,
      "outputs": []
    },
    {
      "cell_type": "code",
      "metadata": {
        "id": "4zbI4MFu1rAU"
      },
      "source": [
        "# The CSVs from the list are here converted to Panda Dataframes, which will be easier to use. Some pre-processing is included\n",
        "\n",
        "weather_dfs = list()\n",
        "n = 0\n",
        "for file in weather_urls:\n",
        "    \n",
        "    weather_dfs.append(pd.read_csv(file))\n",
        "  \n",
        "    # A lot of columns are always empty, so let's remove them before anything else!\n",
        "    weather_dfs[n] = weather_dfs[n].drop(['Date/Heure (HNL)','Temp Indicateur','Point de rosée Indicateur',\\\n",
        "                     'Hum. rel. Indicateur','Hauteur de précip. Indicateur',\\\n",
        "                     'Dir. du vent Indicateur','Vit. du vent Indicateur',\\\n",
        "                     'Visibilité Indicateur', 'Pression à la station Indicateur',\\\n",
        "                     'Hmdx Indicateur','Refroid. éolien Indicateur'],axis=1)\n",
        "  \n",
        "    # Let's clean up the \"Heure\" field so it's easier to use.\n",
        "    weather_dfs[n]['Heure (HNL)'] = weather_dfs[n]['Heure (HNL)'].str.strip('0')\n",
        "    weather_dfs[n]['Heure (HNL)'] = weather_dfs[n]['Heure (HNL)'].str.strip(':')\n",
        "    weather_dfs[n]['Heure (HNL)'].mask(weather_dfs[n]['Heure (HNL)'] == '', '0', inplace=True)\n",
        "    weather_dfs[n]['Heure (HNL)'] = weather_dfs[n]['Heure (HNL)'].astype(int)\n",
        "\n",
        "    # BIXIs are only available from March 15 to November 15. Let's remove the useless days (keeping the day before)\n",
        "    weather_dfs[n].drop(weather_dfs[n][(weather_dfs[n]['Mois'] == 3) & (weather_dfs[n]['Jour'] < 14)].index, inplace=True) # Mars\n",
        "    weather_dfs[n].drop(weather_dfs[n][(weather_dfs[n]['Mois'] == 11) & (weather_dfs[n]['Jour'] > 15)].index, inplace=True) # Novembre\n",
        "\n",
        "    # And we convert the field \"Temps\" to a list and remove NAN\n",
        "    weather_dfs[n]['Temps'] = weather_dfs[n]['Temps'].fillna('ND')\n",
        "    weather_dfs[n]['Temps'] = weather_dfs[n]['Temps'].str.split(',')\n",
        "\n",
        "    n = n + 1\n",
        "    if n % 21 == 0 : print('Upload %d percent complete' % (n/189*100)) # This is to print the progress. If more or less files are included,\n",
        "                                                                       # it won't give an accurate represenation."
      ],
      "execution_count": null,
      "outputs": []
    },
    {
      "cell_type": "markdown",
      "metadata": {
        "id": "_zMhM3HBeNdN"
      },
      "source": [
        "Some of the data is in text format. For instance, a station can record more or less intense \"Rain\", or \"Fog\". The following block of code is used to transform this text data in ordinal variables. "
      ]
    },
    {
      "cell_type": "code",
      "metadata": {
        "id": "M85G1j9Bq8fk"
      },
      "source": [
        "# We find all the possible weather conditions that can be identified in the field \"Temps\" to create ordinal variables. \n",
        "# The list of possible weather conditions comes from: https://climat.meteo.gc.ca/glossary_f.html \n",
        "\n",
        "# Commented below is the list that will be used\n",
        "\n",
        "\"\"\"\n",
        "  ND (0s everywhere)\n",
        "  nan (0s everywhere)\n",
        "  *\n",
        "  BROUILLARD: Brume sèche OU Fumée (1), Brouillard OU Chasse-poussière élevée (2), brouillard verglaçant (3)\n",
        "  PLUIE: Pluie OU Averses de pluie (1), Pluie modérée OU Averses de pluie modérée (2), Pluie forte OU Averses de pluie forte (3), Pluie verglaçante OU Averses de pluie verglaçante (4)\n",
        "  BRUINE: Bruine (1), bruine verglaçante (2)\n",
        "  ORAGES: Orages (1)\n",
        "  NEIGE: Neige OU Averses de neige OU Neige en grains (1), Neige modérée (2), Poudrerie élevée OU Averses de granules de glace ou de grésil OU Granules de glace ou grésil OU Grêle (3) \n",
        "  SOLEIL: Généralement dégagé (1), dégagé (2)\n",
        "  NUAGES: Généralement nuageux (1), nuageux (2)\n",
        "\"\"\"\n",
        "\n",
        "# Functions that will be applied to our weather datasets follow:\n",
        "\n",
        "# NUAGES\n",
        "def fnuages(row):\n",
        "    if ('Généralement nuageux' in row['Temps']):\n",
        "        val = 1\n",
        "    elif ('Nuageux' in row['Temps']):\n",
        "        val = 2\n",
        "    else:\n",
        "        val = 0\n",
        "    return val\n",
        "\n",
        "# SOLEIL\n",
        "def fsoleil(row):\n",
        "    if ('Généralement dégagé' in row['Temps']):\n",
        "        val = 2\n",
        "    elif ('Dégagé' in row['Temps']):\n",
        "        val = 1\n",
        "    else:\n",
        "        val = 0\n",
        "    return val\n",
        "\n",
        "# ORAGES\n",
        "def forages(row):\n",
        "    if ('Orages' in row['Temps']) or ('Orage' in row['Temps']):\n",
        "        val = 1\n",
        "    else:\n",
        "        val = 0\n",
        "    return val\n",
        "\n",
        "# NEIGE\n",
        "def fneige(row):\n",
        "    if ('Poudrerie élevée' in row['Temps']) or ('Grêle' in row['Temps']) or ('Granules de glace ou grésil' in row['Temps']) or ('Averses de granules de glace ou de grésil' in row['Temps']):\n",
        "        val = 3\n",
        "    elif ('Neige modérée' in row['Temps']):\n",
        "        val = 2\n",
        "    elif ('Neige' in row['Temps']) or ('Averses de neige' in row['Temps']) or ('Neige en grains' in row['Temps']):\n",
        "        val = 1\n",
        "    else:\n",
        "        val = 0\n",
        "    return val\n",
        "\n",
        "# PLUIE\n",
        "def fpluie(row):\n",
        "    if ('Pluie verglaçante' in row['Temps']) or ('Averses de pluie verglaçante' in row['Temps']):\n",
        "        val = 4\n",
        "    elif ('Pluie forte' in row['Temps']) or ('Averses de pluie forte' in row['Temps']):\n",
        "        val = 3\n",
        "    elif ('Pluie modérée' in row['Temps']) or ('Averses de pluie modérées' in row['Temps']):\n",
        "        val = 2\n",
        "    elif ('Pluie' in row['Temps']) or ('Averses de pluie' in row['Temps']):\n",
        "        val = 1\n",
        "    else:\n",
        "        val = 0\n",
        "    return val\n",
        "\n",
        "# BROUILLARD\n",
        "def fbrouillard(row):\n",
        "  if ('Brouillard verglaçant' in row['Temps']):\n",
        "    val = 3\n",
        "  elif ('Brouillard' in row['Temps']) or ('Chasse-poussière élevée' in row['Temps']):\n",
        "    val = 2\n",
        "  elif ('Brume sèche' in row['Temps']) or ('Fumée' in row['Temps']):\n",
        "    val = 1\n",
        "  else:\n",
        "    val = 0\n",
        "  return val\n",
        "\n",
        "# BRUINE\n",
        "def fbruine(row):\n",
        "    if ('Bruine verglaçante' in row['Temps']):\n",
        "        val = 2\n",
        "    elif ('Bruine' in row['Temps']):\n",
        "        val = 1\n",
        "    else:\n",
        "        val = 0\n",
        "    return val\n",
        "\n",
        "# The functions are applied to our dataframes.\n",
        "\n",
        "for df in weather_dfs:\n",
        "    df['Pluie'] = df.apply(fpluie,axis=1)\n",
        "    df['Neige'] = df.apply(fneige,axis=1)\n",
        "    df['Orages'] = df.apply(forages,axis=1)\n",
        "    df['Bruine'] = df.apply(fbruine,axis=1)\n",
        "    df['Brouillard'] = df.apply(fbrouillard,axis=1)\n",
        "    df['Nuages'] = df.apply(fnuages,axis=1)\n",
        "    df['Soleil'] = df.apply(fsoleil,axis=1)"
      ],
      "execution_count": null,
      "outputs": []
    },
    {
      "cell_type": "markdown",
      "metadata": {
        "id": "_h2NxJLgC5eR"
      },
      "source": [
        "We will merge all the dataframes together into one big dataframe to make the splitting/aggregating easier later on. "
      ]
    },
    {
      "cell_type": "code",
      "metadata": {
        "id": "iZ_eCVElgl1t"
      },
      "source": [
        "weather_df = pd.DataFrame()\n",
        "for df in weather_dfs:\n",
        "    weather_df = pd.concat([weather_df, df], ignore_index=True)"
      ],
      "execution_count": null,
      "outputs": []
    },
    {
      "cell_type": "markdown",
      "metadata": {
        "id": "bEtVe_9sC5eS"
      },
      "source": [
        "Some of the columns that should contain floats or integers actually contain strings. This has to be changed.\n",
        "The following chunk takes care of business. Please note that it must only be run once - else it will fail, as the modifications will already be effective."
      ]
    },
    {
      "cell_type": "code",
      "metadata": {
        "id": "Ed_kW2b2wbiK"
      },
      "source": [
        "# First we change commas to periods in numbers\n",
        "weather_df['Longitude (x)'] = (weather_df['Longitude (x)'].str.replace(',','.')).astype(float)\n",
        "weather_df['Latitude (y)'] = (weather_df['Latitude (y)'].str.replace(',','.')).astype(float)\n",
        "weather_df['Temp (°C)'] = (weather_df['Temp (°C)'].str.replace(',','.')).astype(float)\n",
        "weather_df['Point de rosée (°C)'] = (weather_df['Point de rosée (°C)'].str.replace(',','.')).astype(float)\n",
        "weather_df['Hauteur de précip. (mm)'] = (weather_df['Hauteur de précip. (mm)'].str.replace(',','.')).astype(float)\n",
        "weather_df['Visibilité (km)'] = (weather_df['Visibilité (km)'].str.replace(',','.')).astype(float)\n",
        "weather_df['Pression à la station (kPa)'] = (weather_df['Pression à la station (kPa)'].str.replace(',','.')).astype(float)\n",
        "\n",
        "# I'll also change the station IDs so it's easier to use later\n",
        "weather_df['ID climatologique'].mask(weather_df['ID climatologique'] == 7024745, 1, inplace=True)\n",
        "weather_df['ID climatologique'].mask(weather_df['ID climatologique'] == 7027329, 2, inplace=True)\n",
        "weather_df['ID climatologique'].mask(weather_df['ID climatologique'] == 7025251, 3, inplace=True)\n",
        "weather_df['stationID'] = weather_df['ID climatologique']\n",
        "\n",
        "# Finally, we can drop the fields which we have transformed earlier\n",
        "weather_df = weather_df.drop(['Temps','ID climatologique', 'Nom de la Station'], axis=1)"
      ],
      "execution_count": null,
      "outputs": []
    },
    {
      "cell_type": "markdown",
      "metadata": {
        "id": "wXKuCLhNC5eT"
      },
      "source": [
        "The data is now clean and ready for the aggregation.\n",
        "\n",
        "Before the aggregation, three functions are defined:\n",
        "* A distance function, to calculate the distance between two points based on latitude and longitude.\n",
        "* A weighted average function - combined with the distance function, it allows to interpolate the weather patterns at any BIXI station more precisely. However, please note that though this functionality was implemented at this stage of the process, it was not used to make predictions later on.\n",
        "* A bearing function, to calculate the bearing/heading, in degrees, between two points. It can be useful for any kind of flow analysis."
      ]
    },
    {
      "cell_type": "code",
      "metadata": {
        "id": "NAXYB1vDjQB8"
      },
      "source": [
        "# Distance (HAVERSINE)\n",
        "def distance(lon1,lat1,lon2,lat2):\n",
        "    R = 6367.5\n",
        "    dlon = np.abs(np.radians(lon2) - np.radians(lon1)) \n",
        "    dlat = np.abs(np.radians(lat2) - np.radians(lat1)) \n",
        "    a = np.sin(dlat/ 2)**2 + np.cos(np.radians(lat2)) * np.cos(np.radians(lat1)) * np.sin(dlon / 2)**2\n",
        "    L = R * 2 * np.arctan2(np.sqrt(a), np.sqrt(1 - a))\n",
        "    return L"
      ],
      "execution_count": null,
      "outputs": []
    },
    {
      "cell_type": "code",
      "metadata": {
        "id": "GtLkIklZC5eT"
      },
      "source": [
        "# Weigthed Average\n",
        "def weighted(x, cols, w=\"Distance\"):\n",
        "    return pd.Series(np.average(x[cols], weights=x[w], axis=0), cols)"
      ],
      "execution_count": null,
      "outputs": []
    },
    {
      "cell_type": "code",
      "metadata": {
        "id": "1CBFYp4-C5eU"
      },
      "source": [
        "# Direction (from https://www.igismap.com/formula-to-find-bearing-or-heading-angle-between-two-points-latitude-longitude/)\n",
        "def bearing(lon_i,lat_i,lon_f,lat_f):\n",
        "    \n",
        "    # Convert angles to rad\n",
        "    a = np.radians(lon_i)\n",
        "    b = np.radians(lon_f)\n",
        "    dL = np.radians(lat_f) - np.radians(lat_i)\n",
        "    \n",
        "    # Calculate result\n",
        "    X = np.cos(b)*np.sin(dL)\n",
        "    Y = np.cos(a)*np.sin(b) - np.sin(a)*np.cos(b)*np.cos(dL)\n",
        "    beta = np.arctan2(X,Y)\n",
        "    \n",
        "    # Convert back to radians\n",
        "    return np.degrees(beta)"
      ],
      "execution_count": null,
      "outputs": []
    },
    {
      "cell_type": "markdown",
      "metadata": {
        "id": "IdlO3QiHC5eU"
      },
      "source": [
        "The function create_weather_df() allows to create a weather dataframe according to our specifications and requirements for the project. It can:\n",
        "* Return the weather for any selected time period - only select the years, months, days and even hours of interests\n",
        "* Aggregate at different levels. If aggtype = 1, the aggregation will be hourly. For every hour, the data from the three weather stations selected will be combined. If aggtype = 2, thee aggregation will be on a daily basis. It includes the creation of new variables (for example, did it rain today? What was the highest temperature recorded?). Finally, if aggtype = 3, the weather patterns will be aggregaterd on a monthly basis, which gives a higher level view. Variables such as the days of rain, monthly highs and lows, are recorded.\n",
        "* Interpolate the aggregation based on a specific location, or not. A coordinate can be inputted to the function in geo = , in which case the aggregation will use a weighted average based on distance; if geo is empty, all weather stations are considered equally important, which gives a general idea of the weather in Montreal during the period considered."
      ]
    },
    {
      "cell_type": "code",
      "metadata": {
        "id": "kRvOVdC17LaD"
      },
      "source": [
        "def create_weather_df(years=[weather_df.Année.min(),weather_df.Année.max()]\\\n",
        "                      , months=[weather_df.Mois.min(),weather_df.Mois.max()]\\\n",
        "                      , days=[weather_df.Jour.min(),weather_df.Jour.max()]\\\n",
        "                      , hours=[weather_df['Heure (HNL)'].min(),weather_df['Heure (HNL)'].max()]\\\n",
        "                      , aggType = 1 # 1 = hourly ; 2 = daily ; 3 = monthly\n",
        "                      , geo = list()): # We can insert [Lon, Lat] \n",
        "  \n",
        "  # Temporal filter\n",
        "    rdf = weather_df[(weather_df['Année'] >= years[0]) & (weather_df['Année'] <= years[1])]\n",
        "    rdf = rdf[(rdf['Mois'] >= months[0]) & (rdf['Mois'] <= months[1])]\n",
        "    rdf = rdf[(rdf['Jour'] >= days[0]) & (rdf['Jour'] <= days[1])]\n",
        "    rdf = rdf[(rdf['Heure (HNL)'] >= hours[0]) & (rdf['Heure (HNL)'] <= hours[1])]\n",
        "\n",
        "  # Creating a date ID (will vary based on type of aggregation)\n",
        "    rdf.Année = rdf.Année.astype(str)\n",
        "    rdf.Mois = rdf.Mois.astype(str)\n",
        "    rdf.Jour = rdf.Jour.astype(str)\n",
        "    rdf['Heure (HNL)'] = rdf['Heure (HNL)'].astype(str)\n",
        "    rdf.loc[rdf['Mois'].str.len() == 1, 'Mois'] = '0' + rdf['Mois']\n",
        "    rdf.loc[rdf['Jour'].str.len() == 1, 'Jour'] = '0' + rdf['Jour']\n",
        "    rdf.loc[rdf['Heure (HNL)'].str.len() == 1, 'Heure (HNL)'] = '0' + rdf['Heure (HNL)']\n",
        "    rdf['dateIDh'] = (rdf.Année + rdf.Mois + rdf.Jour + rdf['Heure (HNL)']).astype(int)\n",
        "    rdf['dateIDd'] = (rdf.Année + rdf.Mois + rdf.Jour).astype(int)\n",
        "    rdf['dateIDm'] = (rdf.Année + rdf.Mois).astype(int)\n",
        "    \n",
        "    # Return to int\n",
        "    rdf['Année'] = rdf.Année.astype(int)\n",
        "    rdf['Mois'] = rdf.Mois.astype(int)\n",
        "    rdf['Jour'] = rdf.Jour.astype(int)\n",
        "    rdf['Heure (HNL)'] = rdf['Heure (HNL)'].astype(int)\n",
        "  \n",
        "    if not geo: # Average across all three stations\n",
        "    \n",
        "    # Aggregate hourly data by default\n",
        "        rdf = rdf.groupby('dateIDh').agg(Temp=(\"Temp (°C)\", \"mean\"),\n",
        "                                      DewPoint=(\"Point de rosée (°C)\", \"mean\"),\n",
        "                                      HumRel=(\"Hum. rel (%)\", \"mean\"),\n",
        "                                      PrecipitationHgt=(\"Hauteur de précip. (mm)\", \"mean\"),\n",
        "                                      WindDir=(\"Dir. du vent (10s deg)\", \"mean\"),\n",
        "                                      WindSpd=(\"Vit. du vent (km/h)\", \"mean\"),\n",
        "                                      Vis=(\"Visibilité (km)\", \"mean\"),\n",
        "                                      Pkpa=(\"Pression à la station (kPa)\", \"mean\"),\n",
        "                                      Hmdx=(\"Hmdx\", \"mean\"),\n",
        "                                      WindChill=(\"Refroid. éolien\", \"mean\"),\n",
        "                                      Rain=(\"Pluie\", \"max\"),\n",
        "                                      Snow=(\"Neige\", \"max\"),\n",
        "                                      Thunderstorm=(\"Orages\", \"max\"),\n",
        "                                      Drizzle=(\"Bruine\", \"max\"),\n",
        "                                      Fog=(\"Brouillard\", \"max\"),\n",
        "                                      Cloudy=(\"Nuages\", \"max\"),\n",
        "                                      Sunny=(\"Soleil\", \"max\"), \n",
        "                                      dateIDd=(\"dateIDd\",\"mean\"), \n",
        "                                      dateIDm=(\"dateIDm\",\"mean\"),\n",
        "                                      Year=(\"Année\",\"mean\"),\n",
        "                                      Month=(\"Mois\",\"mean\"),\n",
        "                                      Day=(\"Jour\",\"mean\"),\n",
        "                                      Hour=(\"Heure (HNL)\",\"mean\")   \n",
        "                                      )\n",
        "    \n",
        "\n",
        "    else: # When geo option is ACTIVE\n",
        "        \n",
        "        # Add a column for distance\n",
        "        rdf['Distance'] = rdf.apply(lambda x: distance(x['Longitude (x)'], x['Latitude (y)'], geo[0], geo[1]), axis=1)\n",
        "        # Date IDs\n",
        "        rdf_date = rdf.groupby('dateIDh').agg(dateIDd=(\"dateIDd\",\"mean\"), dateIDm=(\"dateIDm\",\"mean\"))  \n",
        "        # Hourly aggregation, weighted by distance (for continuous variables) # NOTE !!!! PRECIPITATION HEIGHT AND VIS NOT WORKING I THINK\n",
        "        rdf_grouped = rdf.groupby('dateIDh')\n",
        "        rdf_weighted = rdf_grouped.apply(weighted,[\"Temp (°C)\",\n",
        "                                       \"Point de rosée (°C)\",\n",
        "                                       \"Hum. rel (%)\",\n",
        "                                       \"Dir. du vent (10s deg)\",\n",
        "                                       \"Vit. du vent (km/h)\",\n",
        "                                       \"Pression à la station (kPa)\",\n",
        "                                       \"Hmdx\",\n",
        "                                       \"Refroid. éolien\"])\n",
        "       \n",
        "        # We have to do it separately for the precipitation height and visibility because station 3 has all NAN fro Precipitation, and station 1 has all NAN for Visibility\n",
        "        # NOTE: This is not the most elegant as it's somehow hardcoded. It means the function will fail if we get new weather stations.\n",
        "        # Precipitation\n",
        "        rdf_precip = rdf.loc[rdf['stationID'].isin([1,2])]\n",
        "        rdf_grouped2 = rdf_precip.groupby('dateIDh')\n",
        "        rdf_weighted2 = rdf_grouped2.apply(weighted,[\"Hauteur de précip. (mm)\"])\n",
        "        rdf_weighted2.rename(columns={'Hauteur de précip. (mm)':'PrecipitationHgt'}, inplace=True)\n",
        "        # Visibility\n",
        "        rdf_vis = rdf.loc[rdf['stationID'].isin([2,3])]\n",
        "        rdf_grouped3 = rdf_vis.groupby('dateIDh')\n",
        "        rdf_weighted3 = rdf_grouped3.apply(weighted,[\"Visibilité (km)\"])\n",
        "        rdf_weighted3.rename(columns={'Visibilité (km)':'Vis'}, inplace=True)\n",
        "        # We rename the columns of the original big batch weighted averages\n",
        "        rdf_weighted.rename(columns={'Temp (°C)':'Temp',\n",
        "                                 'Point de rosée (°C)':'DewPoint',\n",
        "                                 'Hum. rel (%)':'HumRel',\n",
        "                                 'Dir. du vent (10s deg)':'WindDir',\n",
        "                                 'Vit. du vent (km/h)':'WindSpd',\n",
        "                                 'Pression à la station (kPa)':'Pkpa',\n",
        "                                 'Refroid. éolien':'WindChill'}, inplace=True)\n",
        "    \n",
        "        # For the categorical variables, we take the value closest to the location\n",
        "        rdf_min = rdf.loc[rdf['stationID'].isin([2,3])] # Pas de données texte pour la station 1!\n",
        "        rdf_min = rdf_min.loc[rdf['Distance'] == rdf_min['Distance'].min()]\n",
        "        rdf_min = rdf_min.set_index('dateIDh')\n",
        "        rdf_min = rdf_min[['Pluie','Neige','Orages','Brouillard']]\n",
        "        # Annnnnd rename again:\n",
        "        rdf_min = rdf_min.rename(columns={'Pluie':'Rain',\n",
        "                                     'Neige':'Snow',\n",
        "                                     'Orages':'Thunderstorm',\n",
        "                                     'Brouillard':'Fog'\n",
        "                                      })\n",
        "    \n",
        "        # Finally we add the column about cloud cover and drizzle, which are only available at one station\n",
        "        rdf_sun = rdf.groupby('dateIDh').agg(Drizzle=(\"Bruine\",\"max\"), Cloudy=(\"Nuages\",\"max\"), Sunny=(\"Soleil\",\"max\")) \n",
        "\n",
        "        # We concatenate all the pandas together. The resulting df has the same format has the 'non-geo' one so we can pass it to agg=2 or agg=3 easily\n",
        "        rdf = pd.concat([rdf_date,rdf_weighted,rdf_weighted2,rdf_weighted3,rdf_min,rdf_sun], axis=1)\n",
        "    \n",
        "      \n",
        "    if aggType == 2 or aggType == 3:\n",
        "        # Compute daily data\n",
        "        rdf.loc[rdf[\"PrecipitationHgt\"] > 0, 'RainToday'] = 1\n",
        "        rdf.loc[rdf[\"PrecipitationHgt\"] == 0, 'RainToday'] = 0\n",
        "        rdf = rdf.groupby('dateIDd').agg(avgTemp=(\"Temp\", \"mean\"),\n",
        "                                      maxTemp=(\"Temp\", \"max\"),\n",
        "                                      minTemp=(\"Temp\", \"min\"),\n",
        "                                      avgDewPoint=(\"DewPoint\", \"mean\"),\n",
        "                                      avgHumRel=(\"HumRel\", \"mean\"),\n",
        "                                      maxHumRel=(\"HumRel\", \"max\"),\n",
        "                                      minHumRel=(\"HumRel\", \"min\"),\n",
        "                                      sumPrecipitationHgt=(\"PrecipitationHgt\", \"sum\"),\n",
        "                                      timePrecipitation=(\"RainToday\", \"mean\"),\n",
        "                                      precipitationToday=(\"RainToday\", \"max\"),\n",
        "                                      avgWindDir=(\"WindDir\", \"mean\"),\n",
        "                                      avgWindSpd=(\"WindSpd\", \"mean\"),\n",
        "                                      maxWindSpd=(\"WindSpd\", \"max\"),\n",
        "                                      avgVis=(\"Vis\", \"mean\"),\n",
        "                                      avgPkpa=(\"Pkpa\", \"mean\"),\n",
        "                                      avgHmdx=(\"Hmdx\", \"mean\"),\n",
        "                                      avgWindChill=(\"WindChill\", \"mean\"),\n",
        "                                      maxWindChill=(\"WindChill\", \"max\"),\n",
        "                                      minWindChill=(\"WindChill\", \"min\"),\n",
        "                                      Rain=(\"Rain\", \"max\"), # Qualifie l'intensité maximale des précipitations dans la journée\n",
        "                                      Snow=(\"Snow\", \"max\"),\n",
        "                                      Thunderstorm=(\"Thunderstorm\", \"max\"),\n",
        "                                      Drizzle=(\"Drizzle\", \"mean\"),\n",
        "                                      Fog=(\"Fog\", \"mean\"),\n",
        "                                      percentCloudy=(\"Cloudy\", \"mean\"),\n",
        "                                      percentSunny=(\"Sunny\", \"mean\"),\n",
        "                                      dateIDm=(\"dateIDm\",\"mean\"),\n",
        "                                      Year=(\"Year\",\"mean\"),\n",
        "                                      Month=(\"Month\",\"mean\"),\n",
        "                                      Day=(\"Day\",\"mean\")   \n",
        "                                      )\n",
        "      \n",
        "        if aggType == 3:\n",
        "        # Dans un mois les max-min ne sont plus très utiles!\n",
        "            rdf = rdf.groupby('dateIDm').agg(avgTemp=(\"avgTemp\", \"mean\"),\n",
        "                                         avgHigh=(\"maxTemp\", \"mean\"),\n",
        "                                         avgLow=(\"minTemp\", \"mean\"),\n",
        "                                         avgHumRel=(\"avgHumRel\", \"mean\"),\n",
        "                                         sumPrecipitationHgt=(\"sumPrecipitationHgt\", \"sum\"),\n",
        "                                         avgDailyPrecipitation=(\"timePrecipitation\", \"mean\"),\n",
        "                                         daysRain=(\"precipitationToday\", \"sum\"), \n",
        "                                         avgWindSpd=(\"avgWindSpd\", \"mean\"),\n",
        "                                         avgWindChill=(\"avgWindChill\", \"mean\"),\n",
        "                                         avgHighWindchill=(\"maxWindChill\",\"mean\"),\n",
        "                                         avgLowWindchill=(\"minWindChill\",\"mean\"),\n",
        "                                         percentCloudy=(\"percentCloudy\", \"mean\"),\n",
        "                                         percentSunny=(\"percentSunny\", \"mean\"),\n",
        "                                         Year=(\"Year\",\"mean\"),\n",
        "                                         Month=(\"Month\",\"mean\")    \n",
        "                                         )\n",
        "\n",
        "    return rdf"
      ],
      "execution_count": null,
      "outputs": []
    },
    {
      "cell_type": "markdown",
      "metadata": {
        "id": "hImiDcmZeiA5"
      },
      "source": [
        "The function is now ready to go!\n",
        "\n",
        "For the purpose of the project, the data was compiled for all possible aggregation types and all time periods. The geo option was not active."
      ]
    },
    {
      "cell_type": "code",
      "metadata": {
        "id": "IOi_nUAIC5eV"
      },
      "source": [
        "# Weather data is compiled hourly (without location)\n",
        "weather_hourly = create_weather_df(aggType=1)\n",
        "weather_hourly.to_csv('weather_hourly.csv') "
      ],
      "execution_count": null,
      "outputs": []
    },
    {
      "cell_type": "code",
      "metadata": {
        "id": "bRG9LKHQC5eV"
      },
      "source": [
        "# Weather data is compiled daily (without location)\n",
        "weather_daily = create_weather_df(aggType=2)\n",
        "weather_daily.to_csv('weather_daily.csv') "
      ],
      "execution_count": null,
      "outputs": []
    },
    {
      "cell_type": "code",
      "metadata": {
        "id": "7mN__t2qC5eV"
      },
      "source": [
        "# Weather data is compiled monthly (without location)\n",
        "weather_monthly = create_weather_df(aggType=3)\n",
        "weather_monthly.to_csv('weather_monthly.csv') "
      ],
      "execution_count": null,
      "outputs": []
    },
    {
      "cell_type": "markdown",
      "metadata": {
        "id": "XUwx_ZrcC5eX"
      },
      "source": [
        "The output is saved to CSVs for convenience and to avoid having to run all this code more than once."
      ]
    },
    {
      "cell_type": "markdown",
      "metadata": {
        "id": "tDNHFKLHv0SG"
      },
      "source": [
        "## 1.2. BIXI Data"
      ]
    },
    {
      "cell_type": "markdown",
      "metadata": {
        "id": "B-JGjpvKC5eX"
      },
      "source": [
        "In this section, the Data from the [BIXI Open Portal](https://www.bixi.com/en/page-27) is processed. There are two main parts to this data:\n",
        "\n",
        "\n",
        "* Trip data, which includes information on every trip taken by users (datetime, start and end station, duration of trip, etc.)\n",
        "* Stations data, which simply lists the location of all BIXI stations throughout the years"
      ]
    },
    {
      "cell_type": "markdown",
      "metadata": {
        "id": "PkZ9jrlQC5eX"
      },
      "source": [
        "### 1.2.1. BIXI Trip Data"
      ]
    },
    {
      "cell_type": "code",
      "metadata": {
        "id": "KMp-DKCsR27r"
      },
      "source": [
        "# The data has been pre-processed offline, and then separated into 40 dataframes (10 per year from 2017 to 2020). \n",
        "\n",
        "bixi_rides_urls = list()\n",
        "for y in [2017, 2018, 2019, 2020]:  \n",
        "    for m in range(1,10):\n",
        "        year = str(y)\n",
        "        dfnumber = str(m)\n",
        "        url = 'https://raw.githubusercontent.com/gbincoletto/MATH80629A/main/Final%20Bixi%20Data/bixi_' + year + '_' + dfnumber + '.csv'\n",
        "        bixi_rides_urls.append(url)\n",
        "\n"
      ],
      "execution_count": null,
      "outputs": []
    },
    {
      "cell_type": "code",
      "metadata": {
        "id": "b6AYFB5yh8fg"
      },
      "source": [
        "# We can now turn the raw data located at these URLs into proper data frames, and concatenate these DFs into one master dataset.\n",
        "\n",
        "bixi_rides_dfs = list()\n",
        "for file in bixi_rides_urls:\n",
        "    bixi_rides_dfs.append(pd.read_csv(file))\n",
        "    \n",
        "bixi_master_data = pd.concat(bixi_rides_dfs)\n"
      ],
      "execution_count": null,
      "outputs": []
    },
    {
      "cell_type": "code",
      "metadata": {
        "id": "0sgsJHwL7Y4q"
      },
      "source": [
        "# Removing trips lasting less than one minute and those who have the same start and end point, as recommended by other studies in the field.\n",
        "\n",
        "bixi_master_data = bixi_master_data.drop(bixi_master_data[bixi_master_data.duration_sec <= 60].index)\n",
        "bixi_master_data = bixi_master_data.drop(bixi_master_data[bixi_master_data.start_station_code == bixi_master_data.end_station_code].index)\n",
        "bixi_master_data"
      ],
      "execution_count": null,
      "outputs": []
    },
    {
      "cell_type": "markdown",
      "metadata": {
        "id": "CH8clTT2OVMI"
      },
      "source": [
        "We now have access to every trip taken by BIXI users between 2017 and 2020, given they respect the two following conditions :\n",
        "* They lasted for more than one minute;\n",
        "* They ended at a different station than the one where they started."
      ]
    },
    {
      "cell_type": "markdown",
      "metadata": {
        "id": "NnbvqX9nBspz"
      },
      "source": [
        "### 1.2.2. BIXI Station Data"
      ]
    },
    {
      "cell_type": "code",
      "metadata": {
        "id": "MWVUZ5y3kr3V"
      },
      "source": [
        "# We will use our previous loop to import the annual Bixi station locations from GitHub. \n",
        "\n",
        "bixi_stations_urls = list()\n",
        "for y in [2017, 2018, 2019, 2020]:\n",
        "  year = str(y)\n",
        "  url_2 = 'https://raw.githubusercontent.com/gbincoletto/MATH80629A/main/bixidata/Stations_' + year + '.csv'\n",
        "  bixi_stations_urls.append(url_2)"
      ],
      "execution_count": null,
      "outputs": []
    },
    {
      "cell_type": "code",
      "metadata": {
        "id": "MlSAyn9oJPVV"
      },
      "source": [
        "# Using the URLs assembled in our list, we will then create proper pandas dataframes from the raw data.\n",
        "\n",
        "bixi_stations_dfs = list()\n",
        "for file in bixi_stations_urls:\n",
        "    bixi_stations_dfs.append(pd.read_csv(file))"
      ],
      "execution_count": null,
      "outputs": []
    },
    {
      "cell_type": "code",
      "metadata": {
        "id": "s4QYMRg7EVnS"
      },
      "source": [
        "# Individual elements from our list can be declared to facilitate operations on them.\n",
        "\n",
        "stations_2017 = bixi_stations_dfs[0]\n",
        "stations_2018 = bixi_stations_dfs[1]\n",
        "stations_2019 = bixi_stations_dfs[2]\n",
        "stations_2020 = bixi_stations_dfs[3]\n",
        "\n",
        "# Correcting data irregularities\n",
        "\n",
        "stations_2019['code'] = stations_2019['Code']\n",
        "stations_2019 = stations_2019.drop(['Code'], axis=1)\n",
        "stations_2017 = stations_2017.drop(['is_public'], axis=1)\n",
        "\n",
        "# Then, we will create a new key variable, specifically designed to join Longitude/Latitude values to our trip data. \n",
        "\n",
        "stations_2017['Station_Key_ID'] = '2017' + stations_2017['code'].map(str)\n",
        "stations_2018['Station_Key_ID'] = '2018' + stations_2018['code'].map(str)\n",
        "stations_2019['Station_Key_ID'] = '2019' + stations_2019['code'].map(str) \n",
        "stations_2020['Station_Key_ID'] = '2020' + stations_2020['code'].map(str)\n",
        "\n",
        "# Then, we can concatenate the dataframes into one final reference document.\n",
        "\n",
        "bixi_master_stations = pd.concat([stations_2017, stations_2018, stations_2019,stations_2020])\n"
      ],
      "execution_count": null,
      "outputs": []
    },
    {
      "cell_type": "markdown",
      "metadata": {
        "id": "CfQgO4ldPUYq"
      },
      "source": [
        "We've now created a main reference dataset containing every BIXI station from 2017 to 2020, which will allow us to experiment with clustering methods (Section 3) and populate the bike trip dataset to highlight bike trip patterns (Section 4). "
      ]
    },
    {
      "cell_type": "markdown",
      "metadata": {
        "id": "yhaaruYGgp09"
      },
      "source": [
        "### 1.2.3. Aggregating function"
      ]
    },
    {
      "cell_type": "markdown",
      "metadata": {
        "id": "CjwpCO1vNoUt"
      },
      "source": [
        "To facilitate training in the upcoming steps, an aggregating function has been programmed to reduce the amount of datapoints fed to the models. It will output the amount of bike rentals for a given time period, based on three formats :\n",
        "* Hourly\n",
        "*Daily\n",
        "* Monthy \n",
        "\n",
        "Model versions corresponding to these increments will be trained and adjusted in **Section 3**.\n",
        "\n",
        "This function also includes the addition of new information, namely whether a given day is part of the weekend or not, or if there was a holiday on this date."
      ]
    },
    {
      "cell_type": "code",
      "metadata": {
        "id": "Eh2pwIQhgu9M"
      },
      "source": [
        "# Definition of aggregation function\n",
        "\n",
        "def calc_bike_volumes(df, years, months, days, hours, aggtype = 1): # Format [20XX,20XX], it's an interval! Same format for the other arguments please. No default values.\n",
        "  \n",
        "    pd.options.mode.chained_assignment = None  # default='warn'\n",
        "    rdf = df\n",
        "\n",
        "    # Creating a date ID (will vary based on type of aggregation)\n",
        "    rdf['Année'] = rdf['start_date'].astype(str).str[0:4]\n",
        "    rdf['Mois'] = rdf['start_date'].astype(str).str[5:7]\n",
        "    rdf['Jour'] = rdf['start_date'].astype(str).str[8:10]\n",
        "    rdf['Heure'] = rdf['start_date'].astype(str).str[11:13]\n",
        "    rdf['dateIDh'] = (rdf.Année + rdf.Mois + rdf.Jour + rdf['Heure']).astype(int)\n",
        "    rdf['dateIDd'] = (rdf.Année + rdf.Mois + rdf.Jour).astype(int)\n",
        "    rdf['dateIDm'] = (rdf.Année + rdf.Mois).astype(int)\n",
        "    \n",
        "    # Creating columns to indicate weekdays and holidays\n",
        "    rdf['start_date'] = pd.to_datetime(rdf['start_date']) \n",
        "    rdf['Semaine'] = rdf['start_date'].map(lambda x: x.weekday())\n",
        "    rdf.loc[rdf['Semaine'] <= 4, 'Semaine'] = 1\n",
        "    rdf.loc[rdf['Semaine'] > 4, 'Semaine'] = 0\n",
        "    \n",
        "    qc_holidays = []\n",
        "    for date in holidays.Canada(years = [2014,2015,2016,2017,2018,2019,2020], prov='QC').items():\n",
        "        qc_holidays.append(str(date[0]))\n",
        "        \n",
        "    rdf['Holidays'] = [1 if str(val).split()[0] in qc_holidays else 0 for val in rdf['start_date']]\n",
        "\n",
        "    # Filtre temporel\n",
        "    rdf = rdf[(rdf['Année'].astype(int) >= years[0]) & (df['Année'].astype(int) <= years[1])]\n",
        "    rdf = rdf[(rdf['Mois'].astype(int) >= months[0]) & (rdf['Mois'].astype(int) <= months[1])]\n",
        "    rdf = rdf[(rdf['Jour'].astype(int) >= days[0]) & (rdf['Jour'].astype(int) <= days[1])]\n",
        "    rdf = rdf[(rdf['Heure'].astype(int) >= hours[0]) & (rdf['Heure'].astype(int) <= hours[1])]\n",
        "\n",
        "    if (not years) or (not months) or (not days) or (not hours):\n",
        "        print('Please input all the required arguments?')\n",
        "  \n",
        "    # This will aggregate what we need to get the number of trips in the given timeframe (by blocks) and average trip length.\n",
        "    else:\n",
        "\n",
        "    # Aggregate using the hour ID\n",
        "        if aggtype == 1:\n",
        "            rdf = rdf.groupby('dateIDh').agg(Weekday=(\"Semaine\", \"max\"), Holiday=(\"Holidays\", \"max\"),\n",
        "                                             Duration=(\"duration_sec\", \"mean\"),\n",
        "                                             Volume=(\"duration_sec\", \"count\"))\n",
        "            return rdf\n",
        "\n",
        "    # Aggregate using the day ID\n",
        "        if aggtype == 2 :\n",
        "            rdf = rdf.groupby('dateIDd').agg(Weekday=(\"Semaine\", \"max\"), Holiday=(\"Holidays\", \"max\"),\n",
        "                                             Duration=(\"duration_sec\", \"mean\"),\n",
        "                                             Volume=(\"duration_sec\", \"count\"))\n",
        "            return rdf\n",
        "\n",
        "    # Aggregate using the month ID\n",
        "        if aggtype == 3:\n",
        "            rdf = rdf.groupby('dateIDm').agg(Duration=(\"duration_sec\", \"mean\"),\n",
        "                                       Volume=(\"duration_sec\", \"count\"))\n",
        "            return rdf\n"
      ],
      "execution_count": null,
      "outputs": []
    },
    {
      "cell_type": "markdown",
      "metadata": {
        "id": "yrPYddvGRMp8"
      },
      "source": [
        "We can now execute the function to generate the datasets corresponding to each time increment. The output is saved to CSVs for convenience and to avoid having to run all this code more than once."
      ]
    },
    {
      "cell_type": "code",
      "metadata": {
        "id": "ay-tpFwFC5eg"
      },
      "source": [
        "# Hourly Data\n",
        "data_hourly = calc_bike_volumes(bixi_master_data,[2017,2020],[3,11],[1,31],[0,23],aggtype=1)\n",
        "data_hourly.to_csv('data_hourly.csv') "
      ],
      "execution_count": null,
      "outputs": []
    },
    {
      "cell_type": "code",
      "metadata": {
        "id": "UuuU8LJ7C5eg"
      },
      "source": [
        "# Daily Data\n",
        "data_daily = calc_bike_volumes(bixi_master_data,[2017,2020],[3,11],[1,31],[0,23],aggtype=2)\n",
        "data_daily.to_csv('data_daily.csv') "
      ],
      "execution_count": null,
      "outputs": []
    },
    {
      "cell_type": "code",
      "metadata": {
        "id": "vxDz4ycxC5eh"
      },
      "source": [
        "# Monthly Data\n",
        "data_monthly = calc_bike_volumes(bixi_master_data,[2017,2020],[3,11],[1,31],[0,23],aggtype=3)\n",
        "data_monthly.to_csv('data_monthly.csv') "
      ],
      "execution_count": null,
      "outputs": []
    },
    {
      "cell_type": "markdown",
      "metadata": {
        "id": "3zWbaIWAC5eh"
      },
      "source": [
        "# Part 2: Predicting BIXI’s traffic volume and average trip duration based on weather and calendar data"
      ]
    },
    {
      "cell_type": "markdown",
      "metadata": {
        "id": "_GGIHwrDC5eh"
      },
      "source": [
        "First of all, a couples sources were useful in the realization of this part of the project. I list them all in the following block of code before anything else:"
      ]
    },
    {
      "cell_type": "code",
      "metadata": {
        "id": "Oaev_EKrC5eh"
      },
      "source": [
        "# SOURCES:\n",
        "'''\n",
        "https://scikit-learn.org/stable/modules/generated/sklearn.model_selection.TimeSeriesSplit.html\n",
        "https://stats.stackexchange.com/questions/439485/how-to-evaluate-whether-model-is-overfitting-or-underfitting-when-using-cross-va\n",
        "https://www.kaggle.com/avanwyk/encoding-cyclical-features-for-deep-learning\n",
        "https://machinelearningmastery.com/extreme-gradient-boosting-ensemble-in-python/\n",
        "https://machinelearningmastery.com/tune-learning-rate-for-gradient-boosting-with-xgboost-in-python/\n",
        "https://www.analyticsvidhya.com/blog/2016/03/complete-guide-parameter-tuning-xgboost-with-codes-python/"
      ],
      "execution_count": null,
      "outputs": []
    },
    {
      "cell_type": "markdown",
      "metadata": {
        "id": "Tt4V0oB7C5eh"
      },
      "source": [
        "For the modeling, two libaries will be used. They were imported at the very top of this notebook:\n",
        "* XGBoost, a tree-based gradient boosting algorithm;\n",
        "* Sci-Kit Learn, for it's Multi-Layer Perceptron (MLP).\n"
      ]
    },
    {
      "cell_type": "code",
      "metadata": {
        "id": "SXysAEK8C5ei"
      },
      "source": [
        "# SOURCES:\n",
        "'''\n",
        "https://scikit-learn.org/stable/modules/generated/sklearn.model_selection.TimeSeriesSplit.html\n",
        "https://stats.stackexchange.com/questions/439485/how-to-evaluate-whether-model-is-overfitting-or-underfitting-when-using-cross-va\n",
        "https://www.kaggle.com/avanwyk/encoding-cyclical-features-for-deep-learning"
      ],
      "execution_count": null,
      "outputs": []
    },
    {
      "cell_type": "markdown",
      "metadata": {
        "id": "_CJKuQoJC5ei"
      },
      "source": [
        "The CSVs from the pre-processing part of the project can be imported back into Panda dataframes, if necessary."
      ]
    },
    {
      "cell_type": "code",
      "metadata": {
        "id": "6FlCEWV-C5ei"
      },
      "source": [
        "# BIXI data\n",
        "url_data_hourly = 'https://raw.githubusercontent.com/gbincoletto/MATH80629A/main/data_hourly.csv'\n",
        "data_hourly = pd.read_csv(url_data_hourly)\n",
        "data_hourly = data_hourly.set_index(['dateIDh'])\n",
        "url_data_daily = 'https://raw.githubusercontent.com/gbincoletto/MATH80629A/main/data_daily.csv'\n",
        "data_daily = pd.read_csv(url_data_daily)\n",
        "data_daily = data_daily.set_index(['dateIDd'])\n",
        "url_data_monthly = 'https://raw.githubusercontent.com/gbincoletto/MATH80629A/main/data_monthly.csv'\n",
        "data_monthly = pd.read_csv(url_data_monthly)\n",
        "data_monthly = data_monthly.set_index(['dateIDm'])\n",
        "\n",
        "# Weather data\n",
        "url_weather_hourly = 'https://raw.githubusercontent.com/gbincoletto/MATH80629A/main/weather_hourly.csv'\n",
        "weather_hourly = pd.read_csv(url_weather_hourly)\n",
        "weather_hourly = weather_hourly.set_index(['dateIDh'])\n",
        "url_weather_daily = 'https://raw.githubusercontent.com/gbincoletto/MATH80629A/main/weather_daily.csv'\n",
        "weather_daily = pd.read_csv(url_weather_daily)\n",
        "weather_daily = weather_daily.set_index(['dateIDd'])\n",
        "url_weather_monthly = 'https://raw.githubusercontent.com/gbincoletto/MATH80629A/main/weather_monthly.csv'\n",
        "weather_monthly = pd.read_csv(url_weather_monthly)\n",
        "weather_monthly = weather_monthly.set_index(['dateIDm'])"
      ],
      "execution_count": null,
      "outputs": []
    },
    {
      "cell_type": "markdown",
      "metadata": {
        "id": "s_LmFAYIC5ei"
      },
      "source": [
        "The weather dataframes contain nothing but explanatory variables (Xs) whilst the BIXI dataframes contain both explanaotry variables and target variables. The dataframes are to be merged together based on date keys so that all information is available at the same place, and that our models can do what they are supposed to:"
      ]
    },
    {
      "cell_type": "code",
      "metadata": {
        "id": "uwMq3C7AC5ej"
      },
      "source": [
        "# I'll merge bixi data with weather data so that I have proper food to feed to xgboost\n",
        "hourly = pd.concat([weather_hourly, data_hourly], axis=1, join=\"inner\")\n",
        "hourly.to_csv('global_hourly.csv')\n",
        "daily = pd.concat([weather_daily, data_daily], axis=1, join=\"inner\")\n",
        "daily.to_csv('global_daily.csv')\n",
        "monthly = pd.concat([weather_monthly, data_monthly], axis=1, join=\"inner\")\n",
        "monthly.to_csv('global_monthly.csv')"
      ],
      "execution_count": null,
      "outputs": []
    },
    {
      "cell_type": "markdown",
      "metadata": {
        "id": "NUWubsYAC5ej"
      },
      "source": [
        "Also, a little extra data pre-processing step is required. Our time variables need to be encoded to reflect their cyclical nature. 11pm should be very close to 1am - not be 22 units apart. To do this, an encoding function is defined, which will encode time data using a cosine transform.\n",
        "\n",
        "This transform will only be applied to our hourly dataset. \n",
        "\n",
        "The team realized it did not have enough data points to train models based on daily or monthly data. As such, they will not be used anymore."
      ]
    },
    {
      "cell_type": "code",
      "metadata": {
        "id": "b0UgCaohC5ej"
      },
      "source": [
        "# We'll use cosine encoding for the variables month, day annd hour.\n",
        "def encode(data, col, max_val):\n",
        "    data[col + '_sin'] = np.sin(2 * np.pi * data[col]/max_val)\n",
        "    data[col + '_cos'] = np.cos(2 * np.pi * data[col]/max_val)\n",
        "    return data"
      ],
      "execution_count": null,
      "outputs": []
    },
    {
      "cell_type": "code",
      "metadata": {
        "id": "Tuxcwtl0C5ej"
      },
      "source": [
        "# Let's create a new dataframe based on the old one (tt stands for TIME TRANSFORMED)\n",
        "hourly_tt = hourly\n",
        "\n",
        "# Here it comes:\n",
        "hourly_tt = encode(hourly_tt,'Month',12)\n",
        "hourly_tt = encode(hourly_tt,'Day',31)\n",
        "hourly_tt = encode(hourly_tt,'Hour',23)"
      ],
      "execution_count": null,
      "outputs": []
    },
    {
      "cell_type": "markdown",
      "metadata": {
        "id": "u08nPEUAC5ej"
      },
      "source": [
        "The hourly, time-transformed dataset is now split in train and test sets. \n",
        "\n",
        "Given the massive impact of COVID on bike sharing systems in general and BIXI specifically, the data from 2020 was separated from the rest of the datasets as it exhibited completely different patterns from what was observed in the years leading to 2020."
      ]
    },
    {
      "cell_type": "code",
      "metadata": {
        "id": "hLUqQgH4C5ek"
      },
      "source": [
        "# I'm only keeping data from 2019 and past for now (training purposes)\n",
        "hourly_tt_2019 = hourly_tt[(hourly_tt['Year'] != 2020)]\n",
        "\n",
        "# Train/test split\n",
        "hourly_tt_train, hourly_tt_test = train_test_split(hourly_tt_2019, test_size=0.2, random_state=34)\n",
        "\n",
        "# 2020 data only for future testing\n",
        "hourly_tt_2020 = hourly_tt[(hourly_tt['Year'] == 2020)]"
      ],
      "execution_count": null,
      "outputs": []
    },
    {
      "cell_type": "markdown",
      "metadata": {
        "id": "IOIK-zaoC5ek"
      },
      "source": [
        "## 2.1. XGBoost"
      ]
    },
    {
      "cell_type": "markdown",
      "metadata": {
        "id": "SX7KBLLAC5ek"
      },
      "source": [
        "The first model we used, XGBoost, was chosen for the task because of the prevalence of tree-based methods in bike-sharing machine learning literature, as well as the proven track record of XGboost in Kaggle competitions.\n",
        "\n",
        "It will be used to predict both target variables of interest: numebr of new bike rides recorded every hour, and hourly average trip duration.\n",
        "\n",
        "The function below, modelfit2(), will be used to evaluate to tune the hyperparamaters and evaluate the performance of our model. It uses cross-validation and early stopping to ensure that the proper number of estimators is used in the algorithm training phase to limit overfitting. It also gives us a feature importance map, which can give us a sense of which variables are most important in the prediction. "
      ]
    },
    {
      "cell_type": "code",
      "metadata": {
        "id": "jLQ43v4eC5ek"
      },
      "source": [
        "def modelfit2(alg, X_train, Y_train, X_test, Y_test, useTrainCV=True, cv_folds=5, early_stopping_rounds=10):\n",
        "    \n",
        "    if useTrainCV:\n",
        "        xgb_param = alg.get_xgb_params()\n",
        "        xgtrain = xgb.DMatrix(X_train.values, label=Y_train.values)\n",
        "        cvresult = xgb.cv(xgb_param, xgtrain, num_boost_round=alg.get_params()['n_estimators'], nfold=cv_folds,\n",
        "            metrics='rmse', early_stopping_rounds=early_stopping_rounds) #,maximize=True\n",
        "        alg.set_params(n_estimators=cvresult.shape[0])\n",
        "    \n",
        "    #Fit the algorithm on the data\n",
        "    alg.fit(X_train, Y_train,eval_metric='rmse')\n",
        "        \n",
        "    #Predict training set:\n",
        "    dtrain_predictions = alg.predict(X_train)\n",
        "    \n",
        "    #Predict test set:\n",
        "    dtest_predictions = alg.predict(X_test)\n",
        "        \n",
        "    #Print model report:\n",
        "    print(\"\\nModel Report:\")\n",
        "    print(\"Best number of estimators:\", cvresult.shape[0])\n",
        "    print(\"Full Training Set RMSE : %.2f\" % sqrt(metrics.mean_squared_error(Y_train.values, dtrain_predictions)))\n",
        "    print(\"Test Set RMSE : %.2f\" % sqrt(metrics.mean_squared_error(Y_test.values, dtest_predictions)))\n",
        "    # print(\"Train nRMSE : \", round(sqrt(metrics.mean_squared_error(Y_train.values, dtrain_predictions))/Y_train.mean()*100,4))\n",
        "    # print(\"Test nRMSE : \", round(sqrt(metrics.mean_squared_error(Y_test.values, dtest_predictions))/Y_test.mean()*100,4))\n",
        "                    \n",
        "    feat_imp = pd.Series(alg.get_booster().get_score(importance_type='weight')).sort_values(ascending=False)\n",
        "    feat_imp.plot(kind='bar', title='Feature Importances')\n",
        "    plt.ylabel('Feature Importance Score')"
      ],
      "execution_count": null,
      "outputs": []
    },
    {
      "cell_type": "markdown",
      "metadata": {
        "id": "Fv3J1S5_C5el"
      },
      "source": [
        "The data can be further split in X's and Y's. The \"Volume\" variable will be Y1, and the \"Duration\" variable will be Y2.\n",
        "\n",
        "Some features (Humidex, dew point, wind direction and wind chill) were removed from our datasets as preliminary analysis showed they were detrimental to model performance and contribute to overfitting issues."
      ]
    },
    {
      "cell_type": "code",
      "metadata": {
        "id": "3w1wNlD1C5el"
      },
      "source": [
        "# SPlITTING DATA\n",
        "X_train = hourly_tt_train.drop(['dateIDd', 'dateIDm', 'Hmdx', 'Hour', 'Day', 'Month', 'Duration', 'Volume', 'DewPoint', 'WindDir', 'WindChill'], axis=1)\n",
        "Y1_train = hourly_tt_train['Volume']\n",
        "Y2_train = hourly_tt_train['Duration']\n",
        "X_test = hourly_tt_test.drop(['dateIDd', 'dateIDm', 'Hmdx', 'Hour', 'Day', 'Month', 'Duration', 'Volume', 'DewPoint', 'WindDir', 'WindChill'], axis=1)\n",
        "Y1_test = hourly_tt_test['Volume']\n",
        "Y2_test = hourly_tt_test['Duration']\n",
        "\n",
        "# 2020 data for testing\n",
        "X_2020 = hourly_tt_2020.drop(['dateIDd', 'dateIDm', 'Hmdx', 'Hour', 'Day', 'Month', 'Duration', 'Volume', 'DewPoint', 'WindDir', 'WindChill'], axis=1)\n",
        "Y1_2020 = hourly_tt_2020['Volume']\n",
        "Y2_2020 = hourly_tt_2020['Duration']"
      ],
      "execution_count": null,
      "outputs": []
    },
    {
      "cell_type": "markdown",
      "metadata": {
        "id": "gy2JhrzDC5el"
      },
      "source": [
        "A basic model with semi-random features is tested. This will be our benchmark to see if the hyperparameter tuning helps to increase predicting power."
      ]
    },
    {
      "cell_type": "code",
      "metadata": {
        "id": "_WBkmxJFC5el",
        "outputId": "cf2f7938-4efc-451a-f2a6-b9b4fdec4be8"
      },
      "source": [
        "# Basic model with new cyclical features\n",
        "xgb_CC1_Y = xgb.XGBRegressor(\n",
        "    objective='reg:squarederror',\n",
        "    gamma=1,                 \n",
        "    eta=0.1,\n",
        "    max_depth=3,\n",
        "    n_estimators=5000,\n",
        "    min_child_weight=10,\n",
        "    subsample=0.8,\n",
        "    colsample_bytree=0.8,\n",
        "    random_state=1\n",
        ") \n",
        "\n",
        "# Show fit (initial - Volume)\n",
        "modelfit2(xgb_CC1_Y,X_train,Y1_train,X_test,Y1_test)\n",
        "\n",
        "# Show fit (initial - Duration)\n",
        "modelfit2(xgb_CC1_Y,X_train,Y2_train,X_test,Y2_test)\n"
      ],
      "execution_count": null,
      "outputs": [
        {
          "output_type": "stream",
          "text": [
            "\n",
            "Model Report:\n",
            "Best number of estimators: 1711\n",
            "Full Training Set RMSE : 134.08\n",
            "Test Set RMSE : 171.29\n",
            "\n",
            "Model Report:\n",
            "Best number of estimators: 318\n",
            "Full Training Set RMSE : 55.42\n",
            "Test Set RMSE : 57.43\n"
          ],
          "name": "stdout"
        },
        {
          "output_type": "display_data",
          "data": {
            "image/png": "[encoded data removed]",
            "text/plain": [
              "<Figure size 432x288 with 1 Axes>"
            ]
          },
          "metadata": {
            "tags": [],
            "needs_background": "light"
          }
        }
      ]
    },
    {
      "cell_type": "markdown",
      "metadata": {
        "id": "T_z7b1tAC5em"
      },
      "source": [
        "### 2.1.1. Hyperparameter tuning of XGBoost\n",
        "\n",
        "Below is the code required for the hyperparameter tuning of XGBoost. The detailed steps are explained in the team's report, also available on GitHub.\n",
        "\n",
        "In short, it is a sequence of Grid searches and model updates in 4 steps:\n",
        "* Grid search and update for max_depth and min_child_weight\n",
        "* Grid search and update for the regularization parameter gamma\n",
        "* Grid search and update for sampling hyperparameters (colsample_bytree, subsample)\n",
        "* Update to the algorithm's learning rate"
      ]
    },
    {
      "cell_type": "code",
      "metadata": {
        "id": "PmkLyMWyC5em",
        "outputId": "59abc240-6f64-4309-806c-d3b57f3727ab"
      },
      "source": [
        "# Step 1: max_depth,min_child_weight\n",
        "\n",
        "# The parameters we want to test:\n",
        "param_test1 = {\n",
        " 'max_depth':[2, 3, 4, 5],\n",
        " 'min_child_weight':[1, 5, 10, 20]\n",
        "}\n",
        "\n",
        "# Automatic grid search!\n",
        "gsearch1v = GridSearchCV(estimator = XGBRegressor(\n",
        "    objective='reg:squarederror',\n",
        "    gamma=1,                 \n",
        "    eta=0.1,\n",
        "    max_depth=3,\n",
        "    n_estimators=1711,\n",
        "    min_child_weight=10,\n",
        "    subsample=0.8,\n",
        "    colsample_bytree=0.8,\n",
        "    random_state=1\n",
        "), \n",
        " param_grid = param_test1, scoring='neg_root_mean_squared_error',n_jobs=-1, cv=5)\n",
        "\n",
        "# Fit\n",
        "gsearch1v.fit(X_train,Y1_train)\n",
        "\n",
        "# Display results\n",
        "print(\"Best: %f using %s\" % (gsearch1v.best_score_, gsearch1v.best_params_))\n",
        "means = gsearch1v.cv_results_['mean_test_score']\n",
        "params = gsearch1v.cv_results_['params']\n",
        "for mean, param in zip(means, params):\n",
        "    print(\"%f with: %r\" % (mean, param))\n",
        "    \n",
        "# -----------------------------------------------------\n",
        "    \n",
        "# Automatic grid search!\n",
        "gsearch1d = GridSearchCV(estimator = XGBRegressor(\n",
        "    objective='reg:squarederror',\n",
        "    gamma=1,                 \n",
        "    eta=0.1,\n",
        "    max_depth=3,\n",
        "    n_estimators=1711,\n",
        "    min_child_weight=10,\n",
        "    subsample=0.8,\n",
        "    colsample_bytree=0.8,\n",
        "    random_state=1\n",
        "), \n",
        " param_grid = param_test1, scoring='neg_root_mean_squared_error',n_jobs=-1, cv=5)\n",
        "\n",
        "# Fit\n",
        "gsearch1d.fit(X_train,Y2_train)\n",
        "\n",
        "# Display results\n",
        "print(\"Best: %f using %s\" % (gsearch1d.best_score_, gsearch1d.best_params_))\n",
        "means = gsearch1d.cv_results_['mean_test_score']\n",
        "params = gsearch1d.cv_results_['params']\n",
        "for mean, param in zip(means, params):\n",
        "    print(\"%f with: %r\" % (mean, param))"
      ],
      "execution_count": null,
      "outputs": [
        {
          "output_type": "stream",
          "text": [
            "Best: -147.077721 using {'max_depth': 5, 'min_child_weight': 5}\n",
            "-259.747411 with: {'max_depth': 2, 'min_child_weight': 1}\n",
            "-261.132853 with: {'max_depth': 2, 'min_child_weight': 5}\n",
            "-259.936547 with: {'max_depth': 2, 'min_child_weight': 10}\n",
            "-261.088062 with: {'max_depth': 2, 'min_child_weight': 20}\n",
            "-178.718325 with: {'max_depth': 3, 'min_child_weight': 1}\n",
            "-178.799630 with: {'max_depth': 3, 'min_child_weight': 5}\n",
            "-180.065278 with: {'max_depth': 3, 'min_child_weight': 10}\n",
            "-181.025180 with: {'max_depth': 3, 'min_child_weight': 20}\n",
            "-157.262826 with: {'max_depth': 4, 'min_child_weight': 1}\n",
            "-156.489715 with: {'max_depth': 4, 'min_child_weight': 5}\n",
            "-157.909196 with: {'max_depth': 4, 'min_child_weight': 10}\n",
            "-159.541359 with: {'max_depth': 4, 'min_child_weight': 20}\n",
            "-147.129413 with: {'max_depth': 5, 'min_child_weight': 1}\n",
            "-147.077721 with: {'max_depth': 5, 'min_child_weight': 5}\n",
            "-148.691072 with: {'max_depth': 5, 'min_child_weight': 10}\n",
            "-149.866720 with: {'max_depth': 5, 'min_child_weight': 20}\n",
            "Best: -58.729348 using {'max_depth': 3, 'min_child_weight': 1}\n",
            "-60.289773 with: {'max_depth': 2, 'min_child_weight': 1}\n",
            "-60.395354 with: {'max_depth': 2, 'min_child_weight': 5}\n",
            "-60.517346 with: {'max_depth': 2, 'min_child_weight': 10}\n",
            "-60.308799 with: {'max_depth': 2, 'min_child_weight': 20}\n",
            "-58.729348 with: {'max_depth': 3, 'min_child_weight': 1}\n",
            "-58.864948 with: {'max_depth': 3, 'min_child_weight': 5}\n",
            "-58.804001 with: {'max_depth': 3, 'min_child_weight': 10}\n",
            "-58.801736 with: {'max_depth': 3, 'min_child_weight': 20}\n",
            "-59.031186 with: {'max_depth': 4, 'min_child_weight': 1}\n",
            "-59.175662 with: {'max_depth': 4, 'min_child_weight': 5}\n",
            "-59.385414 with: {'max_depth': 4, 'min_child_weight': 10}\n",
            "-59.080217 with: {'max_depth': 4, 'min_child_weight': 20}\n",
            "-58.813338 with: {'max_depth': 5, 'min_child_weight': 1}\n",
            "-59.451689 with: {'max_depth': 5, 'min_child_weight': 5}\n",
            "-59.447516 with: {'max_depth': 5, 'min_child_weight': 10}\n",
            "-59.536044 with: {'max_depth': 5, 'min_child_weight': 20}\n"
          ],
          "name": "stdout"
        }
      ]
    },
    {
      "cell_type": "code",
      "metadata": {
        "id": "_GVZzXuRC5en",
        "outputId": "ca51e839-ac28-4808-c404-320b8ef1ac2d"
      },
      "source": [
        "# First update VOLUME\n",
        "xgb_CC2_Y1 = xgb.XGBRegressor(\n",
        "    objective='reg:squarederror',\n",
        "    gamma=1,                 \n",
        "    eta=0.1,\n",
        "    max_depth=5,\n",
        "    n_estimators=5000,\n",
        "    min_child_weight=5,\n",
        "    subsample=0.8,\n",
        "    colsample_bytree=0.8,\n",
        "    random_state=1\n",
        ") \n",
        "\n",
        "# Show fit\n",
        "modelfit2(xgb_CC2_Y1,X_train,Y1_train,X_test,Y1_test)\n",
        "\n",
        "# -----------------------------\n",
        "\n",
        "# First update DURATION\n",
        "xgb_CC2_Y2 = xgb.XGBRegressor(\n",
        "    objective='reg:squarederror',\n",
        "    gamma=1,                 \n",
        "    eta=0.1,\n",
        "    max_depth=3,\n",
        "    n_estimators=5000,\n",
        "    min_child_weight=1,\n",
        "    subsample=0.8,\n",
        "    colsample_bytree=0.8,\n",
        "    random_state=1\n",
        ") \n",
        "\n",
        "# Show fit\n",
        "modelfit2(xgb_CC2_Y2,X_train,Y2_train,X_test,Y2_test)"
      ],
      "execution_count": null,
      "outputs": [
        {
          "output_type": "stream",
          "text": [
            "\n",
            "Model Report:\n",
            "Best number of estimators: 980\n",
            "Full Training Set RMSE : 65.19\n",
            "Test Set RMSE : 140.48\n",
            "\n",
            "Model Report:\n",
            "Best number of estimators: 480\n",
            "Full Training Set RMSE : 52.68\n",
            "Test Set RMSE : 57.39\n"
          ],
          "name": "stdout"
        },
        {
          "output_type": "display_data",
          "data": {
            "image/png": "[encoded data removed]",
            "text/plain": [
              "<Figure size 432x288 with 1 Axes>"
            ]
          },
          "metadata": {
            "tags": [],
            "needs_background": "light"
          }
        }
      ]
    },
    {
      "cell_type": "code",
      "metadata": {
        "id": "8dnPEzWVC5en",
        "outputId": "3fea96f5-b38f-494e-c7da-743696c4c1cf"
      },
      "source": [
        "# GAMMA\n",
        "\n",
        "# The parameters we want to test:\n",
        "param_test2 = {\n",
        " 'gamma':[0.1, 1, 5, 10, 20, 50]\n",
        "}\n",
        "\n",
        "# Automatic grid search!\n",
        "gsearch2v = GridSearchCV(estimator = XGBRegressor(\n",
        "    objective='reg:squarederror',\n",
        "    gamma=1,                 \n",
        "    eta=0.1,\n",
        "    max_depth=5,\n",
        "    n_estimators=980,\n",
        "    min_child_weight=5,\n",
        "    subsample=0.8,\n",
        "    colsample_bytree=0.8,\n",
        "    random_state=1\n",
        "), \n",
        " param_grid = param_test2, scoring='neg_root_mean_squared_error',n_jobs=-1, cv=5)\n",
        "\n",
        "# Fit\n",
        "gsearch2v.fit(X_train,Y1_train)\n",
        "\n",
        "# Display results\n",
        "print(\"Best: %f using %s\" % (gsearch2v.best_score_, gsearch2v.best_params_))\n",
        "means = gsearch2v.cv_results_['mean_test_score']\n",
        "params = gsearch2v.cv_results_['params']\n",
        "for mean, param in zip(means, params):\n",
        "    print(\"%f with: %r\" % (mean, param))\n",
        "    \n",
        "# -----------------------------------------------------\n",
        "    \n",
        "# Automatic grid search!\n",
        "gsearch2d = GridSearchCV(estimator = XGBRegressor(\n",
        "    objective='reg:squarederror',\n",
        "    gamma=1,                 \n",
        "    eta=0.1,\n",
        "    max_depth=3,\n",
        "    n_estimators=480,\n",
        "    min_child_weight=1,\n",
        "    subsample=0.8,\n",
        "    colsample_bytree=0.8,\n",
        "    random_state=1\n",
        "), \n",
        " param_grid = param_test2, scoring='neg_root_mean_squared_error',n_jobs=-1, cv=5)\n",
        "\n",
        "# Fit\n",
        "gsearch2d.fit(X_train,Y2_train)\n",
        "\n",
        "# Display results\n",
        "print(\"Best: %f using %s\" % (gsearch2d.best_score_, gsearch2d.best_params_))\n",
        "means = gsearch2d.cv_results_['mean_test_score']\n",
        "params = gsearch2d.cv_results_['params']\n",
        "for mean, param in zip(means, params):\n",
        "    print(\"%f with: %r\" % (mean, param))"
      ],
      "execution_count": null,
      "outputs": [
        {
          "output_type": "stream",
          "text": [
            "Best: -148.822971 using {'gamma': 50}\n",
            "-149.190437 with: {'gamma': 0.1}\n",
            "-149.190437 with: {'gamma': 1}\n",
            "-149.190437 with: {'gamma': 5}\n",
            "-148.864384 with: {'gamma': 10}\n",
            "-148.961360 with: {'gamma': 20}\n",
            "-148.822971 with: {'gamma': 50}\n",
            "Best: -59.088091 using {'gamma': 50}\n",
            "-59.149337 with: {'gamma': 0.1}\n",
            "-59.149337 with: {'gamma': 1}\n",
            "-59.121351 with: {'gamma': 5}\n",
            "-59.121142 with: {'gamma': 10}\n",
            "-59.103254 with: {'gamma': 20}\n",
            "-59.088091 with: {'gamma': 50}\n"
          ],
          "name": "stdout"
        }
      ]
    },
    {
      "cell_type": "code",
      "metadata": {
        "id": "3tEHKiyWC5eo",
        "outputId": "2773b37d-d4a3-47fb-aa23-f980cf482d99"
      },
      "source": [
        "# Second update VOLUME\n",
        "xgb_CC3_Y1 = xgb.XGBRegressor(\n",
        "    objective='reg:squarederror',\n",
        "    gamma=10,                 \n",
        "    eta=0.1,\n",
        "    max_depth=5,\n",
        "    n_estimators=5000,\n",
        "    min_child_weight=5,\n",
        "    subsample=0.8,\n",
        "    colsample_bytree=0.8,\n",
        "    random_state=1\n",
        ") \n",
        "\n",
        "# Show fit\n",
        "modelfit2(xgb_CC3_Y1,X_train,Y1_train,X_test,Y1_test)\n",
        "\n",
        "# -----------------------------\n",
        "\n",
        "# Second update DURATION\n",
        "xgb_CC3_Y2 = xgb.XGBRegressor(\n",
        "    objective='reg:squarederror',\n",
        "    gamma=10,                 \n",
        "    eta=0.1,\n",
        "    max_depth=3,\n",
        "    n_estimators=5000,\n",
        "    min_child_weight=1,\n",
        "    subsample=0.8,\n",
        "    colsample_bytree=0.8,\n",
        "    random_state=1\n",
        ") \n",
        "\n",
        "# Show fit\n",
        "modelfit2(xgb_CC3_Y2,X_train,Y2_train,X_test,Y2_test)"
      ],
      "execution_count": null,
      "outputs": [
        {
          "output_type": "stream",
          "text": [
            "\n",
            "Model Report:\n",
            "Best number of estimators: 893\n",
            "Full Training Set RMSE : 68.98\n",
            "Test Set RMSE : 141.41\n",
            "\n",
            "Model Report:\n",
            "Best number of estimators: 454\n",
            "Full Training Set RMSE : 52.94\n",
            "Test Set RMSE : 57.55\n"
          ],
          "name": "stdout"
        },
        {
          "output_type": "display_data",
          "data": {
            "image/png": "[encoded data removed]",
            "text/plain": [
              "<Figure size 432x288 with 1 Axes>"
            ]
          },
          "metadata": {
            "tags": [],
            "needs_background": "light"
          }
        }
      ]
    },
    {
      "cell_type": "code",
      "metadata": {
        "id": "EkzkcAB4C5eo",
        "outputId": "e8646a5c-26da-4850-9443-228904871c81"
      },
      "source": [
        "# SAMPLING\n",
        "\n",
        "# The parameters we want to test:\n",
        "param_test3 = {\n",
        " 'subsample':[0.6,0.7,0.8,0.9],\n",
        " 'colsample_bytree':[0.4,0.6,0.8,1]\n",
        "}\n",
        "\n",
        "# Automatic grid search!\n",
        "gsearch3v = GridSearchCV(estimator = XGBRegressor(\n",
        "    objective='reg:squarederror',\n",
        "    gamma=10,                 \n",
        "    eta=0.1,\n",
        "    max_depth=5,\n",
        "    n_estimators=893,\n",
        "    min_child_weight=5,\n",
        "    subsample=0.8,\n",
        "    colsample_bytree=0.8,\n",
        "    random_state=1\n",
        "), \n",
        " param_grid = param_test3, scoring='neg_root_mean_squared_error',n_jobs=-1, cv=5)\n",
        "\n",
        "# Fit\n",
        "gsearch3v.fit(X_train,Y1_train)\n",
        "\n",
        "# Display results\n",
        "print(\"Best: %f using %s\" % (gsearch3v.best_score_, gsearch3v.best_params_))\n",
        "means = gsearch3v.cv_results_['mean_test_score']\n",
        "params = gsearch3v.cv_results_['params']\n",
        "for mean, param in zip(means, params):\n",
        "    print(\"%f with: %r\" % (mean, param))\n",
        "    \n",
        "# -----------------------------------------------------\n",
        "    \n",
        "# Automatic grid search!\n",
        "gsearch3d = GridSearchCV(estimator = XGBRegressor(\n",
        "    objective='reg:squarederror',\n",
        "    gamma=10,                 \n",
        "    eta=0.1,\n",
        "    max_depth=3,\n",
        "    n_estimators=454,\n",
        "    min_child_weight=1,\n",
        "    subsample=0.8,\n",
        "    colsample_bytree=0.8,\n",
        "    random_state=1\n",
        "), \n",
        " param_grid = param_test3, scoring='neg_root_mean_squared_error',n_jobs=-1, cv=5)\n",
        "\n",
        "# Fit\n",
        "gsearch3d.fit(X_train,Y2_train)\n",
        "\n",
        "# Display results\n",
        "print(\"Best: %f using %s\" % (gsearch3d.best_score_, gsearch3d.best_params_))\n",
        "means = gsearch3d.cv_results_['mean_test_score']\n",
        "params = gsearch3d.cv_results_['params']\n",
        "for mean, param in zip(means, params):\n",
        "    print(\"%f with: %r\" % (mean, param))"
      ],
      "execution_count": null,
      "outputs": [
        {
          "output_type": "stream",
          "text": [
            "Best: -145.815604 using {'colsample_bytree': 1, 'subsample': 0.7}\n",
            "-168.131919 with: {'colsample_bytree': 0.4, 'subsample': 0.6}\n",
            "-164.942227 with: {'colsample_bytree': 0.4, 'subsample': 0.7}\n",
            "-162.312331 with: {'colsample_bytree': 0.4, 'subsample': 0.8}\n",
            "-162.836147 with: {'colsample_bytree': 0.4, 'subsample': 0.9}\n",
            "-155.928362 with: {'colsample_bytree': 0.6, 'subsample': 0.6}\n",
            "-152.592578 with: {'colsample_bytree': 0.6, 'subsample': 0.7}\n",
            "-151.535814 with: {'colsample_bytree': 0.6, 'subsample': 0.8}\n",
            "-152.253394 with: {'colsample_bytree': 0.6, 'subsample': 0.9}\n",
            "-151.260295 with: {'colsample_bytree': 0.8, 'subsample': 0.6}\n",
            "-150.058052 with: {'colsample_bytree': 0.8, 'subsample': 0.7}\n",
            "-149.390097 with: {'colsample_bytree': 0.8, 'subsample': 0.8}\n",
            "-151.036835 with: {'colsample_bytree': 0.8, 'subsample': 0.9}\n",
            "-148.271188 with: {'colsample_bytree': 1, 'subsample': 0.6}\n",
            "-145.815604 with: {'colsample_bytree': 1, 'subsample': 0.7}\n",
            "-148.042575 with: {'colsample_bytree': 1, 'subsample': 0.8}\n",
            "-148.825817 with: {'colsample_bytree': 1, 'subsample': 0.9}\n",
            "Best: -59.103127 using {'colsample_bytree': 0.6, 'subsample': 0.8}\n",
            "-59.675517 with: {'colsample_bytree': 0.4, 'subsample': 0.6}\n",
            "-59.725834 with: {'colsample_bytree': 0.4, 'subsample': 0.7}\n",
            "-59.380724 with: {'colsample_bytree': 0.4, 'subsample': 0.8}\n",
            "-59.409572 with: {'colsample_bytree': 0.4, 'subsample': 0.9}\n",
            "-59.365659 with: {'colsample_bytree': 0.6, 'subsample': 0.6}\n",
            "-59.209692 with: {'colsample_bytree': 0.6, 'subsample': 0.7}\n",
            "-59.103127 with: {'colsample_bytree': 0.6, 'subsample': 0.8}\n",
            "-59.127817 with: {'colsample_bytree': 0.6, 'subsample': 0.9}\n",
            "-59.246261 with: {'colsample_bytree': 0.8, 'subsample': 0.6}\n",
            "-59.417779 with: {'colsample_bytree': 0.8, 'subsample': 0.7}\n",
            "-59.154941 with: {'colsample_bytree': 0.8, 'subsample': 0.8}\n",
            "-59.187172 with: {'colsample_bytree': 0.8, 'subsample': 0.9}\n",
            "-59.423851 with: {'colsample_bytree': 1, 'subsample': 0.6}\n",
            "-59.252856 with: {'colsample_bytree': 1, 'subsample': 0.7}\n",
            "-59.198313 with: {'colsample_bytree': 1, 'subsample': 0.8}\n",
            "-59.204722 with: {'colsample_bytree': 1, 'subsample': 0.9}\n"
          ],
          "name": "stdout"
        }
      ]
    },
    {
      "cell_type": "code",
      "metadata": {
        "id": "A1Pn4LJJC5eo",
        "outputId": "7e4a45fd-4cbe-407e-dd02-c7ebb3c67249"
      },
      "source": [
        "# Third update VOLUME\n",
        "xgb_CC4_Y1 = xgb.XGBRegressor(\n",
        "    objective='reg:squarederror',\n",
        "    gamma=10,                 \n",
        "    eta=0.1,\n",
        "    max_depth=5,\n",
        "    n_estimators=5000,\n",
        "    min_child_weight=5,\n",
        "    subsample=0.7,\n",
        "    colsample_bytree=1,\n",
        "    random_state=1\n",
        ") \n",
        "\n",
        "# Show fit\n",
        "modelfit2(xgb_CC4_Y1,X_train,Y1_train,X_test,Y1_test)\n",
        "\n",
        "# -----------------------------\n",
        "\n",
        "# Third update DURATION\n",
        "xgb_CC4_Y2 = xgb.XGBRegressor(\n",
        "    objective='reg:squarederror',\n",
        "    gamma=10,                 \n",
        "    eta=0.1,\n",
        "    max_depth=3,\n",
        "    n_estimators=5000,\n",
        "    min_child_weight=1,\n",
        "    subsample=0.8,\n",
        "    colsample_bytree=0.6,\n",
        "    random_state=1\n",
        ") \n",
        "\n",
        "# Show fit\n",
        "modelfit2(xgb_CC4_Y2,X_train,Y2_train,X_test,Y2_test)"
      ],
      "execution_count": null,
      "outputs": [
        {
          "output_type": "stream",
          "text": [
            "\n",
            "Model Report:\n",
            "Best number of estimators: 898\n",
            "Full Training Set RMSE : 66.92\n",
            "Test Set RMSE : 143.51\n",
            "\n",
            "Model Report:\n",
            "Best number of estimators: 445\n",
            "Full Training Set RMSE : 53.47\n",
            "Test Set RMSE : 57.65\n"
          ],
          "name": "stdout"
        },
        {
          "output_type": "display_data",
          "data": {
            "image/png": "[encoded data removed]",
            "text/plain": [
              "<Figure size 432x288 with 1 Axes>"
            ]
          },
          "metadata": {
            "tags": [],
            "needs_background": "light"
          }
        }
      ]
    },
    {
      "cell_type": "code",
      "metadata": {
        "id": "2TRB-m4hC5ep",
        "outputId": "bd1000d8-e08c-495e-b375-27026bd4abe8"
      },
      "source": [
        "# Let's reduce the learning rate for the final update:\n",
        "\n",
        "# Last update VOLUME\n",
        "xgb_CC5_Y1 = xgb.XGBRegressor(\n",
        "    objective='reg:squarederror',\n",
        "    gamma=10,                 \n",
        "    learning_rate=0.01,\n",
        "    max_depth=5,\n",
        "    n_estimators=10000,\n",
        "    min_child_weight=5,\n",
        "    subsample=0.7,\n",
        "    colsample_bytree=1,\n",
        "    random_state=1\n",
        ") \n",
        "\n",
        "# Show fit\n",
        "modelfit2(xgb_CC5_Y1,X_train,Y1_train,X_test,Y1_test)\n",
        "\n",
        "# -----------------------------\n",
        "\n",
        "# Last update DURATION\n",
        "xgb_CC5_Y2 = xgb.XGBRegressor(\n",
        "    objective='reg:squarederror',\n",
        "    gamma=10,                 \n",
        "    learning_rate=0.01,\n",
        "    max_depth=3,\n",
        "    n_estimators=10000,\n",
        "    min_child_weight=1,\n",
        "    subsample=0.8,\n",
        "    colsample_bytree=0.6,\n",
        "    random_state=1\n",
        ") \n",
        "\n",
        "# Show fit\n",
        "modelfit2(xgb_CC5_Y2,X_train,Y2_train,X_test,Y2_test)"
      ],
      "execution_count": null,
      "outputs": [
        {
          "output_type": "stream",
          "text": [
            "\n",
            "Model Report:\n",
            "Best number of estimators: 6325\n",
            "Full Training Set RMSE : 77.46\n",
            "Test Set RMSE : 137.86\n",
            "\n",
            "Model Report:\n",
            "Best number of estimators: 3698\n",
            "Full Training Set RMSE : 54.12\n",
            "Test Set RMSE : 57.33\n"
          ],
          "name": "stdout"
        },
        {
          "output_type": "display_data",
          "data": {
            "image/png": "[encoded data removed]",
            "text/plain": [
              "<Figure size 432x288 with 1 Axes>"
            ]
          },
          "metadata": {
            "tags": [],
            "needs_background": "light"
          }
        }
      ]
    },
    {
      "cell_type": "code",
      "metadata": {
        "id": "L8TBI2mEC5ep",
        "outputId": "0c1a2db9-0001-435c-c584-dd7ba1dcdcde"
      },
      "source": [
        "    feat_imp = pd.Series(xgb_CC5_Y1.get_booster().get_score(importance_type='weight')).sort_values(ascending=False)\n",
        "    feat_imp.plot(kind='bar', title='Feature Importances')\n",
        "    plt.ylabel('Feature Importance Score')"
      ],
      "execution_count": null,
      "outputs": [
        {
          "output_type": "execute_result",
          "data": {
            "text/plain": [
              "Text(0, 0.5, 'Feature Importance Score')"
            ]
          },
          "metadata": {
            "tags": []
          },
          "execution_count": 86
        },
        {
          "output_type": "display_data",
          "data": {
            "image/png": "[encoded data removed]",
            "text/plain": [
              "<Figure size 432x288 with 1 Axes>"
            ]
          },
          "metadata": {
            "tags": [],
            "needs_background": "light"
          }
        }
      ]
    },
    {
      "cell_type": "markdown",
      "metadata": {
        "id": "8nnPQBnDC5ep"
      },
      "source": [
        "The two features above show the feature importance maps for both target variables for the fitted XGBoost models. The final fitted models are:\n",
        "* xgb_CC5_Y1, for the Volume target variable\n",
        "* xgb_CC5_Y2, for the Duration target variable"
      ]
    },
    {
      "cell_type": "markdown",
      "metadata": {
        "id": "zR50zrNgC5eq"
      },
      "source": [
        "## 2.2. Neural Networks, using Sci-Kit Learn's MLP"
      ]
    },
    {
      "cell_type": "markdown",
      "metadata": {
        "id": "7hmOxeFcC5eq"
      },
      "source": [
        "In this second modeling part of the project, the team uses Sci-Kit Learn's MLP and pits it against XGBoost.\n",
        "\n",
        "According to the literature review conducted and the caracteristics of the data, it was expected to underperform: though it couldn't match XGBoost in raw performance on the test set considered, it did overfit less - so it's not all bad and could be interesting to explore how it can exploit more data.\n",
        "\n",
        "The following cells complete additional required pre-processing steps, including:\n",
        "* Missing values treatment\n",
        "* Data standardization"
      ]
    },
    {
      "cell_type": "code",
      "metadata": {
        "id": "q3QRWRIHC5es"
      },
      "source": [
        "# I need to check for nans\n",
        "X_train.isna().any()\n",
        "\n",
        "# I need to impute by mean for Vis, replace nans by 0 for PrecipitationHgt\n",
        "X_train['PrecipitationHgt'] = X_train['PrecipitationHgt'].fillna(0)\n",
        "X_test['PrecipitationHgt'] = X_test['PrecipitationHgt'].fillna(0)\n",
        "\n",
        "X_train['Vis'] = X_train['Vis'].fillna(X_train['Vis'].mean())\n",
        "X_test['Vis'] = X_test['Vis'].fillna(X_test['Vis'].mean())"
      ],
      "execution_count": null,
      "outputs": []
    },
    {
      "cell_type": "code",
      "metadata": {
        "id": "9NalqueaC5et"
      },
      "source": [
        "# Since it's a neural network, I will scale the data. UNlike xgboost, it is not handled automatically!\n",
        "from sklearn.preprocessing import StandardScaler\n",
        "scaler_all = StandardScaler()\n",
        "# Training\n",
        "scaler_all.fit(X_train)\n",
        "X_train = scaler_all.transform(X_train)\n",
        "# Test\n",
        "X_test = scaler_all.transform(X_test)"
      ],
      "execution_count": null,
      "outputs": []
    },
    {
      "cell_type": "markdown",
      "metadata": {
        "id": "GXt6l0wVC5et"
      },
      "source": [
        "Just like for XGBoost, a small function is created to evaluate to performance using cross-validation.\n",
        "\n",
        "It's the function below called cvprint() - it will be used throughout this section."
      ]
    },
    {
      "cell_type": "code",
      "metadata": {
        "id": "s3tEVhuUC5et"
      },
      "source": [
        "def cvprint(model,X,Y):\n",
        "    cv_results = cross_validate(model,X,Y,n_jobs=-1,scoring='neg_root_mean_squared_error',return_train_score=True)\n",
        "    # Returns valid RMSE, train RMSE\n",
        "    return -1*cv_results['test_score'].mean(), -1*cv_results['train_score'].mean()"
      ],
      "execution_count": null,
      "outputs": []
    },
    {
      "cell_type": "markdown",
      "metadata": {
        "id": "M9QhXZAaC5et"
      },
      "source": [
        "The cells below define the reference model, which was trained with semi-random/standard parameters. Its performance for both target variable is recorded for future comparison."
      ]
    },
    {
      "cell_type": "code",
      "metadata": {
        "id": "5-k5husGC5eu"
      },
      "source": [
        "# Reference model\n",
        "ref_model = MLPRegressor(hidden_layer_sizes=(20,20),\n",
        "                         learning_rate='constant',\n",
        "                         activation='relu',\n",
        "                         alpha=0.0001,\n",
        "                         max_iter=5000, \n",
        "                         early_stopping=True,\n",
        "                         validation_fraction=0.2,\n",
        "                         learning_rate_init=0.001)"
      ],
      "execution_count": null,
      "outputs": []
    },
    {
      "cell_type": "code",
      "metadata": {
        "id": "XZpSgNnJC5eu",
        "outputId": "dd077fbc-ebe3-4630-bf4c-51fbff3dce63"
      },
      "source": [
        "ref_model.fit(X_train,Y1_train)\n",
        "predictions = ref_model.predict(X_test)\n",
        "print(\"RMSE (Test) : %.2f\" % sqrt(metrics.mean_squared_error(Y1_test.values, predictions)))"
      ],
      "execution_count": null,
      "outputs": [
        {
          "output_type": "stream",
          "text": [
            "RMSE (Test) : 190.87\n"
          ],
          "name": "stdout"
        }
      ]
    },
    {
      "cell_type": "code",
      "metadata": {
        "id": "bPYxIS16C5eu",
        "outputId": "b58090e4-32ea-4c67-d3b6-d0f99637e1fd"
      },
      "source": [
        "ref_model.fit(X_train,Y2_train)\n",
        "predictions = ref_model.predict(X_test)\n",
        "print(\"RMSE (Test) : %.2f\" % sqrt(metrics.mean_squared_error(Y2_test.values, predictions)))"
      ],
      "execution_count": null,
      "outputs": [
        {
          "output_type": "stream",
          "text": [
            "RMSE (Test) : 61.73\n"
          ],
          "name": "stdout"
        }
      ]
    },
    {
      "cell_type": "code",
      "metadata": {
        "id": "d1D74JRNC5eu",
        "outputId": "a0debaa2-f650-4fa6-b082-87f2e3d5bbe2"
      },
      "source": [
        "valid_rmse, train_rmse = cvprint(ref_model,X_train,Y1_train)\n",
        "print(valid_rmse)\n",
        "print(train_rmse)"
      ],
      "execution_count": null,
      "outputs": [
        {
          "output_type": "stream",
          "text": [
            "174.66707596523312\n",
            "153.92942520040216\n"
          ],
          "name": "stdout"
        }
      ]
    },
    {
      "cell_type": "markdown",
      "metadata": {
        "id": "q3ZANtQwC5ev"
      },
      "source": [
        "### 2.2.1. Hyperparameter tuning"
      ]
    },
    {
      "cell_type": "markdown",
      "metadata": {
        "id": "jib0tz8mC5ev"
      },
      "source": [
        "In a first step, different hyperparameter ranges are tested for the most important hyperparameters. The optimal looking ranges will be selected and used in a grid search in the next step. This pre-search allows for a quicker grid search. The hyperparameter tested are:\n",
        "* Number of layers\n",
        "* Neurons per layer\n",
        "* Learning rate algorithm and initialization\n",
        "* Alpha (regularization parameter)\n",
        "\n",
        "The cells below show this search for the second target variable, Y2.\n",
        "\n",
        "The same process can be applied to the first target variable Y1 - results are shown in our report."
      ]
    },
    {
      "cell_type": "code",
      "metadata": {
        "id": "BzVx-JPAC5ev",
        "outputId": "714d2121-9dc7-4164-f1fe-6f01c41dc668"
      },
      "source": [
        "# Layer number\n",
        "V_RMSE = []\n",
        "T_RMSE = []\n",
        "\n",
        "for hidden_layer_sizes in [(20,),(20,20),(20,20,20),(20,20,20,20),(20,20,20,20,20,20),(20,20,20,20,20,20,20,20)]: \n",
        "    v = []\n",
        "    t = []\n",
        "    i = 0\n",
        "    while i < 5:\n",
        "        model = MLPRegressor(hidden_layer_sizes=hidden_layer_sizes,\n",
        "                                 learning_rate='constant',\n",
        "                                 activation='relu',\n",
        "                                 alpha=0.0001,\n",
        "                                 max_iter=5000, \n",
        "                                 early_stopping=True,\n",
        "                                 validation_fraction=0.2,\n",
        "                                 learning_rate_init=0.001)\n",
        "        valid_rmse, train_rmse = cvprint(model,X_train,Y2_train)\n",
        "        v.append(valid_rmse)\n",
        "        t.append(train_rmse)\n",
        "        i = i+1\n",
        "    V_RMSE.append(np.array(v).mean())\n",
        "    T_RMSE.append(np.array(t).mean())\n",
        "    \n",
        "\n",
        "hidden_layer_size = [1,2,3,4,6,8] #,6,8\n",
        "plt.figure()\n",
        "plt.plot(hidden_layer_size,V_RMSE, label='Validation')\n",
        "plt.title('Validation loss as a function of the number of layers in MLP \\n Target variable = Volume')\n",
        "plt.xlabel('Number of layers')\n",
        "plt.ylabel('RMSE')\n",
        "print(V_RMSE)\n",
        "print(T_RMSE)"
      ],
      "execution_count": null,
      "outputs": [
        {
          "output_type": "stream",
          "text": [
            "[71.90919741558486, 69.01848466271902, 68.22836652674309, 67.62520534680628, 66.53158348575337, 65.97027345167969]\n",
            "[69.27359181739041, 65.43200288913454, 64.81449091432924, 64.00634311893648, 62.695028075153246, 61.848020518990246]\n"
          ],
          "name": "stdout"
        },
        {
          "output_type": "display_data",
          "data": {
            "image/png": "[encoded data removed]",
            "text/plain": [
              "<Figure size 432x288 with 1 Axes>"
            ]
          },
          "metadata": {
            "tags": [],
            "needs_background": "light"
          }
        }
      ]
    },
    {
      "cell_type": "code",
      "metadata": {
        "id": "8dv1vAbWC5ev",
        "outputId": "c832995a-1392-4620-d46a-a5b6a558fae9"
      },
      "source": [
        "# Neurons\n",
        "V_RMSE = []\n",
        "T_RMSE = []\n",
        "\n",
        "for x in [5,10,20,50,100]: \n",
        "    v = []\n",
        "    t = []\n",
        "    i = 0\n",
        "    while i < 5:\n",
        "        model = MLPRegressor(hidden_layer_sizes=(x,x),\n",
        "                         learning_rate='constant',\n",
        "                         activation='relu',\n",
        "                         alpha=0.0001,\n",
        "                         max_iter=5000, \n",
        "                         early_stopping=True,\n",
        "                         validation_fraction=0.2,\n",
        "                         learning_rate_init=0.001)\n",
        "        valid_rmse, train_rmse = cvprint(model,X_train,Y2_train)\n",
        "        v.append(valid_rmse)\n",
        "        t.append(train_rmse)\n",
        "        i = i+1\n",
        "    V_RMSE.append(np.array(v).mean())\n",
        "    T_RMSE.append(np.array(t).mean())\n",
        "    \n",
        "\n",
        "neurons = [5,10,20,50,100] \n",
        "plt.figure()\n",
        "plt.plot(neurons,V_RMSE, label='Validation')\n",
        "plt.title('Validation loss as a function of the number of neurons per layer in MLP \\n Target variable = Volume')\n",
        "plt.xlabel('Number of neurons per layer')\n",
        "plt.ylabel('RMSE')\n",
        "print(V_RMSE)\n",
        "print(T_RMSE)"
      ],
      "execution_count": null,
      "outputs": [
        {
          "output_type": "stream",
          "text": [
            "[73.75026504199427, 71.23781747739437, 69.11416519156636, 65.41006050822743, 63.95932510699172]\n",
            "[72.4452454051295, 68.88381547501197, 65.33950236011417, 59.48719599886418, 56.57596266131367]\n"
          ],
          "name": "stdout"
        },
        {
          "output_type": "display_data",
          "data": {
            "image/png": "[encoded data removed]",
            "text/plain": [
              "<Figure size 432x288 with 1 Axes>"
            ]
          },
          "metadata": {
            "tags": [],
            "needs_background": "light"
          }
        }
      ]
    },
    {
      "cell_type": "code",
      "metadata": {
        "id": "06TlsFKWC5ew",
        "outputId": "9782bd66-5e3d-4088-8586-d1debd959dbf"
      },
      "source": [
        "# Learning Rate\n",
        "V_RMSE = []\n",
        "T_RMSE = []\n",
        "\n",
        "for learning_rate in ['constant','invscaling','adaptative']: \n",
        "    v = []\n",
        "    t = []\n",
        "    i = 0\n",
        "    while i < 5:\n",
        "        model = MLPRegressor(hidden_layer_sizes=(20,20),\n",
        "                         learning_rate=learning_rate,\n",
        "                         activation='relu',\n",
        "                         alpha=0.0001,\n",
        "                         max_iter=5000, \n",
        "                         early_stopping=True,\n",
        "                         validation_fraction=0.2,\n",
        "                         learning_rate_init=0.001)\n",
        "        valid_rmse, train_rmse = cvprint(model,X_train,Y2_train)\n",
        "        v.append(valid_rmse)\n",
        "        t.append(train_rmse)\n",
        "        i = i+1\n",
        "    V_RMSE.append(np.array(v).mean())\n",
        "    T_RMSE.append(np.array(t).mean())\n",
        "    \n",
        "\n",
        "learning = ['constant','invscaling','adaptative']\n",
        "plt.figure()\n",
        "plt.plot(learning,V_RMSE, label='Validation')\n",
        "plt.title('Validation loss as a function of the learning rate algorithm in MLP \\n Target variable = Volume')\n",
        "plt.xlabel('Learning rate algorithm')\n",
        "plt.ylabel('RMSE')\n",
        "print(V_RMSE)\n",
        "print(T_RMSE)"
      ],
      "execution_count": null,
      "outputs": [
        {
          "output_type": "stream",
          "text": [
            "[68.7547133193773, 69.11708911934787, nan]\n",
            "[64.99770019405778, 65.33625430361296, nan]\n"
          ],
          "name": "stdout"
        },
        {
          "output_type": "display_data",
          "data": {
            "image/png": "[encoded data removed]",
            "text/plain": [
              "<Figure size 432x288 with 1 Axes>"
            ]
          },
          "metadata": {
            "tags": [],
            "needs_background": "light"
          }
        }
      ]
    },
    {
      "cell_type": "code",
      "metadata": {
        "id": "59pAzxEgC5ew",
        "outputId": "2cd9b1a5-26d0-42b6-934e-fa092926adb7"
      },
      "source": [
        "# Alpha\n",
        "V_RMSE = []\n",
        "T_RMSE = []\n",
        "\n",
        "for alpha in [1,0.1,0.01,0.001,0.0001]:\n",
        "    v = []\n",
        "    t = []\n",
        "    i = 0\n",
        "    while i < 5:\n",
        "        model = MLPRegressor(hidden_layer_sizes=(20,20),\n",
        "                         learning_rate='constant',\n",
        "                         activation='relu',\n",
        "                         alpha=alpha,\n",
        "                         max_iter=5000, \n",
        "                         early_stopping=True,\n",
        "                         validation_fraction=0.2,\n",
        "                         learning_rate_init=0.001)\n",
        "        valid_rmse, train_rmse = cvprint(model,X_train,Y2_train)\n",
        "        v.append(valid_rmse)\n",
        "        t.append(train_rmse)\n",
        "        i = i+1\n",
        "    V_RMSE.append(np.array(v).mean())\n",
        "    T_RMSE.append(np.array(t).mean())\n",
        "    \n",
        "\n",
        "alpha = [1,0.1,0.01,0.001,0.0001]\n",
        "plt.figure()\n",
        "plt.plot(alpha,V_RMSE, label='Validation')\n",
        "plt.xscale('log')\n",
        "plt.title('Validation loss as a function of alpha in MLP \\n Target variable = Duration')\n",
        "plt.xlabel('Alpha')\n",
        "plt.ylabel('RMSE')\n",
        "print(V_RMSE)\n",
        "print(T_RMSE)"
      ],
      "execution_count": null,
      "outputs": [
        {
          "output_type": "stream",
          "text": [
            "[68.14196561574491, 68.56807733287744, 68.55680547773594, 69.17948164606571, 68.82298342466784]\n",
            "[64.18937489606728, 64.90787332520115, 64.76769733016872, 65.498819091366, 65.09720772420769]\n"
          ],
          "name": "stdout"
        },
        {
          "output_type": "display_data",
          "data": {
            "image/png": "[encoded data removed]",
            "text/plain": [
              "<Figure size 432x288 with 1 Axes>"
            ]
          },
          "metadata": {
            "tags": [],
            "needs_background": "light"
          }
        }
      ]
    },
    {
      "cell_type": "code",
      "metadata": {
        "id": "FZn4d3ZoC5ew",
        "outputId": "173de8e1-36cb-4c9e-a1bc-6e04cc75a537"
      },
      "source": [
        "# Learning rate init\n",
        "V_RMSE = []\n",
        "T_RMSE = []\n",
        "\n",
        "for learning_rate_init in [10,1,0.1,0.01,0.001]:\n",
        "    v = []\n",
        "    t = []\n",
        "    i = 0\n",
        "    while i < 5:\n",
        "        model = MLPRegressor(hidden_layer_sizes=(20,20),\n",
        "                         learning_rate='constant',\n",
        "                         activation='relu',\n",
        "                         alpha=0.0001,\n",
        "                         max_iter=5000, \n",
        "                         early_stopping=True,\n",
        "                         validation_fraction=0.2,\n",
        "                         learning_rate_init=learning_rate_init)\n",
        "        valid_rmse, train_rmse = cvprint(model,X_train,Y2_train)\n",
        "        v.append(valid_rmse)\n",
        "        t.append(train_rmse)\n",
        "        i = i+1\n",
        "    V_RMSE.append(np.array(v).mean())\n",
        "    T_RMSE.append(np.array(t).mean())\n",
        "    \n",
        "\n",
        "init = [10,1,0.1,0.01,0.001]\n",
        "plt.figure()\n",
        "plt.plot(init,V_RMSE, label='Validation')\n",
        "plt.xscale('log')\n",
        "plt.title('Validation loss as a function of initial learning rate in MLP \\n Target variable = Duration')\n",
        "plt.xlabel('Initial learning rate')\n",
        "plt.ylabel('RMSE')\n",
        "print(V_RMSE)\n",
        "print(T_RMSE)"
      ],
      "execution_count": null,
      "outputs": [
        {
          "output_type": "stream",
          "text": [
            "[117.79366833177508, 87.70561052275252, 68.95159905198436, 66.99963581706028, 68.8751130118576]\n",
            "[117.78963747816417, 85.32660282233095, 65.41046511980463, 63.15040078594649, 65.23876804872525]\n"
          ],
          "name": "stdout"
        },
        {
          "output_type": "display_data",
          "data": {
            "image/png": "[encoded data removed]",
            "text/plain": [
              "<Figure size 432x288 with 1 Axes>"
            ]
          },
          "metadata": {
            "tags": [],
            "needs_background": "light"
          }
        }
      ]
    },
    {
      "cell_type": "markdown",
      "metadata": {
        "id": "VT9FqzbKC5ew"
      },
      "source": [
        "Once this pre-search is completed, the grid search may begin.\n",
        "\n",
        "The implementation of this grid search and evaluation of the best model is done through the function mlp_model_volume() below for the first target variable, and through mlp_model_duration() for the second.\n",
        "\n",
        "Both functions return the best model at the end of their search."
      ]
    },
    {
      "cell_type": "code",
      "metadata": {
        "id": "7eaXSfcFC5ex"
      },
      "source": [
        "def mlp_model_volume(X, Y):\n",
        "\n",
        "    estimator=MLPRegressor()\n",
        "\n",
        "    param_grid = {'hidden_layer_sizes': [(20,20), (20,20,20), (20,20,20,20), (50,50), (50,50,50), (50,50,50,50)],\n",
        "              'alpha': [0.1,1],\n",
        "              'learning_rate': ['invscaling'],\n",
        "              'learning_rate_init':[0.1,0.01],\n",
        "              'solver': ['adam']}\n",
        "\n",
        "    gsc = GridSearchCV(\n",
        "        estimator,\n",
        "        param_grid,\n",
        "        cv=5, scoring='neg_mean_squared_error', verbose=0, n_jobs=-1)\n",
        "\n",
        "    grid_result = gsc.fit(X, Y)\n",
        "\n",
        "    best_params = grid_result.best_params_\n",
        "\n",
        "\n",
        "    # Display GS results\n",
        "    print(\"Best: %f using %s\" % (gsc.best_score_, gsc.best_params_))\n",
        "    means = gsc.cv_results_['mean_test_score']\n",
        "    params = gsc.cv_results_['params']\n",
        "    for mean, param in zip(means, params):\n",
        "        print(\"%f with: %r\" % (mean, param))\n",
        "    \n",
        "    # Test best model\n",
        "    best_mlp = MLPRegressor(hidden_layer_sizes = best_params[\"hidden_layer_sizes\"], \n",
        "                        activation ='relu',\n",
        "                        alpha = best_params[\"alpha\"],    \n",
        "                        solver='adam',\n",
        "                        max_iter= 5000, \n",
        "                        early_stopping=True, \n",
        "                        learning_rate='invscaling',\n",
        "                        learning_rate_init=best_params[\"learning_rate_init\"]\n",
        "              )\n",
        "    \n",
        "    scores = cross_validate(best_mlp,X,Y,n_jobs=-1,scoring='neg_root_mean_squared_error',return_train_score=True)\n",
        "    print('RMSE (Valid.):',-1*scores['test_score'].mean())\n",
        "    print('RMSE (Train):',-1*scores['train_score'].mean())\n",
        "    return best_mlp"
      ],
      "execution_count": null,
      "outputs": []
    },
    {
      "cell_type": "code",
      "metadata": {
        "id": "ygqcpgIWC5ex"
      },
      "source": [
        "def mlp_model_duration(X, Y):\n",
        "\n",
        "    estimator=MLPRegressor()\n",
        "\n",
        "    param_grid = {'hidden_layer_sizes': [(50,50,50), (50,50,50,50),(50,50,50,50,50,50), (100,100,100), (100,100,100,100), (100,100,100,100,100,100)],\n",
        "              'alpha': [0.1,1],\n",
        "              'learning_rate_init':[0.1,0.01,0.001],\n",
        "              'solver': ['adam']}\n",
        "\n",
        "    gsc = GridSearchCV(\n",
        "        estimator,\n",
        "        param_grid,\n",
        "        cv=5, scoring='neg_mean_squared_error', verbose=0, n_jobs=-1)\n",
        "\n",
        "    grid_result = gsc.fit(X, Y)\n",
        "\n",
        "    best_params = grid_result.best_params_\n",
        "\n",
        "\n",
        "    # Display GS results\n",
        "    print(\"Best: %f using %s\" % (gsc.best_score_, gsc.best_params_))\n",
        "    means = gsc.cv_results_['mean_test_score']\n",
        "    params = gsc.cv_results_['params']\n",
        "    for mean, param in zip(means, params):\n",
        "        print(\"%f with: %r\" % (mean, param))\n",
        "    \n",
        "    # Test best model\n",
        "    best_mlp = MLPRegressor(hidden_layer_sizes = best_params[\"hidden_layer_sizes\"], \n",
        "                        activation ='relu',\n",
        "                        alpha = best_params[\"alpha\"],    \n",
        "                        solver='adam',\n",
        "                        max_iter= 5000, \n",
        "                        early_stopping=True,\n",
        "                        learning_rate='constant',\n",
        "                        learning_rate_init=best_params[\"learning_rate_init\"]\n",
        "              )\n",
        "    \n",
        "    scores = cross_validate(best_mlp,X,Y,n_jobs=-1,scoring='neg_root_mean_squared_error',return_train_score=True)\n",
        "    print('RMSE (Valid.):',-1*scores['test_score'].mean())\n",
        "    print('RMSE (Train):',-1*scores['train_score'].mean())\n",
        "    return best_mlp"
      ],
      "execution_count": null,
      "outputs": []
    },
    {
      "cell_type": "markdown",
      "metadata": {
        "id": "3TrKaNHfC5ex"
      },
      "source": [
        "The grid search is applied to the first target variable (Y1, Volume)"
      ]
    },
    {
      "cell_type": "code",
      "metadata": {
        "id": "etPd2-WPC5ex",
        "outputId": "f3f64c21-080d-4077-ce68-2e7bea5cbefc"
      },
      "source": [
        "best_nn_volume = mlp_model_volume(X_train,Y1_train)"
      ],
      "execution_count": null,
      "outputs": [
        {
          "output_type": "stream",
          "text": [
            "Best: -27784.451810 using {'alpha': 0.1, 'hidden_layer_sizes': (50, 50, 50, 50), 'learning_rate': 'invscaling', 'learning_rate_init': 0.01, 'solver': 'adam'}\n",
            "-34684.830519 with: {'alpha': 0.1, 'hidden_layer_sizes': (20, 20), 'learning_rate': 'invscaling', 'learning_rate_init': 0.1, 'solver': 'adam'}\n",
            "-32823.228252 with: {'alpha': 0.1, 'hidden_layer_sizes': (20, 20), 'learning_rate': 'invscaling', 'learning_rate_init': 0.01, 'solver': 'adam'}\n",
            "-37076.338635 with: {'alpha': 0.1, 'hidden_layer_sizes': (20, 20, 20), 'learning_rate': 'invscaling', 'learning_rate_init': 0.1, 'solver': 'adam'}\n",
            "-31345.896532 with: {'alpha': 0.1, 'hidden_layer_sizes': (20, 20, 20), 'learning_rate': 'invscaling', 'learning_rate_init': 0.01, 'solver': 'adam'}\n",
            "-32494.080750 with: {'alpha': 0.1, 'hidden_layer_sizes': (20, 20, 20, 20), 'learning_rate': 'invscaling', 'learning_rate_init': 0.1, 'solver': 'adam'}\n",
            "-32482.993510 with: {'alpha': 0.1, 'hidden_layer_sizes': (20, 20, 20, 20), 'learning_rate': 'invscaling', 'learning_rate_init': 0.01, 'solver': 'adam'}\n",
            "-29766.138532 with: {'alpha': 0.1, 'hidden_layer_sizes': (50, 50), 'learning_rate': 'invscaling', 'learning_rate_init': 0.1, 'solver': 'adam'}\n",
            "-28411.026736 with: {'alpha': 0.1, 'hidden_layer_sizes': (50, 50), 'learning_rate': 'invscaling', 'learning_rate_init': 0.01, 'solver': 'adam'}\n",
            "-31014.585256 with: {'alpha': 0.1, 'hidden_layer_sizes': (50, 50, 50), 'learning_rate': 'invscaling', 'learning_rate_init': 0.1, 'solver': 'adam'}\n",
            "-29397.881939 with: {'alpha': 0.1, 'hidden_layer_sizes': (50, 50, 50), 'learning_rate': 'invscaling', 'learning_rate_init': 0.01, 'solver': 'adam'}\n",
            "-33356.188045 with: {'alpha': 0.1, 'hidden_layer_sizes': (50, 50, 50, 50), 'learning_rate': 'invscaling', 'learning_rate_init': 0.1, 'solver': 'adam'}\n",
            "-27784.451810 with: {'alpha': 0.1, 'hidden_layer_sizes': (50, 50, 50, 50), 'learning_rate': 'invscaling', 'learning_rate_init': 0.01, 'solver': 'adam'}\n",
            "-33990.797668 with: {'alpha': 1, 'hidden_layer_sizes': (20, 20), 'learning_rate': 'invscaling', 'learning_rate_init': 0.1, 'solver': 'adam'}\n",
            "-33806.476582 with: {'alpha': 1, 'hidden_layer_sizes': (20, 20), 'learning_rate': 'invscaling', 'learning_rate_init': 0.01, 'solver': 'adam'}\n",
            "-35300.624755 with: {'alpha': 1, 'hidden_layer_sizes': (20, 20, 20), 'learning_rate': 'invscaling', 'learning_rate_init': 0.1, 'solver': 'adam'}\n",
            "-33758.718970 with: {'alpha': 1, 'hidden_layer_sizes': (20, 20, 20), 'learning_rate': 'invscaling', 'learning_rate_init': 0.01, 'solver': 'adam'}\n",
            "-35515.333190 with: {'alpha': 1, 'hidden_layer_sizes': (20, 20, 20, 20), 'learning_rate': 'invscaling', 'learning_rate_init': 0.1, 'solver': 'adam'}\n",
            "-33744.928994 with: {'alpha': 1, 'hidden_layer_sizes': (20, 20, 20, 20), 'learning_rate': 'invscaling', 'learning_rate_init': 0.01, 'solver': 'adam'}\n",
            "-29279.948592 with: {'alpha': 1, 'hidden_layer_sizes': (50, 50), 'learning_rate': 'invscaling', 'learning_rate_init': 0.1, 'solver': 'adam'}\n",
            "-28533.910497 with: {'alpha': 1, 'hidden_layer_sizes': (50, 50), 'learning_rate': 'invscaling', 'learning_rate_init': 0.01, 'solver': 'adam'}\n",
            "-28024.113009 with: {'alpha': 1, 'hidden_layer_sizes': (50, 50, 50), 'learning_rate': 'invscaling', 'learning_rate_init': 0.1, 'solver': 'adam'}\n",
            "-28230.962396 with: {'alpha': 1, 'hidden_layer_sizes': (50, 50, 50), 'learning_rate': 'invscaling', 'learning_rate_init': 0.01, 'solver': 'adam'}\n",
            "-148682.194569 with: {'alpha': 1, 'hidden_layer_sizes': (50, 50, 50, 50), 'learning_rate': 'invscaling', 'learning_rate_init': 0.1, 'solver': 'adam'}\n",
            "-28184.220888 with: {'alpha': 1, 'hidden_layer_sizes': (50, 50, 50, 50), 'learning_rate': 'invscaling', 'learning_rate_init': 0.01, 'solver': 'adam'}\n",
            "RMSE (Valid.): 172.59590099175375\n",
            "RMSE (Train): 146.03856678694257\n"
          ],
          "name": "stdout"
        }
      ]
    },
    {
      "cell_type": "markdown",
      "metadata": {
        "id": "zXnLo3UHC5ex"
      },
      "source": [
        "And to the second target variable (Y2, Duration)"
      ]
    },
    {
      "cell_type": "code",
      "metadata": {
        "id": "XJ73Pf2DC5ex",
        "outputId": "5cfe3ebd-a55f-478c-dd40-9db69884e732"
      },
      "source": [
        "best_nn_duration = mlp_model_duration(X_train,Y2_train)"
      ],
      "execution_count": null,
      "outputs": [
        {
          "output_type": "stream",
          "text": [
            "C:\\Users\\willi\\Anaconda3\\lib\\site-packages\\sklearn\\neural_network\\_multilayer_perceptron.py:585: ConvergenceWarning: Stochastic Optimizer: Maximum iterations (200) reached and the optimization hasn't converged yet.\n",
            "  % self.max_iter, ConvergenceWarning)\n"
          ],
          "name": "stderr"
        },
        {
          "output_type": "stream",
          "text": [
            "Best: -4009.411231 using {'alpha': 1, 'hidden_layer_sizes': (100, 100, 100), 'learning_rate_init': 0.001, 'solver': 'adam'}\n",
            "-4388.239823 with: {'alpha': 0.1, 'hidden_layer_sizes': (50, 50, 50), 'learning_rate_init': 0.1, 'solver': 'adam'}\n",
            "-4376.654531 with: {'alpha': 0.1, 'hidden_layer_sizes': (50, 50, 50), 'learning_rate_init': 0.01, 'solver': 'adam'}\n",
            "-4085.002343 with: {'alpha': 0.1, 'hidden_layer_sizes': (50, 50, 50), 'learning_rate_init': 0.001, 'solver': 'adam'}\n",
            "-4231.406817 with: {'alpha': 0.1, 'hidden_layer_sizes': (50, 50, 50, 50), 'learning_rate_init': 0.1, 'solver': 'adam'}\n",
            "-4251.899567 with: {'alpha': 0.1, 'hidden_layer_sizes': (50, 50, 50, 50), 'learning_rate_init': 0.01, 'solver': 'adam'}\n",
            "-4045.874918 with: {'alpha': 0.1, 'hidden_layer_sizes': (50, 50, 50, 50), 'learning_rate_init': 0.001, 'solver': 'adam'}\n",
            "-8482.704579 with: {'alpha': 0.1, 'hidden_layer_sizes': (50, 50, 50, 50, 50, 50), 'learning_rate_init': 0.1, 'solver': 'adam'}\n",
            "-4148.194213 with: {'alpha': 0.1, 'hidden_layer_sizes': (50, 50, 50, 50, 50, 50), 'learning_rate_init': 0.01, 'solver': 'adam'}\n",
            "-4071.947526 with: {'alpha': 0.1, 'hidden_layer_sizes': (50, 50, 50, 50, 50, 50), 'learning_rate_init': 0.001, 'solver': 'adam'}\n",
            "-4294.359152 with: {'alpha': 0.1, 'hidden_layer_sizes': (100, 100, 100), 'learning_rate_init': 0.1, 'solver': 'adam'}\n",
            "-4332.311993 with: {'alpha': 0.1, 'hidden_layer_sizes': (100, 100, 100), 'learning_rate_init': 0.01, 'solver': 'adam'}\n",
            "-4016.584163 with: {'alpha': 0.1, 'hidden_layer_sizes': (100, 100, 100), 'learning_rate_init': 0.001, 'solver': 'adam'}\n",
            "-8625.294681 with: {'alpha': 0.1, 'hidden_layer_sizes': (100, 100, 100, 100), 'learning_rate_init': 0.1, 'solver': 'adam'}\n",
            "-4506.523379 with: {'alpha': 0.1, 'hidden_layer_sizes': (100, 100, 100, 100), 'learning_rate_init': 0.01, 'solver': 'adam'}\n",
            "-4140.361567 with: {'alpha': 0.1, 'hidden_layer_sizes': (100, 100, 100, 100), 'learning_rate_init': 0.001, 'solver': 'adam'}\n",
            "-12953.394559 with: {'alpha': 0.1, 'hidden_layer_sizes': (100, 100, 100, 100, 100, 100), 'learning_rate_init': 0.1, 'solver': 'adam'}\n",
            "-4469.140848 with: {'alpha': 0.1, 'hidden_layer_sizes': (100, 100, 100, 100, 100, 100), 'learning_rate_init': 0.01, 'solver': 'adam'}\n",
            "-4641.083770 with: {'alpha': 0.1, 'hidden_layer_sizes': (100, 100, 100, 100, 100, 100), 'learning_rate_init': 0.001, 'solver': 'adam'}\n",
            "-4691.663244 with: {'alpha': 1, 'hidden_layer_sizes': (50, 50, 50), 'learning_rate_init': 0.1, 'solver': 'adam'}\n",
            "-4107.031405 with: {'alpha': 1, 'hidden_layer_sizes': (50, 50, 50), 'learning_rate_init': 0.01, 'solver': 'adam'}\n",
            "-4101.435837 with: {'alpha': 1, 'hidden_layer_sizes': (50, 50, 50), 'learning_rate_init': 0.001, 'solver': 'adam'}\n",
            "-8245.575854 with: {'alpha': 1, 'hidden_layer_sizes': (50, 50, 50, 50), 'learning_rate_init': 0.1, 'solver': 'adam'}\n",
            "-4403.476095 with: {'alpha': 1, 'hidden_layer_sizes': (50, 50, 50, 50), 'learning_rate_init': 0.01, 'solver': 'adam'}\n",
            "-4075.590889 with: {'alpha': 1, 'hidden_layer_sizes': (50, 50, 50, 50), 'learning_rate_init': 0.001, 'solver': 'adam'}\n",
            "-13921.519593 with: {'alpha': 1, 'hidden_layer_sizes': (50, 50, 50, 50, 50, 50), 'learning_rate_init': 0.1, 'solver': 'adam'}\n",
            "-4143.601771 with: {'alpha': 1, 'hidden_layer_sizes': (50, 50, 50, 50, 50, 50), 'learning_rate_init': 0.01, 'solver': 'adam'}\n",
            "-4120.987236 with: {'alpha': 1, 'hidden_layer_sizes': (50, 50, 50, 50, 50, 50), 'learning_rate_init': 0.001, 'solver': 'adam'}\n",
            "-4325.564395 with: {'alpha': 1, 'hidden_layer_sizes': (100, 100, 100), 'learning_rate_init': 0.1, 'solver': 'adam'}\n",
            "-4057.125874 with: {'alpha': 1, 'hidden_layer_sizes': (100, 100, 100), 'learning_rate_init': 0.01, 'solver': 'adam'}\n",
            "-4009.411231 with: {'alpha': 1, 'hidden_layer_sizes': (100, 100, 100), 'learning_rate_init': 0.001, 'solver': 'adam'}\n",
            "-6385.728719 with: {'alpha': 1, 'hidden_layer_sizes': (100, 100, 100, 100), 'learning_rate_init': 0.1, 'solver': 'adam'}\n",
            "-4387.297224 with: {'alpha': 1, 'hidden_layer_sizes': (100, 100, 100, 100), 'learning_rate_init': 0.01, 'solver': 'adam'}\n",
            "-4186.473828 with: {'alpha': 1, 'hidden_layer_sizes': (100, 100, 100, 100), 'learning_rate_init': 0.001, 'solver': 'adam'}\n",
            "-10556.510645 with: {'alpha': 1, 'hidden_layer_sizes': (100, 100, 100, 100, 100, 100), 'learning_rate_init': 0.1, 'solver': 'adam'}\n",
            "-4725.328370 with: {'alpha': 1, 'hidden_layer_sizes': (100, 100, 100, 100, 100, 100), 'learning_rate_init': 0.01, 'solver': 'adam'}\n",
            "-4608.586768 with: {'alpha': 1, 'hidden_layer_sizes': (100, 100, 100, 100, 100, 100), 'learning_rate_init': 0.001, 'solver': 'adam'}\n",
            "RMSE (Valid.): 63.443170033180266\n",
            "RMSE (Train): 55.452793103386114\n"
          ],
          "name": "stdout"
        }
      ]
    },
    {
      "cell_type": "markdown",
      "metadata": {
        "id": "0Z0BktZVC5ey"
      },
      "source": [
        "Finally, the best models (best_nn_volume and best_nn_duration) are tested on the test set that had been set aside for evaluation purposes until then. The hyperparameter tuning increases the model performance in both cases, when compared to the reference model."
      ]
    },
    {
      "cell_type": "code",
      "metadata": {
        "id": "tg2i_BCpC5ey",
        "outputId": "09639197-d1dc-4cfd-d8a4-d45361efd0e3"
      },
      "source": [
        "# Volume\n",
        "best_nn_volume = MLPRegressor(hidden_layer_sizes=(50,50,50,50),\n",
        "                         learning_rate='invscaling',\n",
        "                         activation='relu',\n",
        "                         alpha=0.1,\n",
        "                         max_iter=5000, \n",
        "                         early_stopping=True,\n",
        "                         validation_fraction=0.2,\n",
        "                         learning_rate_init=0.01)\n",
        "best_nn_volume.fit(X_train,Y1_train)\n",
        "predictions = best_nn_volume.predict(X_test)\n",
        "print(\"RMSE (Test) : %.2f\" % sqrt(metrics.mean_squared_error(Y1_test.values, predictions)))"
      ],
      "execution_count": null,
      "outputs": [
        {
          "output_type": "stream",
          "text": [
            "RMSE (Test) : 163.58\n"
          ],
          "name": "stdout"
        }
      ]
    },
    {
      "cell_type": "code",
      "metadata": {
        "id": "UvIPbnO0C5ey",
        "outputId": "265f5b97-bc72-474f-b075-c2e636c3c24d"
      },
      "source": [
        "# Duration\n",
        "best_nn_duration = MLPRegressor(hidden_layer_sizes=(100,100,100),\n",
        "                         learning_rate='constant',\n",
        "                         activation='relu',\n",
        "                         alpha=1,\n",
        "                         max_iter=5000, \n",
        "                         early_stopping=True,\n",
        "                         validation_fraction=0.2,\n",
        "                         learning_rate_init=0.001)\n",
        "best_nn_duration.fit(X_train,Y2_train)\n",
        "predictions = best_nn_duration.predict(X_test)\n",
        "print(\"RMSE (Test) : %.2f\" % sqrt(metrics.mean_squared_error(Y2_test.values, predictions)))"
      ],
      "execution_count": null,
      "outputs": [
        {
          "output_type": "stream",
          "text": [
            "RMSE (Test) : 59.68\n"
          ],
          "name": "stdout"
        }
      ]
    },
    {
      "cell_type": "markdown",
      "metadata": {
        "id": "3VWm_PtvC5ey"
      },
      "source": [
        "## 2.3. Plots\n",
        "The last part of this section is plots - all results are plotted. The results from XGBoost and from the MLP will be compared, and both test and training points will be shown to analyze overfitting, if applicable.\n",
        "\n",
        "The results will be presented for two 3-day periods, chosen semi-randomly:\n",
        "* Thursday, October 4 2018 - Satuday, October 6 2018 : a regular work week\n",
        "* Sunday, June 23 2019 - Tuesday, June 25 2019 : summer holidays\n",
        "\n",
        "The two cells below were used to flag training and testing points for subsequent plotting. They also select the date ranges of interest, so that we are able to make predictions on those specific time periods."
      ]
    },
    {
      "cell_type": "code",
      "metadata": {
        "id": "HBR_R3EYC5ey",
        "outputId": "f67a2eb2-e37f-4073-b4eb-fe6fa2b65b99"
      },
      "source": [
        "# Code to find which points are training points\n",
        "train_data = X_train\n",
        "# loaded once train_data with correct X_train - don't run again!\n",
        "train_data['train'] = 1\n",
        "train_data = train_data['train']\n",
        "train_data.to_frame()"
      ],
      "execution_count": null,
      "outputs": [
        {
          "output_type": "execute_result",
          "data": {
            "text/html": [
              "<div>\n",
              "<style scoped>\n",
              "    .dataframe tbody tr th:only-of-type {\n",
              "        vertical-align: middle;\n",
              "    }\n",
              "\n",
              "    .dataframe tbody tr th {\n",
              "        vertical-align: top;\n",
              "    }\n",
              "\n",
              "    .dataframe thead th {\n",
              "        text-align: right;\n",
              "    }\n",
              "</style>\n",
              "<table border=\"1\" class=\"dataframe\">\n",
              "  <thead>\n",
              "    <tr style=\"text-align: right;\">\n",
              "      <th></th>\n",
              "      <th>train</th>\n",
              "    </tr>\n",
              "    <tr>\n",
              "      <th>dateIDh</th>\n",
              "      <th></th>\n",
              "    </tr>\n",
              "  </thead>\n",
              "  <tbody>\n",
              "    <tr>\n",
              "      <th>2019082607</th>\n",
              "      <td>1</td>\n",
              "    </tr>\n",
              "    <tr>\n",
              "      <th>2017060618</th>\n",
              "      <td>1</td>\n",
              "    </tr>\n",
              "    <tr>\n",
              "      <th>2018100919</th>\n",
              "      <td>1</td>\n",
              "    </tr>\n",
              "    <tr>\n",
              "      <th>2019091123</th>\n",
              "      <td>1</td>\n",
              "    </tr>\n",
              "    <tr>\n",
              "      <th>2019070718</th>\n",
              "      <td>1</td>\n",
              "    </tr>\n",
              "    <tr>\n",
              "      <th>...</th>\n",
              "      <td>...</td>\n",
              "    </tr>\n",
              "    <tr>\n",
              "      <th>2019061916</th>\n",
              "      <td>1</td>\n",
              "    </tr>\n",
              "    <tr>\n",
              "      <th>2018051504</th>\n",
              "      <td>1</td>\n",
              "    </tr>\n",
              "    <tr>\n",
              "      <th>2019042620</th>\n",
              "      <td>1</td>\n",
              "    </tr>\n",
              "    <tr>\n",
              "      <th>2018041321</th>\n",
              "      <td>1</td>\n",
              "    </tr>\n",
              "    <tr>\n",
              "      <th>2019060511</th>\n",
              "      <td>1</td>\n",
              "    </tr>\n",
              "  </tbody>\n",
              "</table>\n",
              "<p>12196 rows × 1 columns</p>\n",
              "</div>"
            ],
            "text/plain": [
              "            train\n",
              "dateIDh          \n",
              "2019082607      1\n",
              "2017060618      1\n",
              "2018100919      1\n",
              "2019091123      1\n",
              "2019070718      1\n",
              "...           ...\n",
              "2019061916      1\n",
              "2018051504      1\n",
              "2019042620      1\n",
              "2018041321      1\n",
              "2019060511      1\n",
              "\n",
              "[12196 rows x 1 columns]"
            ]
          },
          "metadata": {
            "tags": []
          },
          "execution_count": 10
        }
      ]
    },
    {
      "cell_type": "code",
      "metadata": {
        "id": "0DNwSEFgC5ez"
      },
      "source": [
        "# First I need to get the points I need for volume and duration based on time, and identify which is test, which is train.\n",
        "# Second I need to make sure the data is in the right format for each model\n",
        "# Third I make predictions\n",
        "# Finally, I make plots!\n",
        "\n",
        "raw_work = hourly_2019[(hourly_2019['dateIDd'] >= 20181004) & (hourly_2019['dateIDd'] <= 20181006)]\n",
        "raw_holiday = hourly_2019[(hourly_2019['dateIDd'] >= 20190623) & (hourly_2019['dateIDd'] <= 20190625)]\n",
        "\n",
        "# ajouter ici la division train/test\n",
        "observed_work = raw_work[['Duration','Volume']]\n",
        "observed_work_train = pd.merge(observed_work, train_data, left_index=True, right_index=True, how='left')\n",
        "observed_work_train['train'] = observed_work_train['train'].fillna(0)\n",
        "observed_work_train['time'] = range(len(observed_work))\n",
        "observed_holiday = raw_holiday[['Duration','Volume']]\n",
        "observed_holiday_train = pd.merge(observed_holiday, train_data, left_index=True, right_index=True, how='left')\n",
        "observed_holiday_train['train'] = observed_holiday_train['train'].fillna(0)\n",
        "observed_holiday_train['time'] = range(len(observed_holiday))\n",
        "\n",
        "# BETTER: pd.date_range(start=\"2018-09-09\",end=\"2020-02-02\")\n",
        "\n",
        "# Time encoding\n",
        "raw_work = encode(raw_work,'Month',12)\n",
        "raw_work = encode(raw_work,'Day',31)\n",
        "raw_work = encode(raw_work,'Hour',23)\n",
        "raw_holiday = encode(raw_holiday,'Month',12)\n",
        "raw_holiday = encode(raw_holiday,'Day',31)\n",
        "raw_holiday = encode(raw_holiday,'Hour',23)\n",
        "\n",
        "# xgb data prep\n",
        "X_xg_work = raw_work.drop(['dateIDd', 'dateIDm', 'Hmdx', 'Hour', 'Day', 'Month', 'Duration', 'Volume', 'DewPoint', 'WindDir', 'WindChill'], axis=1)\n",
        "X_xg_holiday = raw_holiday.drop(['dateIDd', 'dateIDm', 'Hmdx', 'Hour', 'Day', 'Month', 'Duration', 'Volume', 'DewPoint', 'WindDir', 'WindChill'], axis=1)\n",
        "\n",
        "# Pour le nn \n",
        "# données manquantes\n",
        "X_nn_work = X_xg_work\n",
        "X_nn_work['PrecipitationHgt'] = X_nn_work['PrecipitationHgt'].fillna(0)\n",
        "X_nn_work['Vis'] = X_nn_work['Vis'].fillna(X_nn_work['Vis'].mean())\n",
        "X_nn_holiday = X_xg_holiday\n",
        "X_nn_holiday['PrecipitationHgt'] = X_nn_holiday['PrecipitationHgt'].fillna(0)\n",
        "X_nn_holiday['Vis'] = X_nn_holiday['Vis'].fillna(X_nn_holiday['Vis'].mean())\n",
        "# uiliser scaler_all pour scale (pas fit un nouveau scaler)\n",
        "X_nn_work = scaler_all.transform(X_nn_work)\n",
        "X_nn_holiday = scaler_all.transform(X_nn_holiday)"
      ],
      "execution_count": null,
      "outputs": []
    },
    {
      "cell_type": "markdown",
      "metadata": {
        "id": "SSbTnd02C5ez"
      },
      "source": [
        "Predictions are computed using the best models trained in sections 2.1 and 2.2."
      ]
    },
    {
      "cell_type": "code",
      "metadata": {
        "id": "Y3_JWX3aC5ez"
      },
      "source": [
        "# predicting\n",
        "predicted_xgb_work_volume = xgb_CC5_Y1.predict(X_xg_work)\n",
        "predicted_xgb_work_duration = xgb_CC5_Y2.predict(X_xg_work)\n",
        "predicted_nn_work_volume = best_nn_volume.predict(X_nn_work)\n",
        "predicted_nn_work_duration = best_nn_duration.predict(X_nn_work)\n",
        "\n",
        "predicted_xgb_holiday_volume = xgb_CC5_Y1.predict(X_xg_holiday)\n",
        "predicted_xgb_holiday_duration = xgb_CC5_Y2.predict(X_xg_holiday)\n",
        "predicted_nn_holiday_volume = best_nn_volume.predict(X_nn_holiday)\n",
        "predicted_nn_holiday_duration = best_nn_duration.predict(X_nn_holiday)"
      ],
      "execution_count": null,
      "outputs": []
    },
    {
      "cell_type": "markdown",
      "metadata": {
        "id": "ytrMGQrMC5ez"
      },
      "source": [
        "Finally:\n",
        "\n",
        "The results are plotted. 4 plots will be shown:\n",
        "* Work week, BIXI bike rides recorded (target variable 1)\n",
        "* Holidays, BIXI bike rides recorded (target variable 1)\n",
        "* Work week, average trip duration (target variable 2)\n",
        "* Holidays, average trip duration (target variable 2)"
      ]
    },
    {
      "cell_type": "code",
      "metadata": {
        "id": "zB2W7R4kC5ez",
        "outputId": "2a957a97-f015-4605-f61d-ac97dafcaae2"
      },
      "source": [
        "import seaborn as sns\n",
        "sns.set(rc={'figure.figsize':(20,5.75)})\n",
        "fg = sns.scatterplot(x=\"time\", y=\"Volume\", hue=\"train\", style=\"train\", s=100, data=observed_work_train)\n",
        "plt.plot(observed_work_train['time'],predicted_xgb_work_volume, label='XGboost Predictions', linewidth=1, c='0.4')\n",
        "plt.plot(observed_work_train['time'],predicted_nn_work_volume, label='Neural Network Predictions', linewidth=1, c='0.2', linestyle='--')\n",
        "plt.legend(['XGboost Predictions','Neural Network Predictions','Train Data','Test Data'], fontsize=14)\n",
        "plt.title('BIXI bike rides recorded per hour during the end of a regular work week \\n From Thursday, October 4th 2018 to Saturday, October 6th 2018', fontsize=20)\n",
        "plt.xlabel('Datetime', fontweight=\"bold\", fontsize=14)\n",
        "plt.ylabel('BIXI bike rides recorded per hour', fontweight=\"bold\", fontsize=14)\n",
        "plt.xticks(range(0,72,6), ['0h \\n Thursday','6h', '12h', '18h','0h \\n Friday','6h', '12h', '18h',\n",
        "                                   '0h \\n Saturday','6h', '12h', '18h','0h \\n Sunday'], rotation=0)"
      ],
      "execution_count": null,
      "outputs": [
        {
          "output_type": "execute_result",
          "data": {
            "text/plain": [
              "([<matplotlib.axis.XTick at 0x1b8f4445e48>,\n",
              "  <matplotlib.axis.XTick at 0x1b88144f5c0>,\n",
              "  <matplotlib.axis.XTick at 0x1b881872518>,\n",
              "  <matplotlib.axis.XTick at 0x1b881872748>,\n",
              "  <matplotlib.axis.XTick at 0x1b881872eb8>,\n",
              "  <matplotlib.axis.XTick at 0x1b88187c390>,\n",
              "  <matplotlib.axis.XTick at 0x1b88187c828>,\n",
              "  <matplotlib.axis.XTick at 0x1b88187ccc0>,\n",
              "  <matplotlib.axis.XTick at 0x1b88187cda0>,\n",
              "  <matplotlib.axis.XTick at 0x1b88187c8d0>,\n",
              "  <matplotlib.axis.XTick at 0x1b88144f208>,\n",
              "  <matplotlib.axis.XTick at 0x1b8818acd30>],\n",
              " [Text(0, 0, '0h \\n Thursday'),\n",
              "  Text(0, 0, '6h'),\n",
              "  Text(0, 0, '12h'),\n",
              "  Text(0, 0, '18h'),\n",
              "  Text(0, 0, '0h \\n Friday'),\n",
              "  Text(0, 0, '6h'),\n",
              "  Text(0, 0, '12h'),\n",
              "  Text(0, 0, '18h'),\n",
              "  Text(0, 0, '0h \\n Saturday'),\n",
              "  Text(0, 0, '6h'),\n",
              "  Text(0, 0, '12h'),\n",
              "  Text(0, 0, '18h')])"
            ]
          },
          "metadata": {
            "tags": []
          },
          "execution_count": 30
        },
        {
          "output_type": "display_data",
          "data": {
            "image/png": "[encoded data removed]",
            "text/plain": [
              "<Figure size 1440x414 with 1 Axes>"
            ]
          },
          "metadata": {
            "tags": []
          }
        }
      ]
    },
    {
      "cell_type": "code",
      "metadata": {
        "id": "iuBSXghvC5e0",
        "outputId": "b128a81e-c5f5-4ff8-9080-3978aeccdc06"
      },
      "source": [
        "import seaborn as sns\n",
        "sns.set(rc={'figure.figsize':(20,5.75)})\n",
        "fg2 = sns.scatterplot(x=\"time\", y=\"Volume\", hue=\"train\", style=\"train\", s=100, data=observed_holiday_train)\n",
        "plt.plot(observed_holiday_train['time'],predicted_xgb_holiday_volume, label='XGboost Predictions', linewidth=1, c='0.4')\n",
        "plt.plot(observed_holiday_train['time'],predicted_nn_holiday_volume, label='Neural Network Predictions', linewidth=1, c='0.2', linestyle='--')\n",
        "plt.legend(['XGboost Predictions','Neural Network Predictions','Train Data','Test Data'], fontsize=14)\n",
        "plt.title('BIXI bike rides recorded per hour during summer holidays \\n From Sunday, June 23rd 2019 to Tuesday, June 25th 2019', fontsize=20)\n",
        "plt.xlabel('Datetime', fontweight=\"bold\", fontsize=14)\n",
        "plt.ylabel('BIXI bike rides recorded per hour', fontweight=\"bold\", fontsize=14)\n",
        "plt.xticks(range(0,72,6), ['0h \\n Sunday','6h', '12h', '18h', \n",
        "                                   '0h \\n Monday','6h', '12h', '18h','0h \\n Tuesday','6h', '12h', '18h'], rotation=0)"
      ],
      "execution_count": null,
      "outputs": [
        {
          "output_type": "execute_result",
          "data": {
            "text/plain": [
              "([<matplotlib.axis.XTick at 0x1b8819780b8>,\n",
              "  <matplotlib.axis.XTick at 0x1b88198a908>,\n",
              "  <matplotlib.axis.XTick at 0x1b8819a84e0>,\n",
              "  <matplotlib.axis.XTick at 0x1b8819a8a20>,\n",
              "  <matplotlib.axis.XTick at 0x1b8819b1208>,\n",
              "  <matplotlib.axis.XTick at 0x1b8819b1668>,\n",
              "  <matplotlib.axis.XTick at 0x1b8819b1b00>,\n",
              "  <matplotlib.axis.XTick at 0x1b8819b1f60>,\n",
              "  <matplotlib.axis.XTick at 0x1b8819b7470>,\n",
              "  <matplotlib.axis.XTick at 0x1b8819b7908>,\n",
              "  <matplotlib.axis.XTick at 0x1b88198a550>,\n",
              "  <matplotlib.axis.XTick at 0x1b8822b52e8>],\n",
              " [Text(0, 0, '0h \\n Sunday'),\n",
              "  Text(0, 0, '6h'),\n",
              "  Text(0, 0, '12h'),\n",
              "  Text(0, 0, '18h'),\n",
              "  Text(0, 0, '0h \\n Monday'),\n",
              "  Text(0, 0, '6h'),\n",
              "  Text(0, 0, '12h'),\n",
              "  Text(0, 0, '18h'),\n",
              "  Text(0, 0, '0h \\n Tuesday'),\n",
              "  Text(0, 0, '6h'),\n",
              "  Text(0, 0, '12h'),\n",
              "  Text(0, 0, '18h')])"
            ]
          },
          "metadata": {
            "tags": []
          },
          "execution_count": 32
        },
        {
          "output_type": "display_data",
          "data": {
            "image/png": "[encoded data removed]",
            "text/plain": [
              "<Figure size 1440x414 with 1 Axes>"
            ]
          },
          "metadata": {
            "tags": []
          }
        }
      ]
    },
    {
      "cell_type": "code",
      "metadata": {
        "id": "g2Ru4rC4C5e0",
        "outputId": "4f34a390-1a09-4857-93ad-389ec7620ec3"
      },
      "source": [
        "import seaborn as sns\n",
        "sns.set(rc={'figure.figsize':(20,5.75)})\n",
        "fg3 = sns.scatterplot(x=\"time\", y=\"Duration\", hue=\"train\", style=\"train\", s=100, data=observed_work_train)\n",
        "plt.plot(observed_work_train['time'],predicted_xgb_work_duration, label='XGboost Predictions', linewidth=1, c='0.4')\n",
        "plt.plot(observed_work_train['time'],predicted_nn_work_duration, label='Neural Network Predictions', linewidth=1, c='0.2', linestyle='--')\n",
        "plt.legend(['XGboost Predictions','Neural Network Predictions','Train Data','Test Data'], fontsize=14)\n",
        "plt.title('BIXI average trip length during the end of a regular work week \\n From Thursday, October 4th 2018 to Saturday, October 6th 2018', fontsize=20)\n",
        "plt.xlabel('Datetime', fontweight=\"bold\", fontsize=14)\n",
        "plt.ylabel('Average trip length (seconds)', fontweight=\"bold\", fontsize=14)\n",
        "plt.xticks(range(0,72,6), ['0h \\n Thursday','6h', '12h', '18h','0h \\n Friday','6h', '12h', '18h',\n",
        "                                   '0h \\n Saturday','6h', '12h', '18h','0h \\n Sunday'], rotation=0)"
      ],
      "execution_count": null,
      "outputs": [
        {
          "output_type": "execute_result",
          "data": {
            "text/plain": [
              "([<matplotlib.axis.XTick at 0x1b8822d8278>,\n",
              "  <matplotlib.axis.XTick at 0x1b8822de048>,\n",
              "  <matplotlib.axis.XTick at 0x1b8822fcf60>,\n",
              "  <matplotlib.axis.XTick at 0x1b8823082b0>,\n",
              "  <matplotlib.axis.XTick at 0x1b882308898>,\n",
              "  <matplotlib.axis.XTick at 0x1b882308d30>,\n",
              "  <matplotlib.axis.XTick at 0x1b88230e240>,\n",
              "  <matplotlib.axis.XTick at 0x1b88230e6a0>,\n",
              "  <matplotlib.axis.XTick at 0x1b88230eb38>,\n",
              "  <matplotlib.axis.XTick at 0x1b88230ee80>,\n",
              "  <matplotlib.axis.XTick at 0x1b8822dbc50>,\n",
              "  <matplotlib.axis.XTick at 0x1b882339208>],\n",
              " [Text(0, 0, '0h \\n Thursday'),\n",
              "  Text(0, 0, '6h'),\n",
              "  Text(0, 0, '12h'),\n",
              "  Text(0, 0, '18h'),\n",
              "  Text(0, 0, '0h \\n Friday'),\n",
              "  Text(0, 0, '6h'),\n",
              "  Text(0, 0, '12h'),\n",
              "  Text(0, 0, '18h'),\n",
              "  Text(0, 0, '0h \\n Saturday'),\n",
              "  Text(0, 0, '6h'),\n",
              "  Text(0, 0, '12h'),\n",
              "  Text(0, 0, '18h')])"
            ]
          },
          "metadata": {
            "tags": []
          },
          "execution_count": 33
        },
        {
          "output_type": "display_data",
          "data": {
            "image/png": "[encoded data removed]",
            "text/plain": [
              "<Figure size 1440x414 with 1 Axes>"
            ]
          },
          "metadata": {
            "tags": []
          }
        }
      ]
    },
    {
      "cell_type": "code",
      "metadata": {
        "id": "OwtPa2-aC5e0",
        "outputId": "1d4a5873-a065-4699-cf70-d9afee99d351"
      },
      "source": [
        "import seaborn as sns\n",
        "sns.set(rc={'figure.figsize':(20,5.75)})\n",
        "fg4 = sns.scatterplot(x=\"time\", y=\"Duration\", hue=\"train\", style=\"train\", s=100, data=observed_holiday_train)\n",
        "plt.plot(observed_holiday_train['time'],predicted_xgb_holiday_duration, label='XGboost Predictions', linewidth=1, c='0.4')\n",
        "plt.plot(observed_holiday_train['time'],predicted_nn_holiday_duration, label='Neural Network Predictions', linewidth=1, c='0.2', linestyle='--')\n",
        "plt.legend(['XGboost Predictions','Neural Network Predictions','Train Data','Test Data'], fontsize=14)\n",
        "plt.title('BIXI average trip length during summer holidays \\n From Sunday, June 23rd 2019 to Wednesday, June 26th 2019', fontsize=20)\n",
        "plt.xlabel('Datetime', fontweight=\"bold\", fontsize=14)\n",
        "plt.ylabel('Average trip length (seconds)', fontweight=\"bold\", fontsize=14)\n",
        "plt.xticks(range(0,72,6), ['0h \\n Sunday','6h', '12h', '18h', \n",
        "                                   '0h \\n Monday','6h', '12h', '18h','0h \\n Tuesday','6h', '12h', '18h'], rotation=0)"
      ],
      "execution_count": null,
      "outputs": [
        {
          "output_type": "execute_result",
          "data": {
            "text/plain": [
              "([<matplotlib.axis.XTick at 0x1b88234bba8>,\n",
              "  <matplotlib.axis.XTick at 0x1b88236b080>,\n",
              "  <matplotlib.axis.XTick at 0x1b882384fd0>,\n",
              "  <matplotlib.axis.XTick at 0x1b882390240>,\n",
              "  <matplotlib.axis.XTick at 0x1b882390978>,\n",
              "  <matplotlib.axis.XTick at 0x1b882390e10>,\n",
              "  <matplotlib.axis.XTick at 0x1b882396320>,\n",
              "  <matplotlib.axis.XTick at 0x1b882396780>,\n",
              "  <matplotlib.axis.XTick at 0x1b882396c18>,\n",
              "  <matplotlib.axis.XTick at 0x1b882396438>,\n",
              "  <matplotlib.axis.XTick at 0x1b882367c88>,\n",
              "  <matplotlib.axis.XTick at 0x1b8823c12e8>],\n",
              " [Text(0, 0, '0h \\n Sunday'),\n",
              "  Text(0, 0, '6h'),\n",
              "  Text(0, 0, '12h'),\n",
              "  Text(0, 0, '18h'),\n",
              "  Text(0, 0, '0h \\n Monday'),\n",
              "  Text(0, 0, '6h'),\n",
              "  Text(0, 0, '12h'),\n",
              "  Text(0, 0, '18h'),\n",
              "  Text(0, 0, '0h \\n Tuesday'),\n",
              "  Text(0, 0, '6h'),\n",
              "  Text(0, 0, '12h'),\n",
              "  Text(0, 0, '18h')])"
            ]
          },
          "metadata": {
            "tags": []
          },
          "execution_count": 34
        },
        {
          "output_type": "display_data",
          "data": {
            "image/png": "[encoded data removed]",
            "text/plain": [
              "<Figure size 1440x414 with 1 Axes>"
            ]
          },
          "metadata": {
            "tags": []
          }
        }
      ]
    },
    {
      "cell_type": "markdown",
      "metadata": {
        "id": "CheNHfsLk5aO"
      },
      "source": [
        "# Part 3: Clustering and classifying stations per neighbourhood"
      ]
    },
    {
      "cell_type": "markdown",
      "metadata": {
        "id": "gLzAddf8F3b7"
      },
      "source": [
        "In order to analyze the bike flows per neighbourhood, we will first try to create neighbourhood clusters for BIXI stations using their latitude and longitude. \n",
        "\n",
        "In this section we will try three methods:\n",
        "- K-means\n",
        "- DBSCAN \n",
        "- Classification model"
      ]
    },
    {
      "cell_type": "markdown",
      "metadata": {
        "id": "5uUJ6LgeE8oK"
      },
      "source": [
        "## 3.1. Data pre-processing"
      ]
    },
    {
      "cell_type": "code",
      "metadata": {
        "id": "rkDBcMKIFGSh"
      },
      "source": [
        "# We will ignore the variable 'code' and will use the Station_Key_ID as the primary key.\n",
        "bixi_master_stations.head()"
      ],
      "execution_count": null,
      "outputs": []
    },
    {
      "cell_type": "code",
      "metadata": {
        "id": "tvkXx_AcFJp0"
      },
      "source": [
        "# First, we see that there a lot of duplicates of the same stations.\n",
        "bixi_master_stations.loc[bixi_master_stations['name']=='Square St-Louis']\n",
        "\n",
        "# We are only interested in 2020 stations, so we will only keep Station_Key_ID starting with 2020. There are 640 stations.\n",
        "bixi_master_stations = bixi_master_stations[bixi_master_stations['Station_Key_ID'].astype(str).str.startswith('2020')]\n",
        "bixi_master_stations.tail()"
      ],
      "execution_count": null,
      "outputs": []
    },
    {
      "cell_type": "code",
      "metadata": {
        "id": "7KJI0vneFMUf"
      },
      "source": [
        "# We then plot the geographical points; good news: it indeed looks like the BIXI station map! \n",
        "plot_bixi_master_stations = plt.plot(bixi_master_stations['longitude'], bixi_master_stations['latitude'],\n",
        "             marker='.', linewidth=0, color='#128128')\n",
        "plot_bixi_master_stations = plt.grid(which='major', color='#cccccc', alpha=0.45)\n",
        "plot_bixi_master_stations = plt.title ('Geographical distribution of BIXI stations', family='DejaVu Sans', fontsize=12)\n",
        "plot_bixi_master_stations = plt.xlabel('Longitude')\n",
        "plot_bixi_master_stations = plt.ylabel('Latitude')\n",
        "plot_bixi_master_stations = plt.show()"
      ],
      "execution_count": null,
      "outputs": []
    },
    {
      "cell_type": "code",
      "metadata": {
        "id": "Yxllld4QFNnH"
      },
      "source": [
        "# We then create a new dataframe to only keep the variables Station_Key_ID, Longitude and Latitude for our clustering analysis\n",
        "cluster_bixi_stations=bixi_master_stations.loc[:,['Station_Key_ID','latitude','longitude']]\n",
        "cluster_bixi_stations.head()"
      ],
      "execution_count": null,
      "outputs": []
    },
    {
      "cell_type": "markdown",
      "metadata": {
        "id": "7Qp8TIDZFPBg"
      },
      "source": [
        "## 3.2. K-means method"
      ]
    },
    {
      "cell_type": "markdown",
      "metadata": {
        "id": "z390vE6MG2N3"
      },
      "source": [
        "Firstly, we tried clustering the BIXI stations using an unsupervised learning technique, specifically the k-means method. To do so, we used the elbow method to evaluate an appropriate number of clusters."
      ]
    },
    {
      "cell_type": "code",
      "metadata": {
        "id": "K6JB1Y7wFZ0o"
      },
      "source": [
        "# We will validate the number of clusters by using the elbow method \n",
        "K_clusters = range(1,10)\n",
        "kmeans = [KMeans(n_clusters=i) for i in K_clusters]\n",
        "Y_axis = cluster_bixi_stations[['latitude']]\n",
        "X_axis = cluster_bixi_stations[['longitude']]\n",
        "score = [kmeans[i].fit(Y_axis).score(Y_axis) for i in range(len(kmeans))]\n",
        "\n",
        "# Visualize the graph -- we see that 3 or 4 clusters could be interesting.\n",
        "plt.plot(K_clusters, score)\n",
        "plt.xlabel('Number of Clusters')\n",
        "plt.ylabel('Score')\n",
        "plt.title('Elbow Curve')\n",
        "plt.show()"
      ],
      "execution_count": null,
      "outputs": []
    },
    {
      "cell_type": "code",
      "metadata": {
        "id": "Ivy8IQyhFcKP"
      },
      "source": [
        "# Compute K-means clustering using 4 clusters\n",
        "kmeans = KMeans(n_clusters = 4, init ='k-means++')\n",
        "kmeans.fit(cluster_bixi_stations[cluster_bixi_stations.columns[1:3]])\n",
        "cluster_bixi_stations['cluster_label'] = kmeans.fit_predict(cluster_bixi_stations[cluster_bixi_stations.columns[1:4]])\n",
        "centers = kmeans.cluster_centers_ # Coordinates of cluster centers.\n",
        "labels = kmeans.predict(cluster_bixi_stations[cluster_bixi_stations.columns[1:4]]) # Labels of each point\n",
        "cluster_bixi_stations.tail(10)"
      ],
      "execution_count": null,
      "outputs": []
    },
    {
      "cell_type": "code",
      "metadata": {
        "id": "gP5FyneBFe4i"
      },
      "source": [
        "# Visualize the clusters and centroids \n",
        "cluster_bixi_stations.plot.scatter(x = 'latitude', y = 'longitude', c=labels, s=50, cmap='viridis')\n",
        "plt.scatter(centers[:, 0], centers[:, 1], c='black', s=200, alpha=0.5)\n",
        "plt.xlabel('Latitude', weight='bold')\n",
        "plt.xticks(fontsize=8)\n",
        "plt.ylabel('Longitude', weight='bold')"
      ],
      "execution_count": null,
      "outputs": []
    },
    {
      "cell_type": "markdown",
      "metadata": {
        "id": "_d-KtGEBHEtD"
      },
      "source": [
        "The k-means method did not produce the results we were hoping due to the non-spherical shape of Montreal neighbourhoods as well as different neighbourhood density."
      ]
    },
    {
      "cell_type": "markdown",
      "metadata": {
        "id": "jBoX-SYCFwG4"
      },
      "source": [
        "## 3.3. DBSCAN"
      ]
    },
    {
      "cell_type": "markdown",
      "metadata": {
        "id": "NBJRZfvVHYD7"
      },
      "source": [
        "We then attempted to cluster the BIXI stations using another unsupervised learning technique, more specifically the dnesity-based clustering method (DBSCAN). This method is interesting in that it separates high density clusters from low density ones and can identify clusters of different shapres and sizes."
      ]
    },
    {
      "cell_type": "code",
      "metadata": {
        "id": "M09s8nRAHXzs"
      },
      "source": [
        "# Source: https://databricks-prod-cloudfront.cloud.databricks.com/public/4027ec902e239c93eaaa8714f173bcfc/8891646194974755/2498144867240775/6439822263820045/latest.html\n",
        "# We now create a new dataframe to only keep the variables Station_Key_ID, Longitude and Latitude for our clustering analysis\n",
        "cluster_bixi_stations2=bixi_master_stations.loc[:,['Station_Key_ID','latitude','longitude']]\n",
        "cluster_bixi_stations2.head()"
      ],
      "execution_count": null,
      "outputs": []
    },
    {
      "cell_type": "code",
      "metadata": {
        "id": "z5u5_ZeGHvx7"
      },
      "source": [
        "# We define the number of kilometers in one radiatio, which will be used to convert esp from km to radiation\n",
        "kms_per_rad = 6371.0088"
      ],
      "execution_count": null,
      "outputs": []
    },
    {
      "cell_type": "code",
      "metadata": {
        "id": "T1CECJKKHx0v"
      },
      "source": [
        "# Then, we define a function to calculate the geographic coordinate centroid of a cluster of geographic points. This will be used later to calculate the centroids of DBSCAN cluster because Scikit-learn DBSCAN cluster class does not come with centroid attribute.\n",
        "def get_centroid(cluster):\n",
        "  \"\"\"calculate the centroid of a cluster of geographic coordinate points\n",
        "  Args:\n",
        "    cluster coordinates, nx2 array-like (array, list of lists, etc) \n",
        "    n is the number of points(latitude, longitude)in the cluster.\n",
        "  Return:\n",
        "    geometry centroid of the cluster\n",
        "    \n",
        "  \"\"\"\n",
        "  cluster_ary = np.asarray(cluster)\n",
        "  centroid = cluster_ary.mean(axis = 0)\n",
        "  return centroid\n",
        "\n",
        "# testing get_centroid function\n",
        "test_cluster= [[ 43.70487299, -79.57753802], \n",
        "               [ 43.71138367, -79.56524418],\n",
        "               [ 43.72616079, -79.57319998],\n",
        "               [ 43.73547907, -79.56258364],\n",
        "               [ 43.72070325, -79.57202018],\n",
        "               [ 43.73126031, -79.5598719 ]]\n",
        "test_centroid = get_centroid(test_cluster)\n",
        "print(test_centroid)"
      ],
      "execution_count": null,
      "outputs": []
    },
    {
      "cell_type": "code",
      "metadata": {
        "id": "Xqf5yP6nH1a5"
      },
      "source": [
        "# Then we convert eps to radians for use by haversine\n",
        "epsilon = 1/kms_per_rad"
      ],
      "execution_count": null,
      "outputs": []
    },
    {
      "cell_type": "code",
      "metadata": {
        "id": "P3quQ4gEH3Ds"
      },
      "source": [
        "# We extract intersection coordinates (latitude, longitude)\n",
        "bixi_coords = cluster_bixi_stations2[['latitude', 'longitude']].values"
      ],
      "execution_count": null,
      "outputs": []
    },
    {
      "cell_type": "code",
      "metadata": {
        "id": "3hGuNTFZH4lI"
      },
      "source": [
        "import time\n",
        "from sklearn import metrics\n",
        "\n",
        "start_time = time.time()\n",
        "dbsc = (DBSCAN(eps=epsilon, min_samples=1, algorithm='ball_tree', metric='euclidean')\n",
        "        .fit(np.radians(bixi_coords)))\n",
        "bixi_cluster_labels = dbsc.labels_"
      ],
      "execution_count": null,
      "outputs": []
    },
    {
      "cell_type": "code",
      "metadata": {
        "id": "AEjJYFN1H5_w"
      },
      "source": [
        "# We get the number of clusters\n",
        "num_clusters = len(set(dbsc.labels_))\n",
        "print(num_clusters)"
      ],
      "execution_count": null,
      "outputs": []
    },
    {
      "cell_type": "code",
      "metadata": {
        "id": "Cn8jUGkPH7-5"
      },
      "source": [
        "# Print the outcome\n",
        "message = 'Clustered {:,} points down to {:,} clusters, for {:.1f}% compression in {:,.2f} seconds'\n",
        "print(message.format(len(cluster_bixi_stations2), num_clusters, 100*(1 - float(num_clusters) / len(cluster_bixi_stations2)), time.time()-start_time))\n",
        "print('Silhouette coefficient: {:0.03f}'.format(metrics.silhouette_score(bixi_coords, bixi_cluster_labels)))\n"
      ],
      "execution_count": null,
      "outputs": []
    },
    {
      "cell_type": "code",
      "metadata": {
        "id": "XPYSq32fH-Fn"
      },
      "source": [
        "# Turn the clusters into a pandas series, where each element is a cluster of points\n",
        "dbsc_clusters = pd.Series([bixi_coords[bixi_cluster_labels==n] for n in range(num_clusters)])"
      ],
      "execution_count": null,
      "outputs": []
    },
    {
      "cell_type": "code",
      "metadata": {
        "id": "oTtPPowqIAaQ"
      },
      "source": [
        "# Get centroid of each cluster\n",
        "bixi_centroids = dbsc_clusters.map(get_centroid)\n",
        "# Unzip the list of centroid points (lat, lon) tuples into separate lat and lon lists\n",
        "cent_lats, cent_lons = zip(*bixi_centroids)\n",
        "# From these lats/lons create a new df of one representative point for each cluster\n",
        "centroids_pd = pd.DataFrame({'longitude':cent_lons, 'latitude':cent_lats})\n",
        "\n",
        "print(centroids_pd)"
      ],
      "execution_count": null,
      "outputs": []
    },
    {
      "cell_type": "code",
      "metadata": {
        "id": "EqHNKQkPIChK"
      },
      "source": [
        "# Finally, plot the clusters and cluster centroid\n",
        "fig, ax = plt.subplots(figsize=[20, 12])\n",
        "bixi_scatter = ax.scatter(cluster_bixi_stations2['longitude'], cluster_bixi_stations2['latitude'], c=bixi_cluster_labels, cmap = cm.Dark2, edgecolor='None', alpha=0.7, s=120)\n",
        "centroid_scatter = ax.scatter(centroids_pd['longitude'], centroids_pd['latitude'], marker='x', linewidths=2, c='k', s=50)\n",
        "ax.set_title('BIXI neighbourhood clusters & centroids', fontsize = 20)\n",
        "ax.set_xlabel('Longitude', fontsize=18, weight='bold')\n",
        "ax.set_ylabel('Latitude', fontsize = 18, weight='bold')\n",
        "plt.xticks(fontsize=16)\n",
        "plt.yticks(fontsize=16)\n",
        "ax.legend([bixi_scatter, centroid_scatter], ['BIXI stations', 'Neighbourhood Centroid'], loc='upper right', fontsize = 18)"
      ],
      "execution_count": null,
      "outputs": []
    },
    {
      "cell_type": "markdown",
      "metadata": {
        "id": "gWd499IgIE2J"
      },
      "source": [
        "As we can see from the plot above, 9 clusters were formed. However, since the majority of BIXI stations are concentrated near the downtown area, this resulted in one large central cluster and a few sparse \"satellite\" clusters, which did not help us segment the central neighbourhoods. Similar results were generated when reducing the epsilon to a smaller radius, which confirmed that this clustering method was not interesting given the task at hand."
      ]
    },
    {
      "cell_type": "markdown",
      "metadata": {
        "id": "WOHe5Z9DIlX4"
      },
      "source": [
        "## 3.4. Classification model"
      ]
    },
    {
      "cell_type": "markdown",
      "metadata": {
        "id": "mnI66lM0Mk29"
      },
      "source": [
        "### 3.4.1. Model training and evaluation"
      ]
    },
    {
      "cell_type": "markdown",
      "metadata": {
        "id": "tQQ8YNAlIoMN"
      },
      "source": [
        "Finally, we tried out a supervised technique. More specifically, our approach was to train a classification model and subsequently use it to predict the neighbourhood associated to each BIXI station. We used a dataset from the City of Montreal containing the latitude and longitude of 3100+ Montreal aadresses with their associated neighbourhood label."
      ]
    },
    {
      "cell_type": "code",
      "metadata": {
        "id": "d0G83pInI_Gv"
      },
      "source": [
        "plt.style.use('ggplot') # This make plots look better"
      ],
      "execution_count": null,
      "outputs": []
    },
    {
      "cell_type": "code",
      "metadata": {
        "id": "j1QXPW3vJAtN"
      },
      "source": [
        "!git clone https://github.com/gbincoletto/MATH80629A"
      ],
      "execution_count": null,
      "outputs": []
    },
    {
      "cell_type": "code",
      "metadata": {
        "id": "ggLwlIFUJBVm"
      },
      "source": [
        "url = 'https://raw.githubusercontent.com/gbincoletto/MATH80629A/main/Classification_Latitude_Longitude2.csv'\n",
        "quartier = pd.read_csv(url)"
      ],
      "execution_count": null,
      "outputs": []
    },
    {
      "cell_type": "code",
      "metadata": {
        "id": "k_vVqhuyJDT5"
      },
      "source": [
        "quartier.head(5)"
      ],
      "execution_count": null,
      "outputs": []
    },
    {
      "cell_type": "code",
      "metadata": {
        "id": "QixZIMP1JEn5"
      },
      "source": [
        "print(quartier.shape)\n",
        "# We see that there are 3171 observations."
      ],
      "execution_count": null,
      "outputs": []
    },
    {
      "cell_type": "code",
      "metadata": {
        "id": "X1Q5kPv2JFMp"
      },
      "source": [
        "print(quartier.groupby('Code').size())"
      ],
      "execution_count": null,
      "outputs": []
    },
    {
      "cell_type": "code",
      "metadata": {
        "id": "GPEBA6geJH1S"
      },
      "source": [
        "print (quartier.describe())\n",
        "# We see that there are no missing values, or extreme values."
      ],
      "execution_count": null,
      "outputs": []
    },
    {
      "cell_type": "code",
      "metadata": {
        "id": "I_S60hGZJJaC"
      },
      "source": [
        "quartier.plot.scatter(x=\"Longitude\", y=\"Latitude\", color='b')\n",
        "plt.title('My Title')\n",
        "plt.show()\n",
        "# By plotting the latitude and longitude, we notice it indeed looks like the island of Montreal! There are however two big pockets (East end of Montreal and around PET Airport). "
      ],
      "execution_count": null,
      "outputs": []
    },
    {
      "cell_type": "code",
      "metadata": {
        "id": "qULdkUw8JKeG"
      },
      "source": [
        "import matplotlib.ticker as ticker\n",
        "\n",
        "g= sns.FacetGrid(quartier, \n",
        "    hue=\"Code\").map(plt.scatter, \"Longitude\", \"Latitude\").add_legend()\n",
        "plt.xticks(np.arange(-73.9, -73.4, step=0.1))\n",
        "for ax in g.axes.flat:\n",
        "    ax.set_ylabel(ax.get_ylabel(), fontsize=9, weight='bold')\n",
        "    ax.set_xlabel(ax.get_xlabel(), fontsize=9, weight='bold')\n",
        "plt.xticks(fontsize=8)\n",
        "plt.yticks(fontsize=8)\n",
        "plt.title('Montreal neighbourhoods', fontsize=10)\n",
        "plt.show()\n",
        "# Good news - from the plot below, we see that the neighbourhoods are clustered together in well defined groups!"
      ],
      "execution_count": null,
      "outputs": []
    },
    {
      "cell_type": "code",
      "metadata": {
        "id": "IVA686rpJM1A"
      },
      "source": [
        "# Currently, all the data is encoded in a DataFrame, but sklearn doesn't work with pandas' DataFrames, so we need to extract the features and labels and convert them into numpy arrays instead.\n",
        "labels = np.asarray(quartier.Code)"
      ],
      "execution_count": null,
      "outputs": []
    },
    {
      "cell_type": "code",
      "metadata": {
        "id": "VNyx7P-VJOlE"
      },
      "source": [
        "# First, we want to remove all the feature columns that we don't want from the DataFrame. Now we only have the columns Latitude and Longitude left.\n",
        "quartier_selected = quartier.drop(['Code', 'Arrondissement'], axis=1)\n",
        "print(quartier_selected)"
      ],
      "execution_count": null,
      "outputs": []
    },
    {
      "cell_type": "code",
      "metadata": {
        "id": "2xQLnFt3JQHY"
      },
      "source": [
        "# Since we want to use more than one column, we can't just simply use np.asarray(). Instead, we can use the to_dict() method together with sklearn's DictVectorizer.\n",
        "quartier_features = quartier_selected.to_dict(orient='records')"
      ],
      "execution_count": null,
      "outputs": []
    },
    {
      "cell_type": "code",
      "metadata": {
        "id": "rb3rNCspJT-X"
      },
      "source": [
        "# The sklearn interface for using the DictVectorizer class is similar to that of the LabelEncoder. One notable difference is the .toarray() method that is used with fit_transform.\n",
        "vec = DictVectorizer()\n",
        "features = vec.fit_transform(quartier_features).toarray()"
      ],
      "execution_count": null,
      "outputs": []
    },
    {
      "cell_type": "markdown",
      "metadata": {
        "id": "G8ng9LaoJktR"
      },
      "source": [
        "After pre-processing the data, our approach was to train two classification models using Sci-Kit Learn's RandomForestClassifier and SVC and then select the model with the higest test set accuracy to make predictions. We trained both models and evaluated their performance using 2 methods: 80% training and 20% testing split, and secondly, a 5-fold cross-validation."
      ]
    },
    {
      "cell_type": "markdown",
      "metadata": {
        "id": "diqgYMWTJeND"
      },
      "source": [
        "#### a. RFC (train-test)"
      ]
    },
    {
      "cell_type": "code",
      "metadata": {
        "id": "u26fIr4MKD7y"
      },
      "source": [
        "# Now that we have numerical features and label arrays, there's only one thing left to do: split our data up into a training and a test set.\n",
        "# Sometimes, with algorithms particularly prone to overfitting, you also have a validation set. We will try with only a training and test set for now.\n",
        "# Data split (80% training and 20% test). \n",
        "# The value of the random_state is not really important as it's just a seed number, but the act of randomizing the data is important, because right now, the data i \n",
        "from sklearn.model_selection import train_test_split\n",
        "features_train, features_test, labels_train, labels_test = train_test_split(\n",
        "    features, labels, \n",
        "    test_size=0.2, random_state=0)"
      ],
      "execution_count": null,
      "outputs": []
    },
    {
      "cell_type": "code",
      "metadata": {
        "id": "PLpixEb0KFbI"
      },
      "source": [
        "# We will start out with a Random Forest classifier. Random Forests are simple, flexible in that they work well with a wide variety of data, and rarely overfit. One notable downside to Random Forests is that they are non-deterministic in nature, so they don't necessarily produce the same results every time you train them.\n",
        "# Import\n",
        "from sklearn.ensemble import RandomForestClassifier\n",
        "\n",
        "# Initialize\n",
        "clf = RandomForestClassifier(bootstrap=True, ccp_alpha=0.0, class_weight=None,\n",
        "                       criterion='gini', max_depth=None, max_features='auto',\n",
        "                       max_leaf_nodes=None, max_samples=None,\n",
        "                       min_impurity_decrease=0.0, min_impurity_split=None,\n",
        "                       min_samples_leaf=1, min_samples_split=2,\n",
        "                       min_weight_fraction_leaf=0.0, n_estimators=1000,\n",
        "                       n_jobs=None, oob_score=False, random_state=0,\n",
        "                       verbose=0, warm_start=False)\n",
        "\n",
        "# Train the classifier using the training data\n",
        "clf.fit(features_train, labels_train)"
      ],
      "execution_count": null,
      "outputs": []
    },
    {
      "cell_type": "code",
      "metadata": {
        "id": "zfYPOTDjKHmv"
      },
      "source": [
        "# Train the classifier using the training data\n",
        "clf.fit(features_train, labels_train)"
      ],
      "execution_count": null,
      "outputs": []
    },
    {
      "cell_type": "code",
      "metadata": {
        "id": "etsS5n8KKIC5"
      },
      "source": [
        "# Compute accuracy using training data\n",
        "acc_train = clf.score(features_train, labels_train)\n",
        "\n",
        "print (\"Train Accuracy:\", acc_train)\n",
        "# Train Accuracy: 100%"
      ],
      "execution_count": null,
      "outputs": []
    },
    {
      "cell_type": "code",
      "metadata": {
        "id": "nJGoQqvmKJnJ"
      },
      "source": [
        "# Compute accuracy using test data\n",
        "acc_test = clf.score(features_test, labels_test)\n",
        "\n",
        "print (\"Test Accuracy:\", acc_test)\n",
        "# Test Accuracy: 93.8% - since this is less than the train accuracy, it suggests that the model slightly overfits, but the results are still quite good."
      ],
      "execution_count": null,
      "outputs": []
    },
    {
      "cell_type": "markdown",
      "metadata": {
        "id": "XI__7bhzKO_P"
      },
      "source": [
        "#### b. SVM (train-test)"
      ]
    },
    {
      "cell_type": "code",
      "metadata": {
        "id": "8iqy4-gDKMCb"
      },
      "source": [
        "# Now let's try out an SVM. \n",
        "# Import\n",
        "from sklearn.svm import SVC\n",
        "\n",
        "# Initialize\n",
        "svcclassifier = SVC(C=25, kernel='linear', decision_function_shape='ovo', random_state=0)\n",
        "\n",
        "# Train the classifier using the training data\n",
        "svcclassifier.fit(features_train, labels_train)"
      ],
      "execution_count": null,
      "outputs": []
    },
    {
      "cell_type": "code",
      "metadata": {
        "id": "JQbwXqkUKX6w"
      },
      "source": [
        "# Compute accuracy using training data\n",
        "acc_train = svcclassifier.score(features_train, labels_train)\n",
        "\n",
        "print (\"Train Accuracy:\", acc_train)\n",
        "# Train Accuracy: 73.86% "
      ],
      "execution_count": null,
      "outputs": []
    },
    {
      "cell_type": "code",
      "metadata": {
        "id": "Ze619lhQKa6d"
      },
      "source": [
        "# Compute accuracy using test data\n",
        "acc_test = svcclassifier.score(features_test, labels_test)\n",
        "\n",
        "print (\"Test Accuracy:\", acc_test)\n",
        "# Test Accuracy: 71.34% "
      ],
      "execution_count": null,
      "outputs": []
    },
    {
      "cell_type": "markdown",
      "metadata": {
        "id": "ZbdGf2fBKdpP"
      },
      "source": [
        "#### c. RFC (cross-validation)"
      ]
    },
    {
      "cell_type": "code",
      "metadata": {
        "id": "tQFf4ca_KyTZ"
      },
      "source": [
        "# Evaluate Random Forest model using CV\n",
        "scores = cross_val_score(clf, features, labels, scoring='accuracy', cv=cv, n_jobs=-1)\n",
        "# Report performance\n",
        "print('Accuracy: %.3f (%.3f)' % (mean(scores), std(scores)))\n",
        "# Test Accuracy: 95.3% using CV"
      ],
      "execution_count": null,
      "outputs": []
    },
    {
      "cell_type": "markdown",
      "metadata": {
        "id": "162axqBMK0In"
      },
      "source": [
        "#### d. SVM (cross-validation)"
      ]
    },
    {
      "cell_type": "code",
      "metadata": {
        "id": "xopKKRcLK1lX"
      },
      "source": [
        "# Evaluate SVM model using CV\n",
        "scores = cross_val_score(svcclassifier, features, labels, scoring='accuracy', cv=cv, n_jobs=-1)\n",
        "# Report performance\n",
        "print('Accuracy: %.3f (%.3f)' % (mean(scores), std(scores)))"
      ],
      "execution_count": null,
      "outputs": []
    },
    {
      "cell_type": "markdown",
      "metadata": {
        "id": "sz3SkYhjLAps"
      },
      "source": [
        "**Conclusion**: The RFC classification model performed much better than the SVM, with both an 80-20 train-test split and 5-fold cross-validation. As such, this is the model we selected to predict the neighbourhood associated to each BIXI station."
      ]
    },
    {
      "cell_type": "markdown",
      "metadata": {
        "id": "XaA2h1HaLTW2"
      },
      "source": [
        "### 3.4.2. Predictions on new data"
      ]
    },
    {
      "cell_type": "code",
      "metadata": {
        "id": "Bw-wJm_eLqAY"
      },
      "source": [
        "# Test for the BIXI station at the intersection of Milton and Clark\n",
        "bixi = [45.512520,-73.570620]\n",
        "print(clf.predict([bixi]))\n",
        "# Prediction: Neighbourhood 12 i.e. Le Plateau Mont Royal - success!!"
      ],
      "execution_count": null,
      "outputs": []
    },
    {
      "cell_type": "code",
      "metadata": {
        "id": "Zjf_lXBXLrWQ"
      },
      "source": [
        "# Test for the BIXI station at the intersection of Boyer and Bélanger\n",
        "bixi = [45.54006,-73.60897]\n",
        "print(clf.predict([bixi]))  \n",
        "# Prediction: Neighbourhood 23 i.e. Rosemont La Petite Patrie - success!!"
      ],
      "execution_count": null,
      "outputs": []
    },
    {
      "cell_type": "code",
      "metadata": {
        "id": "XxcU41AMLtA2"
      },
      "source": [
        "# Test for the BIXI station at the intersection of LaSalle and 90e avenue\n",
        "bixi = [45.4171474211325,-73.6442247033119]\n",
        "print(clf.predict([bixi]))  \n",
        "# Prediction: Neighbourhood 11 i.e. LaSalle - success!!"
      ],
      "execution_count": null,
      "outputs": []
    },
    {
      "cell_type": "code",
      "metadata": {
        "id": "nSr9hu49LuYi"
      },
      "source": [
        "# We will use our previous loop to import the annual Bixi station locations from GitHub. \n",
        "\n",
        "bixi_stations_urls = list()\n",
        "for y in [2017, 2018, 2019, 2020]:\n",
        "  year = str(y)\n",
        "  url_2 = 'https://raw.githubusercontent.com/gbincoletto/MATH80629A/main/bixidata/Stations_' + year + '.csv'\n",
        "  bixi_stations_urls.append(url_2)"
      ],
      "execution_count": null,
      "outputs": []
    },
    {
      "cell_type": "code",
      "metadata": {
        "id": "ef67P_u_Lvrq"
      },
      "source": [
        "print(*bixi_stations_urls, sep='\\n')"
      ],
      "execution_count": null,
      "outputs": []
    },
    {
      "cell_type": "code",
      "metadata": {
        "id": "loa8T46OLxDq"
      },
      "source": [
        "bixi_stations_dfs = list()\n",
        "for file in bixi_stations_urls:\n",
        "    bixi_stations_dfs.append(pd.read_csv(file))"
      ],
      "execution_count": null,
      "outputs": []
    },
    {
      "cell_type": "code",
      "metadata": {
        "id": "g8bZ4vRJLymY"
      },
      "source": [
        "print(*bixi_stations_dfs, sep='\\n')"
      ],
      "execution_count": null,
      "outputs": []
    },
    {
      "cell_type": "code",
      "metadata": {
        "id": "rkARCEk1L0JA"
      },
      "source": [
        "# Quickly declare individually our reference documents.\n",
        "#stations_2017 = bixi_stations_dfs[0]\n",
        "#stations_2018 = bixi_stations_dfs[1]\n",
        "#stations_2019 = bixi_stations_dfs[2]\n",
        "stations_2020 = bixi_stations_dfs[3]\n",
        "\n",
        "stations_2020['Station_Key_ID'] = '2020' + stations_2020['code'].map(str)\n",
        "\n",
        "# Then, we can concatenate the dataframes into one final reference document.\n",
        "\n",
        "bixi_master_stations = pd.concat([stations_2020])"
      ],
      "execution_count": null,
      "outputs": []
    },
    {
      "cell_type": "code",
      "metadata": {
        "id": "S9sWVjxxL65l"
      },
      "source": [
        "bixi_master_stations.describe()"
      ],
      "execution_count": null,
      "outputs": []
    },
    {
      "cell_type": "code",
      "metadata": {
        "id": "pAsKtp1hL82Q"
      },
      "source": [
        "bixi_master_stations.tail(10)"
      ],
      "execution_count": null,
      "outputs": []
    },
    {
      "cell_type": "code",
      "metadata": {
        "id": "rdbR4S3EL-Vw"
      },
      "source": [
        "# Plot the Bixi stations on a map\n",
        "bixi_master_stations.plot.scatter(x=\"longitude\", y=\"latitude\")\n",
        "plt.show()"
      ],
      "execution_count": null,
      "outputs": []
    },
    {
      "cell_type": "code",
      "metadata": {
        "id": "tWUYqNvIMBFj"
      },
      "source": [
        "# Let's overlay the Montreal neighbourhood data with the BIXI stations data.\n",
        "plt.scatter(quartier.Longitude,quartier.Latitude, color='blue', label=\"Montreal neighbourhoods data\")\n",
        "plt.scatter(bixi_master_stations.longitude,bixi_master_stations.latitude, color='orange', label=\"BIXI stations\")\n",
        "plt.legend()\n",
        "plt.xticks(fontsize=10)\n",
        "plt.yticks(fontsize=10)\n",
        "plt.xlabel('Longitude', fontsize=11, weight='bold')\n",
        "plt.ylabel('Latitude', fontsize=11, weight='bold')\n",
        "plt.title('Overlay of Montreal neighbourhoods data with BIXI stations data')\n",
        "# WOW! Besides it looking super cool, we also notice that our neighbourhood data covers the majority of Bixi stations - this is good news! "
      ],
      "execution_count": null,
      "outputs": []
    },
    {
      "cell_type": "code",
      "metadata": {
        "id": "K9V4_ii4MC0Z"
      },
      "source": [
        "# In order to obtain the classification model neighbourhood predictions, we will have to isolate the lon/lat coordinates as a \"list of lists\"\n",
        "\n",
        "list_master_stations_coordinates = bixi_master_stations[['latitude','longitude']].values.tolist()"
      ],
      "execution_count": null,
      "outputs": []
    },
    {
      "cell_type": "code",
      "metadata": {
        "id": "m6DPG6nEMEJv"
      },
      "source": [
        "print(*list_master_stations_coordinates, sep='\\n')"
      ],
      "execution_count": null,
      "outputs": []
    },
    {
      "cell_type": "code",
      "metadata": {
        "id": "3DKaHhGtMFez"
      },
      "source": [
        "# We can now generate these predictions, and transform the resulting NumPy array as a pandas DF.\n",
        "\n",
        "quartiers_predictions_stations = clf.predict(list_master_stations_coordinates)\n",
        "\n",
        "df_quartiers_stations = pd.DataFrame(quartiers_predictions_stations, columns = ['Quartier'])\n",
        "df_quartiers_stations.head(10)"
      ],
      "execution_count": null,
      "outputs": []
    },
    {
      "cell_type": "code",
      "metadata": {
        "id": "vtjlxLymMF_4"
      },
      "source": [
        "# Then, we can add the Quartier attribute to the Bixi Stations dataset. Not super legit, but the index is identical...\n",
        "bixi_master_stations['Quartier'] = df_quartiers_stations\n",
        "bixi_master_stations.tail(10)"
      ],
      "execution_count": null,
      "outputs": []
    },
    {
      "cell_type": "code",
      "metadata": {
        "id": "jjnrkbxjMIyg"
      },
      "source": [
        "bixi_master_stations.to_csv('bixi_master_stations_Gab6.csv') \n",
        "files.download('bixi_master_stations_Gab6.csv')"
      ],
      "execution_count": null,
      "outputs": []
    },
    {
      "cell_type": "code",
      "metadata": {
        "id": "2Gkch4PBMKKv"
      },
      "source": [
        "url = 'https://raw.githubusercontent.com/gbincoletto/MATH80629A/main/Bixi_stations_neighbourhood_2020.csv'\n",
        "bixi_master_stations_neighbourhoods = pd.read_csv(url)"
      ],
      "execution_count": null,
      "outputs": []
    },
    {
      "cell_type": "code",
      "metadata": {
        "id": "PmETIUBtMLxZ"
      },
      "source": [
        "bixi_master_stations_neighbourhoods.head(7)"
      ],
      "execution_count": null,
      "outputs": []
    },
    {
      "cell_type": "code",
      "metadata": {
        "id": "-n2lGxarMNRj"
      },
      "source": [
        "import matplotlib.ticker as ticker\n",
        "\n",
        "sns.FacetGrid(bixi_master_stations_neighbourhoods, \n",
        "    hue=\"quartier\").map(plt.scatter, \"longitude\", \"latitude\").add_legend()\n",
        "plt.xticks(np.arange(-73.76, -73.4, step=0.1))\n",
        "plt.xticks(fontsize=8)\n",
        "plt.xlabel(\"Longitude\", fontsize=8, weight='bold')\n",
        "plt.yticks(fontsize=8)\n",
        "plt.ylabel(\"Latitude\", fontsize=8, weight='bold')\n",
        "plt.title('Montreal neighbourhoods with BIXI stations', fontsize=10)\n",
        "plt.show()\n"
      ],
      "execution_count": null,
      "outputs": []
    },
    {
      "cell_type": "markdown",
      "metadata": {
        "id": "YcFORlezMRRF"
      },
      "source": [
        "From the plot above, we see that the neighbourhoods are clustered together in well defined groups. The results will be used to analyze BIXI users' flow patterns by neighbourhood."
      ]
    },
    {
      "cell_type": "markdown",
      "metadata": {
        "id": "RRBu6hayC5e0"
      },
      "source": [
        "# Part 4: Analyzing bike flow"
      ]
    },
    {
      "cell_type": "markdown",
      "metadata": {
        "id": "p6q1mnOMhn_U"
      },
      "source": [
        "## 4.1 Integrating the classification model's predictions"
      ]
    },
    {
      "cell_type": "markdown",
      "metadata": {
        "id": "SXftOdjwTvk9"
      },
      "source": [
        "Out of the three methods attempted to regroup BIXI stations into meaningful clusters, the **classification model** has proved to be the most accurate and reliable one. \n",
        "\n",
        "Therefore, we will generate neighborhood predictions for each station using this model, and attempt to analyze biking flows between the identified clusters/neighborhoods."
      ]
    },
    {
      "cell_type": "code",
      "metadata": {
        "id": "sLYOVBT9T8HB"
      },
      "source": [
        "# Since the classification model uses a pair of items in a list as input, we will extract our coordinates in this format.\n",
        "\n",
        "list_master_stations_coordinates = bixi_master_stations[['latitude','longitude']].values.tolist()\n",
        "\n",
        "# We can then generate these predictions, and transform the resulting NumPy array as a pandas DF.\n",
        "\n",
        "quartiers_predictions_stations = clf.predict(list_master_stations_coordinates)\n",
        "df_quartiers_stations = pd.DataFrame(quartiers_predictions_stations, columns = ['Quartier'])\n",
        "\n",
        "# Finaly, we can add the 'Quartier' attribute, corresponding to these predictions, to the Bixi Stations dataset.\n",
        "\n",
        "bixi_master_stations['Quartier'] = df_quartiers_stations"
      ],
      "execution_count": null,
      "outputs": []
    },
    {
      "cell_type": "markdown",
      "metadata": {
        "id": "8eEg1zAEVTM-"
      },
      "source": [
        "For the scope of this project, we've decided to concentrate on 2020 to determine whether there were still detectable patterns after the COVID-related lockdown. A few steps must be executed to create 2020-specific datasets."
      ]
    },
    {
      "cell_type": "code",
      "metadata": {
        "id": "K-hKbkUMV8qO"
      },
      "source": [
        "# Creating subset of main bike trip dataset.\n",
        "\n",
        "master_2020 = bixi_master_data.loc[bixi_master_data['start_date'].astype(str).str[0:4] == '2020']\n",
        "\n",
        "# An external .csv file must be imported for the 2020 stations as preprocessing steps were accomplished outside Python.\n",
        "\n",
        "bixi_master_stations_2020 = pd.read_csv('Bixi_stations_neighbourhood_2020.csv')"
      ],
      "execution_count": null,
      "outputs": []
    },
    {
      "cell_type": "markdown",
      "metadata": {
        "id": "QrkeGaOyYXdp"
      },
      "source": [
        "We will add a Station Key ID, accounting for both year and station code, which will allow us to properly identify each station. This variable will be subsequently used to associate biking trips with the coordinates of their start and end stations, along with the predicted neighborhood."
      ]
    },
    {
      "cell_type": "code",
      "metadata": {
        "id": "hQghA1cAXWBN"
      },
      "source": [
        "# Creating the Station_Key_ID variable.\n",
        "\n",
        "bixi_master_stations_2020['Station_Key_ID'] = '2020' + bixi_master_stations_2020['code'].map(str)\n",
        "\n",
        "# Creating sub-DFs to facilitate merging process\n",
        "\n",
        "start_quartier_2020 = bixi_master_stations_2020[['Station_Key_ID', 'quartier', 'arrondissement']]\n",
        "start_quartier_2020.columns = ['Start_Station_Key_ID', 'Start_Quartier', 'start_arrondissement']\n",
        "start_quartier_2020['Start_Station_Key_ID'] = start_quartier_2020['Start_Station_Key_ID'].astype(int)\n",
        "\n",
        "end_quartier_2020 = bixi_master_stations_2020[['Station_Key_ID', 'quartier', 'arrondissement']]\n",
        "end_quartier_2020.columns = ['End_Station_Key_ID', 'End_Quartier', 'end_arrondissement']\n",
        "end_quartier_2020['End_Station_Key_ID'] = end_quartier_2020['End_Station_Key_ID'].astype(int)\n",
        "\n",
        "# Merge bike trips taken with station and neighborhood coordinates. \n",
        "\n",
        "master_2020 = master_2020.merge(start_quartier_2020, on ='Start_Station_Key_ID')\n",
        "master_2020 = master_2020.merge(end_quartier_2020, on ='End_Station_Key_ID')"
      ],
      "execution_count": null,
      "outputs": []
    },
    {
      "cell_type": "markdown",
      "metadata": {
        "id": "0eR0j-QwYyTY"
      },
      "source": [
        "In passing, we will create a new 'Route' variable which concatenates start and end departures, and take a look at the amount of traffic for each route."
      ]
    },
    {
      "cell_type": "code",
      "metadata": {
        "id": "P6X7N95LYr9x"
      },
      "source": [
        "# Creating a new 'route' variable\n",
        "\n",
        "master_2020['arrondissement_route'] = master_2020['start_arrondissement'].astype(str) + ' TO ' + master_2020['end_arrondissement'].astype(str)\n",
        "routes_2020 = master_2020['arrondissement_route'].value_counts()\n",
        "routes_2020.head(5)"
      ],
      "execution_count": null,
      "outputs": []
    },
    {
      "cell_type": "markdown",
      "metadata": {
        "id": "NL2wZu4IiRvX"
      },
      "source": [
        "## 4.2 Quantifying biking flow patterns between neighborhoods"
      ]
    },
    {
      "cell_type": "markdown",
      "metadata": {
        "id": "fQm-EAbbZB7M"
      },
      "source": [
        "Now, we will look to separate the hours of the day into 'timeblocks' using a simple function. This will allow us to take a look at traffic for specific times of the day - in this case, morning and evening commute."
      ]
    },
    {
      "cell_type": "code",
      "metadata": {
        "id": "JNJUEPpgZbLJ"
      },
      "source": [
        "# Making sure variable start_date and end_date is in a easy-to-use datetime format.\n",
        "\n",
        "master_2020['start_date'] = pd.to_datetime(master_2020['start_date'])\n",
        "master_2020['end_date'] = pd.to_datetime(master_2020['end_date'])"
      ],
      "execution_count": null,
      "outputs": []
    },
    {
      "cell_type": "code",
      "metadata": {
        "id": "wes1IgXPZoQe"
      },
      "source": [
        "# Define function to create categorical variable for time of day \n",
        "\n",
        "def timeblocks(x):\n",
        "    if 7 <= x.hour < 9:\n",
        "        return '1'\n",
        "    elif 9 <= x.hour < 13:\n",
        "        return '2'\n",
        "    elif 13 <= x.hour < 15:\n",
        "        return '3'\n",
        "    elif 15 <= x.hour < 18:\n",
        "        return '4'\n",
        "    elif 18 <= x.hour < 21:\n",
        "        return '5'\n",
        "    elif 21 <= x.hour < 23:\n",
        "        return '6'\n",
        "    return 'REJECT'\n",
        "\n",
        "# We will now apply the function to create a new variable in our trip dataset and drop the observations outside pertinent hours (Between 11PM and 7 AM).\n",
        "\n",
        "master_2020['time_block'] = master_2020['start_date'].apply(timeblocks)\n",
        "master_2020.drop(master_2020.loc[master_2020['time_block']=='NOPE'].index, inplace=True)"
      ],
      "execution_count": null,
      "outputs": []
    },
    {
      "cell_type": "markdown",
      "metadata": {
        "id": "bzL39uARa39-"
      },
      "source": [
        "Using these timeblocks, we will create sub-datasets which will allow us to highlight patterns present within hours of interest."
      ]
    },
    {
      "cell_type": "code",
      "metadata": {
        "id": "X0fIb3WjbG7b"
      },
      "source": [
        "# Creation of two datasets, one for weekday morning commute (rush_week_2020) and the other for weekday evening commute (rush_week_pm_2020) \n",
        "\n",
        "rush_week_2020 = master_2020.loc[(master_2020['time_block'] == '1') & (master_2020['Weekend'] == '0')]\n",
        "rush_week_pm_2020 = master_2020.loc[(master_2020['time_block'] == '4') & (master_2020['Weekend'] == '0')]"
      ],
      "execution_count": null,
      "outputs": []
    },
    {
      "cell_type": "code",
      "metadata": {
        "id": "GAC-bxxpbfV-"
      },
      "source": [
        "# After dropping trips starting and ending in the same neighborhood, we'll identify inter-neighborhood commutes.\n",
        "\n",
        "rush_week_2020 = rush_week_2020.drop(rush_week_2020[rush_week_2020.start_arrondissement == rush_week_2020.end_arrondissement].index)\n",
        "routes_am_2020 = pd.DataFrame(rush_week_2020['arrondissement_route'].value_counts())\n",
        "routes_am_2020.columns = ['Count']\n",
        "\n",
        "rush_week_pm_2020 = rush_week_pm_2020.drop(rush_week_pm_2020[rush_week_pm_2020.start_arrondissement == rush_week_pm_2020.end_arrondissement].index)\n",
        "routes_week_pm_2020 = pd.DataFrame(rush_week_pm_2020['arrondissement_route'].value_counts())\n",
        "routes_week_pm_2020.columns = ['Count']"
      ],
      "execution_count": null,
      "outputs": []
    },
    {
      "cell_type": "code",
      "metadata": {
        "id": "_m-yNsgHb-r7"
      },
      "source": [
        "# Calculating net departures (Arrivals-Departures) for morning rush hour (7 to 9 AM), by 'Quartier', for 2020\n",
        "# Since the Quartier code represents the index in our aggregation, we have to turn in into a proper column and rename it.\n",
        "\n",
        "net_departures_quartiers_rush_week_2020 = (rush_week_2020['End_Quartier'].value_counts()) - (rush_week_2020['Start_Quartier'].value_counts())\n",
        "net_departures_quartiers_rush_week_2020 = pd.DataFrame(net_departures_quartiers_rush_week_2020, columns=['net_departures'])\n",
        "net_departures_quartiers_rush_week_2020.reset_index(inplace=True)\n",
        "net_departures_quartiers_rush_week_2020 = net_departures_quartiers_rush_week_2020.rename(columns={'index': 'Code'})\n",
        "net_departures_quartiers_rush_week_2020 = net_departures_quartiers_rush_week_2020.dropna(subset=['net_departures'])\n",
        "\n",
        "# Calculating net departures (Arrivals-Departures) for evening rush hour (3 to 6 PM), by 'Quartier', for 2020\n",
        "\n",
        "net_departures_quartiers_rush_week_pm_2020 = (rush_week_pm_2020['End_Quartier'].value_counts()) - (rush_week_pm_2020['Start_Quartier'].value_counts())\n",
        "net_departures_quartiers_rush_week_pm_2020 = pd.DataFrame(net_departures_quartiers_rush_week_pm_2020, columns=['net_departures'])\n",
        "net_departures_quartiers_rush_week_pm_2020.reset_index(inplace=True)\n",
        "net_departures_quartiers_rush_week_pm_2020 = net_departures_quartiers_rush_week_pm_2020.rename(columns={'index': 'Code'})\n",
        "net_departures_quartiers_rush_week_pm_2020 = net_departures_quartiers_rush_week_pm_2020.dropna(subset=['net_departures'])\n"
      ],
      "execution_count": null,
      "outputs": []
    },
    {
      "cell_type": "markdown",
      "metadata": {
        "id": "QP0192J-idGH"
      },
      "source": [
        "## 4.3 Illustrating biking flow patterns"
      ]
    },
    {
      "cell_type": "markdown",
      "metadata": {
        "id": "9dhUnTRicL66"
      },
      "source": [
        "Now that we've obtained the quantifiable movement between each neighborhood for two specific timeframes, we will look to illustrate these movements. To do so, we will create a Folium Map [inspired by Gregoire C-M's visualisation](https://towardsdatascience.com/understanding-bixi-commuters-an-analysis-of-montreals-bike-share-system-in-python-cb34de0e2304).\n",
        "\n",
        "To locate the neighborhoods on the map, we will first calculate neighborhood centroids based on the coordinates of the observations found in each neighborhood. "
      ]
    },
    {
      "cell_type": "code",
      "metadata": {
        "id": "BnLRHeYKdgVU"
      },
      "source": [
        "# Calculation of centroids\n",
        "\n",
        "agg_quartiers_centroids = quartier.groupby(['Code']).agg({'Latitude': ['mean'], 'Longitude': ['mean']})\n",
        "agg_quartiers_centroids = pd.DataFrame(agg_quartiers_centroids)\n",
        "agg_quartiers_centroids.columns = agg_quartiers_centroids.columns.droplevel(1)\n",
        "agg_quartiers_centroids.rename(columns={\"Latitude\": 'centroid_latitude', \"Longitude\": 'centroid_longitude'}, inplace = True)"
      ],
      "execution_count": null,
      "outputs": []
    },
    {
      "cell_type": "code",
      "metadata": {
        "id": "hBmpl1xIdtii"
      },
      "source": [
        "# Then, creation of new dataframes which specifically provide the attributes required for the definition of Folium circle markers. \n",
        "\n",
        "quartiers_rush_am_2020 = agg_quartiers_centroids.merge(quartier, on ='Code')\n",
        "quartiers_rush_am_2020 = quartiers_rush_am_2020.drop_duplicates('Code')\n",
        "quartiers_rush_am_2020 = quartiers_rush_am_2020.drop(columns =['Latitude', 'Longitude'])\n",
        "quartiers_rush_am_2020 = quartiers_rush_am_2020.merge(net_departures_quartiers_rush_week_2020, on ='Code')\n",
        "quartiers_rush_am_2020 = quartiers_rush_am_2020.dropna()\n",
        "\n",
        "quartiers_rush_pm_2020 = agg_quartiers_centroids.merge(quartier, on ='Code')\n",
        "quartiers_rush_pm_2020 = quartiers_rush_pm_2020.drop_duplicates('Code')\n",
        "quartiers_rush_pm_2020 = quartiers_rush_pm_2020.drop(columns =['Latitude', 'Longitude'])\n",
        "quartiers_rush_pm_2020 = quartiers_rush_pm_2020.merge(net_departures_quartiers_rush_week_pm_2020, on ='Code')\n",
        "quartiers_rush_pm_2020 = quartiers_rush_pm_2020.dropna()"
      ],
      "execution_count": null,
      "outputs": []
    },
    {
      "cell_type": "markdown",
      "metadata": {
        "id": "leS_lgmkefKV"
      },
      "source": [
        "We can now program and generate two Folium maps, representing visually the inbound/outbound traffic for each neighborhood. More specifically :\n",
        "* Each circle represents a neighborhood.\n",
        "* The color of the circle indicates whether there are more departures (red) or more arrivals (green) for this specific timeframe.\n",
        "* The size of the circle indicates the absolute value of the net departures for this neighborhood. In other words, if there are significantly more arrivals or departures, the circle will be bigger. "
      ]
    },
    {
      "cell_type": "code",
      "metadata": {
        "id": "QFpx_l5ofgqP"
      },
      "source": [
        "# Generate map for morning commute\n",
        "\n",
        "def densityMap(quartiers_rush_am_2020):\n",
        " \n",
        " #generate a new map\n",
        " Montreal = [45.508154, -73.587450]\n",
        " map2020v1 = folium.Map(location = Montreal,\n",
        " zoom_start = 13,\n",
        " tiles = 'CartoDB positron')\n",
        "\n",
        "#calculate stations radius\n",
        "\n",
        " quartiers_rush_am_2020['radius'] = pd.Series(index=quartiers_rush_am_2020.index)\n",
        " quartiers_rush_am_2020['radius'] = np.abs(quartiers_rush_am_2020['net_departures'])\n",
        " quartiers_rush_am_2020['radius'] = quartiers_rush_am_2020['radius'].astype(float)\n",
        "\n",
        "#set stations color\n",
        "\n",
        " quartiers_rush_am_2020['color'] = '#E80018' # red \n",
        " quartiers_rush_am_2020.loc[quartiers_rush_am_2020['net_departures'].between(0,15000), 'color'] = '#00E85C' # green\n",
        " \n",
        " lat = quartiers_rush_am_2020['centroid_latitude'].values\n",
        " lon = quartiers_rush_am_2020['centroid_longitude'].values\n",
        " name = quartiers_rush_am_2020['Arrondissement'].values\n",
        " rad = quartiers_rush_am_2020['radius'].values\n",
        " color = quartiers_rush_am_2020['color'].values\n",
        " net_dep = quartiers_rush_am_2020['net_departures']\n",
        " \n",
        "#populate map\n",
        "for _lat, _lon, _rad, _color, _name, _nd in zip(lat, lon, rad, color, name, net_dep):\n",
        "  folium.Circle(location = [_lat, _lon], \n",
        "  radius = math.sqrt(_rad*6),\n",
        "  color = _color,\n",
        "  tooltip = _name +  \"/ net. dep:\" +str(_nd),\n",
        "  fill = True).add_to(map2020v1)\n",
        "\n",
        "#save map\n",
        "g = 'Maps/map2020v1.html'\n",
        "map2020v1.save(g)"
      ],
      "execution_count": null,
      "outputs": []
    },
    {
      "cell_type": "code",
      "metadata": {
        "id": "O-qyKnf-fXqm"
      },
      "source": [
        "# Generate map for evening commute\n",
        "\n",
        "def densityMap(quartiers_rush_pm_2020):\n",
        " \n",
        " #generate a new map\n",
        " Montreal = [45.508154, -73.587450]\n",
        " map2020v2 = folium.Map(location = Montreal,\n",
        " zoom_start = 13,\n",
        " tiles = 'CartoDB positron')\n",
        "\n",
        "#calculate stations radius\n",
        " quartiers_rush_pm_2020['radius'] = pd.Series(index=quartiers_rush_pm_2020.index)\n",
        " quartiers_rush_pm_2020['radius'] = np.abs(quartiers_rush_pm_2020['net_departures'])\n",
        " quartiers_rush_pm_2020['radius'] = quartiers_rush_pm_2020['radius'].astype(float)\n",
        " #set stations color\n",
        " quartiers_rush_pm_2020['color'] = '#E80018' # red \n",
        " quartiers_rush_pm_2020.loc[quartiers_rush_pm_2020['net_departures'].between(0,15000), 'color'] = '#00E85C' # green\n",
        " \n",
        " lat = quartiers_rush_pm_2020['centroid_latitude'].values\n",
        " lon = quartiers_rush_pm_2020['centroid_longitude'].values\n",
        " name = quartiers_rush_pm_2020['Arrondissement'].values\n",
        " rad = quartiers_rush_pm_2020['radius'].values\n",
        " color = quartiers_rush_pm_2020['color'].values\n",
        " net_dep = quartiers_rush_pm_2020['net_departures']\n",
        " \n",
        "#populate map\n",
        "for _lat, _lon, _rad, _color, _name, _nd in zip(lat, lon, rad, color, name, net_dep):\n",
        "  folium.Circle(location = [_lat, _lon], \n",
        "  radius = math.sqrt(_rad*50),\n",
        "  color = _color,\n",
        "  tooltip = _name +  \"/ net. dep:\" +str(_nd),\n",
        "  fill = True).add_to(map2020v2)\n",
        "\n",
        "#save map\n",
        "g = 'Maps/map2020v2.html'\n",
        "map2020v2.save(g)"
      ],
      "execution_count": null,
      "outputs": []
    }
  ]
}